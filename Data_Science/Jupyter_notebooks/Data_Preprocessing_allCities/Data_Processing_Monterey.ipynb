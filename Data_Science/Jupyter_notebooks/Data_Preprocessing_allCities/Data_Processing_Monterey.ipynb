{
 "cells": [
  {
   "cell_type": "code",
   "execution_count": 10,
   "metadata": {},
   "outputs": [],
   "source": [
    "import pandas as pd\n",
    "import numpy as np"
   ]
  },
  {
   "cell_type": "code",
   "execution_count": 11,
   "metadata": {},
   "outputs": [],
   "source": [
    "reviews = pd.read_excel('Monterey_POI_Reviews.xlsx')\n",
    "nearby = pd.read_excel('Monterey_POI_NearBy.xlsx')"
   ]
  },
  {
   "cell_type": "code",
   "execution_count": 12,
   "metadata": {},
   "outputs": [
    {
     "data": {
      "text/html": [
       "<div>\n",
       "<style scoped>\n",
       "    .dataframe tbody tr th:only-of-type {\n",
       "        vertical-align: middle;\n",
       "    }\n",
       "\n",
       "    .dataframe tbody tr th {\n",
       "        vertical-align: top;\n",
       "    }\n",
       "\n",
       "    .dataframe thead th {\n",
       "        text-align: right;\n",
       "    }\n",
       "</style>\n",
       "<table border=\"1\" class=\"dataframe\">\n",
       "  <thead>\n",
       "    <tr style=\"text-align: right;\">\n",
       "      <th></th>\n",
       "      <th>POI_name</th>\n",
       "      <th>POI_reviews_count</th>\n",
       "      <th>POI_category</th>\n",
       "      <th>POI_description</th>\n",
       "      <th>POI_hours_today</th>\n",
       "      <th>POI_address/sugg_duration</th>\n",
       "      <th>POI_address2</th>\n",
       "      <th>POI_rating</th>\n",
       "      <th>POI_address3</th>\n",
       "      <th>POI_address/sugg_duration.1</th>\n",
       "      <th>POI_category2</th>\n",
       "      <th>Nothing</th>\n",
       "      <th>POI_open-close_hours</th>\n",
       "      <th>POI_reviews</th>\n",
       "      <th>Root</th>\n",
       "    </tr>\n",
       "  </thead>\n",
       "  <tbody>\n",
       "    <tr>\n",
       "      <th>0</th>\n",
       "      <td>Monterey Bay Aquarium</td>\n",
       "      <td>14,119 Reviews</td>\n",
       "      <td>Aquarium</td>\n",
       "      <td>Located at the ocean's edge, the Monterey Bay ...</td>\n",
       "      <td>NaN</td>\n",
       "      <td>Suggested Duration:More than 3 hours</td>\n",
       "      <td>NaN</td>\n",
       "      <td>4.5</td>\n",
       "      <td>886 Cannery Row, Monterey, CA 93940-1085</td>\n",
       "      <td>Suggested Duration:More than 3 hours</td>\n",
       "      <td>NaN</td>\n",
       "      <td>NaN</td>\n",
       "      <td>NaN</td>\n",
       "      <td>This is the gem of this area and the place tha...</td>\n",
       "      <td>NaN</td>\n",
       "    </tr>\n",
       "    <tr>\n",
       "      <th>1</th>\n",
       "      <td>Monterey Bay Aquarium</td>\n",
       "      <td>14,119 Reviews</td>\n",
       "      <td>Aquarium</td>\n",
       "      <td>Located at the ocean's edge, the Monterey Bay ...</td>\n",
       "      <td>NaN</td>\n",
       "      <td>Suggested Duration:More than 3 hours</td>\n",
       "      <td>NaN</td>\n",
       "      <td>4.5</td>\n",
       "      <td>886 Cannery Row, Monterey, CA 93940-1085</td>\n",
       "      <td>Suggested Duration:More than 3 hours</td>\n",
       "      <td>NaN</td>\n",
       "      <td>NaN</td>\n",
       "      <td>NaN</td>\n",
       "      <td>Definitely must go on your visit. Very knowled...</td>\n",
       "      <td>NaN</td>\n",
       "    </tr>\n",
       "    <tr>\n",
       "      <th>2</th>\n",
       "      <td>Monterey Bay Aquarium</td>\n",
       "      <td>14,119 Reviews</td>\n",
       "      <td>Aquarium</td>\n",
       "      <td>Located at the ocean's edge, the Monterey Bay ...</td>\n",
       "      <td>NaN</td>\n",
       "      <td>Suggested Duration:More than 3 hours</td>\n",
       "      <td>NaN</td>\n",
       "      <td>4.5</td>\n",
       "      <td>886 Cannery Row, Monterey, CA 93940-1085</td>\n",
       "      <td>Suggested Duration:More than 3 hours</td>\n",
       "      <td>NaN</td>\n",
       "      <td>NaN</td>\n",
       "      <td>NaN</td>\n",
       "      <td>When we went, it was closed because of Covid, ...</td>\n",
       "      <td>NaN</td>\n",
       "    </tr>\n",
       "    <tr>\n",
       "      <th>3</th>\n",
       "      <td>Monterey Bay Aquarium</td>\n",
       "      <td>14,119 Reviews</td>\n",
       "      <td>Aquarium</td>\n",
       "      <td>Located at the ocean's edge, the Monterey Bay ...</td>\n",
       "      <td>NaN</td>\n",
       "      <td>Suggested Duration:More than 3 hours</td>\n",
       "      <td>NaN</td>\n",
       "      <td>4.5</td>\n",
       "      <td>886 Cannery Row, Monterey, CA 93940-1085</td>\n",
       "      <td>Suggested Duration:More than 3 hours</td>\n",
       "      <td>NaN</td>\n",
       "      <td>NaN</td>\n",
       "      <td>NaN</td>\n",
       "      <td>learn, touch, and be amazed -- a world leading...</td>\n",
       "      <td>NaN</td>\n",
       "    </tr>\n",
       "    <tr>\n",
       "      <th>4</th>\n",
       "      <td>Monterey Bay Aquarium</td>\n",
       "      <td>14,119 Reviews</td>\n",
       "      <td>Aquarium</td>\n",
       "      <td>Located at the ocean's edge, the Monterey Bay ...</td>\n",
       "      <td>NaN</td>\n",
       "      <td>Suggested Duration:More than 3 hours</td>\n",
       "      <td>NaN</td>\n",
       "      <td>4.5</td>\n",
       "      <td>886 Cannery Row, Monterey, CA 93940-1085</td>\n",
       "      <td>Suggested Duration:More than 3 hours</td>\n",
       "      <td>NaN</td>\n",
       "      <td>NaN</td>\n",
       "      <td>NaN</td>\n",
       "      <td>This aquarium is world rebound for a reason. T...</td>\n",
       "      <td>NaN</td>\n",
       "    </tr>\n",
       "  </tbody>\n",
       "</table>\n",
       "</div>"
      ],
      "text/plain": [
       "                POI_name POI_reviews_count POI_category  \\\n",
       "0  Monterey Bay Aquarium    14,119 Reviews     Aquarium   \n",
       "1  Monterey Bay Aquarium    14,119 Reviews     Aquarium   \n",
       "2  Monterey Bay Aquarium    14,119 Reviews     Aquarium   \n",
       "3  Monterey Bay Aquarium    14,119 Reviews     Aquarium   \n",
       "4  Monterey Bay Aquarium    14,119 Reviews     Aquarium   \n",
       "\n",
       "                                     POI_description POI_hours_today  \\\n",
       "0  Located at the ocean's edge, the Monterey Bay ...             NaN   \n",
       "1  Located at the ocean's edge, the Monterey Bay ...             NaN   \n",
       "2  Located at the ocean's edge, the Monterey Bay ...             NaN   \n",
       "3  Located at the ocean's edge, the Monterey Bay ...             NaN   \n",
       "4  Located at the ocean's edge, the Monterey Bay ...             NaN   \n",
       "\n",
       "              POI_address/sugg_duration POI_address2  POI_rating  \\\n",
       "0  Suggested Duration:More than 3 hours          NaN         4.5   \n",
       "1  Suggested Duration:More than 3 hours          NaN         4.5   \n",
       "2  Suggested Duration:More than 3 hours          NaN         4.5   \n",
       "3  Suggested Duration:More than 3 hours          NaN         4.5   \n",
       "4  Suggested Duration:More than 3 hours          NaN         4.5   \n",
       "\n",
       "                               POI_address3  \\\n",
       "0  886 Cannery Row, Monterey, CA 93940-1085   \n",
       "1  886 Cannery Row, Monterey, CA 93940-1085   \n",
       "2  886 Cannery Row, Monterey, CA 93940-1085   \n",
       "3  886 Cannery Row, Monterey, CA 93940-1085   \n",
       "4  886 Cannery Row, Monterey, CA 93940-1085   \n",
       "\n",
       "            POI_address/sugg_duration.1 POI_category2  Nothing  \\\n",
       "0  Suggested Duration:More than 3 hours           NaN      NaN   \n",
       "1  Suggested Duration:More than 3 hours           NaN      NaN   \n",
       "2  Suggested Duration:More than 3 hours           NaN      NaN   \n",
       "3  Suggested Duration:More than 3 hours           NaN      NaN   \n",
       "4  Suggested Duration:More than 3 hours           NaN      NaN   \n",
       "\n",
       "  POI_open-close_hours                                        POI_reviews  \\\n",
       "0                  NaN  This is the gem of this area and the place tha...   \n",
       "1                  NaN  Definitely must go on your visit. Very knowled...   \n",
       "2                  NaN  When we went, it was closed because of Covid, ...   \n",
       "3                  NaN  learn, touch, and be amazed -- a world leading...   \n",
       "4                  NaN  This aquarium is world rebound for a reason. T...   \n",
       "\n",
       "   Root  \n",
       "0   NaN  \n",
       "1   NaN  \n",
       "2   NaN  \n",
       "3   NaN  \n",
       "4   NaN  "
      ]
     },
     "execution_count": 12,
     "metadata": {},
     "output_type": "execute_result"
    }
   ],
   "source": [
    "reviews.head()"
   ]
  },
  {
   "cell_type": "code",
   "execution_count": 13,
   "metadata": {},
   "outputs": [
    {
     "name": "stdout",
     "output_type": "stream",
     "text": [
      "\n",
      "\n",
      "Count of null values column-wise:\n"
     ]
    },
    {
     "data": {
      "text/plain": [
       "POI_name                         0\n",
       "POI_reviews_count                0\n",
       "POI_category                     0\n",
       "POI_description                535\n",
       "POI_hours_today                827\n",
       "POI_address/sugg_duration      796\n",
       "POI_address2                   902\n",
       "POI_rating                     657\n",
       "POI_address3                    62\n",
       "POI_address/sugg_duration.1    485\n",
       "POI_category2                  927\n",
       "Nothing                        977\n",
       "POI_open-close_hours           877\n",
       "POI_reviews                      0\n",
       "Root                           977\n",
       "dtype: int64"
      ]
     },
     "execution_count": 13,
     "metadata": {},
     "output_type": "execute_result"
    }
   ],
   "source": [
    "print('\\n')\n",
    "print(\"Count of null values column-wise:\")\n",
    "reviews.isna().sum()"
   ]
  },
  {
   "cell_type": "code",
   "execution_count": 14,
   "metadata": {},
   "outputs": [],
   "source": [
    "POI_sugg_durations = []\n",
    "col = 'POI_address/sugg_duration'\n",
    "for i in range(len(reviews[col])):\n",
    "    value = reviews[col][i]\n",
    "    \n",
    "    if str(value).startswith('Suggested'):\n",
    "        POI_sugg_durations.append(value)\n",
    "    else:\n",
    "        POI_sugg_durations.append(\"NA\")"
   ]
  },
  {
   "cell_type": "code",
   "execution_count": 15,
   "metadata": {},
   "outputs": [],
   "source": [
    "reviews[\"POI_Suggested_Duration\"] = POI_sugg_durations"
   ]
  },
  {
   "cell_type": "code",
   "execution_count": 16,
   "metadata": {},
   "outputs": [],
   "source": [
    "final_reviews = reviews[[\"POI_name\", \"POI_reviews_count\",\"POI_category\", \"POI_description\", \n",
    "                   \"POI_rating\", \"POI_address3\", \"POI_Suggested_Duration\", \"POI_open-close_hours\", \"POI_reviews\"]]"
   ]
  },
  {
   "cell_type": "code",
   "execution_count": 17,
   "metadata": {},
   "outputs": [],
   "source": [
    "final_reviews.columns = [\"POI_name\", \"POI_reviews_count\",\"POI_category\", \"POI_description\", \n",
    "                   \"POI_rating\", \"POI_address\", \"POI_Suggested_Duration\", \"POI_open_close_hours\", \"POI_reviews\"]"
   ]
  },
  {
   "cell_type": "code",
   "execution_count": 20,
   "metadata": {},
   "outputs": [
    {
     "name": "stderr",
     "output_type": "stream",
     "text": [
      "<ipython-input-20-0fc5d20d5720>:1: SettingWithCopyWarning: \n",
      "A value is trying to be set on a copy of a slice from a DataFrame.\n",
      "Try using .loc[row_indexer,col_indexer] = value instead\n",
      "\n",
      "See the caveats in the documentation: https://pandas.pydata.org/pandas-docs/stable/user_guide/indexing.html#returning-a-view-versus-a-copy\n",
      "  final_reviews['POI_reviews_count'] = final_reviews['POI_reviews_count'].str.replace('Reviews', \"\")\n",
      "<ipython-input-20-0fc5d20d5720>:2: SettingWithCopyWarning: \n",
      "A value is trying to be set on a copy of a slice from a DataFrame.\n",
      "Try using .loc[row_indexer,col_indexer] = value instead\n",
      "\n",
      "See the caveats in the documentation: https://pandas.pydata.org/pandas-docs/stable/user_guide/indexing.html#returning-a-view-versus-a-copy\n",
      "  final_reviews['POI_reviews_count'] = final_reviews['POI_reviews_count'].str.replace(\",\",\"\")\n",
      "<ipython-input-20-0fc5d20d5720>:3: SettingWithCopyWarning: \n",
      "A value is trying to be set on a copy of a slice from a DataFrame.\n",
      "Try using .loc[row_indexer,col_indexer] = value instead\n",
      "\n",
      "See the caveats in the documentation: https://pandas.pydata.org/pandas-docs/stable/user_guide/indexing.html#returning-a-view-versus-a-copy\n",
      "  final_reviews['POI_reviews_count'] = final_reviews['POI_reviews_count'].str.strip().astype(int)\n"
     ]
    },
    {
     "data": {
      "text/plain": [
       "0      14119\n",
       "1      14119\n",
       "2      14119\n",
       "3      14119\n",
       "4      14119\n",
       "       ...  \n",
       "972       12\n",
       "973       12\n",
       "974       12\n",
       "975       12\n",
       "976       12\n",
       "Name: POI_reviews_count, Length: 977, dtype: int32"
      ]
     },
     "execution_count": 20,
     "metadata": {},
     "output_type": "execute_result"
    }
   ],
   "source": [
    "final_reviews['POI_reviews_count'] = final_reviews['POI_reviews_count'].str.replace('Reviews', \"\")\n",
    "final_reviews['POI_reviews_count'] = final_reviews['POI_reviews_count'].str.replace(\",\",\"\")\n",
    "final_reviews['POI_reviews_count'] = final_reviews['POI_reviews_count'].str.strip().astype(int)\n",
    "final_reviews['POI_reviews_count']"
   ]
  },
  {
   "cell_type": "code",
   "execution_count": 21,
   "metadata": {},
   "outputs": [
    {
     "name": "stderr",
     "output_type": "stream",
     "text": [
      "<ipython-input-21-622a4103df62>:1: SettingWithCopyWarning: \n",
      "A value is trying to be set on a copy of a slice from a DataFrame.\n",
      "Try using .loc[row_indexer,col_indexer] = value instead\n",
      "\n",
      "See the caveats in the documentation: https://pandas.pydata.org/pandas-docs/stable/user_guide/indexing.html#returning-a-view-versus-a-copy\n",
      "  final_reviews['POI_rating'] = final_reviews['POI_rating'].fillna(method='ffill')\n"
     ]
    },
    {
     "data": {
      "text/plain": [
       "POI_name                    0\n",
       "POI_reviews_count           0\n",
       "POI_category                0\n",
       "POI_description           535\n",
       "POI_rating                  0\n",
       "POI_address                62\n",
       "POI_Suggested_Duration      0\n",
       "POI_open_close_hours      877\n",
       "POI_reviews                 0\n",
       "dtype: int64"
      ]
     },
     "execution_count": 21,
     "metadata": {},
     "output_type": "execute_result"
    }
   ],
   "source": [
    "final_reviews['POI_rating'] = final_reviews['POI_rating'].fillna(method='ffill')\n",
    "final_reviews.isna().sum()"
   ]
  },
  {
   "cell_type": "code",
   "execution_count": 22,
   "metadata": {},
   "outputs": [],
   "source": [
    "final_reviews.to_csv (r'C:\\Users\\Anurag\\Documents\\TA_data\\New data\\All_Data\\Preprocessed_data\\Monterey_reviews.csv', index = False, header=True)"
   ]
  },
  {
   "cell_type": "code",
   "execution_count": null,
   "metadata": {},
   "outputs": [],
   "source": []
  }
 ],
 "metadata": {
  "kernelspec": {
   "display_name": "Python 3",
   "language": "python",
   "name": "python3"
  },
  "language_info": {
   "codemirror_mode": {
    "name": "ipython",
    "version": 3
   },
   "file_extension": ".py",
   "mimetype": "text/x-python",
   "name": "python",
   "nbconvert_exporter": "python",
   "pygments_lexer": "ipython3",
   "version": "3.8.5"
  }
 },
 "nbformat": 4,
 "nbformat_minor": 4
}
