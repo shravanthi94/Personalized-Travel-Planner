{
 "cells": [
  {
   "cell_type": "code",
   "execution_count": 21,
   "metadata": {},
   "outputs": [],
   "source": [
    "import pandas as pd\n",
    "import numpy as np"
   ]
  },
  {
   "cell_type": "code",
   "execution_count": 22,
   "metadata": {},
   "outputs": [],
   "source": [
    "reviews = pd.read_csv('LA_Reviews_New.csv')\n",
    "nearby = pd.read_excel('LA_POI_NearBy.xlsx')"
   ]
  },
  {
   "cell_type": "code",
   "execution_count": 23,
   "metadata": {},
   "outputs": [
    {
     "data": {
      "text/html": [
       "<div>\n",
       "<style scoped>\n",
       "    .dataframe tbody tr th:only-of-type {\n",
       "        vertical-align: middle;\n",
       "    }\n",
       "\n",
       "    .dataframe tbody tr th {\n",
       "        vertical-align: top;\n",
       "    }\n",
       "\n",
       "    .dataframe thead th {\n",
       "        text-align: right;\n",
       "    }\n",
       "</style>\n",
       "<table border=\"1\" class=\"dataframe\">\n",
       "  <thead>\n",
       "    <tr style=\"text-align: right;\">\n",
       "      <th></th>\n",
       "      <th>POI_name</th>\n",
       "      <th>POI_reviews_count</th>\n",
       "      <th>POI_category</th>\n",
       "      <th>POI_description</th>\n",
       "      <th>POI_hours_today</th>\n",
       "      <th>POI_address/sugg_duration</th>\n",
       "      <th>POI_address2</th>\n",
       "      <th>POI_rating</th>\n",
       "      <th>POI_address3</th>\n",
       "      <th>POI_sugg_hour</th>\n",
       "      <th>category2</th>\n",
       "      <th>Text12</th>\n",
       "      <th>POI_open-close_hours</th>\n",
       "      <th>POI_reviews</th>\n",
       "      <th>Root</th>\n",
       "    </tr>\n",
       "  </thead>\n",
       "  <tbody>\n",
       "    <tr>\n",
       "      <th>0</th>\n",
       "      <td>The Getty Center</td>\n",
       "      <td>14,503 Reviews</td>\n",
       "      <td>Specialty Museums</td>\n",
       "      <td>Spectacular museum boasts a most impressive co...</td>\n",
       "      <td>Hours Today: 10:00 AM - 5:30 PM</td>\n",
       "      <td>Suggested Duration:2-3 hours</td>\n",
       "      <td>1200 Getty Center Dr N Sepulveda Blvd &amp; Getty ...</td>\n",
       "      <td>5.0</td>\n",
       "      <td>1200 Getty Center Dr N Sepulveda Blvd &amp; Getty ...</td>\n",
       "      <td>Open Now\\nHours Today: 10:00 AM - 5:30 PM\\nSee...</td>\n",
       "      <td>NaN</td>\n",
       "      <td>NaN</td>\n",
       "      <td>NaN</td>\n",
       "      <td>We visited the  Getty Center, which is located...</td>\n",
       "      <td>undefined</td>\n",
       "    </tr>\n",
       "    <tr>\n",
       "      <th>1</th>\n",
       "      <td>The Getty Center</td>\n",
       "      <td>14,503 Reviews</td>\n",
       "      <td>Specialty Museums</td>\n",
       "      <td>Spectacular museum boasts a most impressive co...</td>\n",
       "      <td>Hours Today: 10:00 AM - 5:30 PM</td>\n",
       "      <td>Suggested Duration:2-3 hours</td>\n",
       "      <td>1200 Getty Center Dr N Sepulveda Blvd &amp; Getty ...</td>\n",
       "      <td>5.0</td>\n",
       "      <td>1200 Getty Center Dr N Sepulveda Blvd &amp; Getty ...</td>\n",
       "      <td>Open Now\\nHours Today: 10:00 AM - 5:30 PM\\nSee...</td>\n",
       "      <td>NaN</td>\n",
       "      <td>NaN</td>\n",
       "      <td>NaN</td>\n",
       "      <td>Getting there is half the experience.  A beaut...</td>\n",
       "      <td>undefined</td>\n",
       "    </tr>\n",
       "    <tr>\n",
       "      <th>2</th>\n",
       "      <td>The Getty Center</td>\n",
       "      <td>14,503 Reviews</td>\n",
       "      <td>Specialty Museums</td>\n",
       "      <td>Spectacular museum boasts a most impressive co...</td>\n",
       "      <td>Hours Today: 10:00 AM - 5:30 PM</td>\n",
       "      <td>Suggested Duration:2-3 hours</td>\n",
       "      <td>1200 Getty Center Dr N Sepulveda Blvd &amp; Getty ...</td>\n",
       "      <td>5.0</td>\n",
       "      <td>1200 Getty Center Dr N Sepulveda Blvd &amp; Getty ...</td>\n",
       "      <td>Open Now\\nHours Today: 10:00 AM - 5:30 PM\\nSee...</td>\n",
       "      <td>NaN</td>\n",
       "      <td>NaN</td>\n",
       "      <td>NaN</td>\n",
       "      <td>One of the best museums around socal! Must go!...</td>\n",
       "      <td>undefined</td>\n",
       "    </tr>\n",
       "    <tr>\n",
       "      <th>3</th>\n",
       "      <td>The Getty Center</td>\n",
       "      <td>14,503 Reviews</td>\n",
       "      <td>Specialty Museums</td>\n",
       "      <td>Spectacular museum boasts a most impressive co...</td>\n",
       "      <td>Hours Today: 10:00 AM - 5:30 PM</td>\n",
       "      <td>Suggested Duration:2-3 hours</td>\n",
       "      <td>1200 Getty Center Dr N Sepulveda Blvd &amp; Getty ...</td>\n",
       "      <td>5.0</td>\n",
       "      <td>1200 Getty Center Dr N Sepulveda Blvd &amp; Getty ...</td>\n",
       "      <td>Open Now\\nHours Today: 10:00 AM - 5:30 PM\\nSee...</td>\n",
       "      <td>NaN</td>\n",
       "      <td>NaN</td>\n",
       "      <td>NaN</td>\n",
       "      <td>A great place to see! I always visit it with m...</td>\n",
       "      <td>undefined</td>\n",
       "    </tr>\n",
       "    <tr>\n",
       "      <th>4</th>\n",
       "      <td>The Getty Center</td>\n",
       "      <td>14,503 Reviews</td>\n",
       "      <td>Specialty Museums</td>\n",
       "      <td>Spectacular museum boasts a most impressive co...</td>\n",
       "      <td>Hours Today: 10:00 AM - 5:30 PM</td>\n",
       "      <td>Suggested Duration:2-3 hours</td>\n",
       "      <td>1200 Getty Center Dr N Sepulveda Blvd &amp; Getty ...</td>\n",
       "      <td>5.0</td>\n",
       "      <td>1200 Getty Center Dr N Sepulveda Blvd &amp; Getty ...</td>\n",
       "      <td>Open Now\\nHours Today: 10:00 AM - 5:30 PM\\nSee...</td>\n",
       "      <td>NaN</td>\n",
       "      <td>NaN</td>\n",
       "      <td>NaN</td>\n",
       "      <td>Surprisingly cool, even on hot days. The garde...</td>\n",
       "      <td>undefined</td>\n",
       "    </tr>\n",
       "  </tbody>\n",
       "</table>\n",
       "</div>"
      ],
      "text/plain": [
       "           POI_name POI_reviews_count       POI_category  \\\n",
       "0  The Getty Center    14,503 Reviews  Specialty Museums   \n",
       "1  The Getty Center    14,503 Reviews  Specialty Museums   \n",
       "2  The Getty Center    14,503 Reviews  Specialty Museums   \n",
       "3  The Getty Center    14,503 Reviews  Specialty Museums   \n",
       "4  The Getty Center    14,503 Reviews  Specialty Museums   \n",
       "\n",
       "                                     POI_description  \\\n",
       "0  Spectacular museum boasts a most impressive co...   \n",
       "1  Spectacular museum boasts a most impressive co...   \n",
       "2  Spectacular museum boasts a most impressive co...   \n",
       "3  Spectacular museum boasts a most impressive co...   \n",
       "4  Spectacular museum boasts a most impressive co...   \n",
       "\n",
       "                   POI_hours_today     POI_address/sugg_duration  \\\n",
       "0  Hours Today: 10:00 AM - 5:30 PM  Suggested Duration:2-3 hours   \n",
       "1  Hours Today: 10:00 AM - 5:30 PM  Suggested Duration:2-3 hours   \n",
       "2  Hours Today: 10:00 AM - 5:30 PM  Suggested Duration:2-3 hours   \n",
       "3  Hours Today: 10:00 AM - 5:30 PM  Suggested Duration:2-3 hours   \n",
       "4  Hours Today: 10:00 AM - 5:30 PM  Suggested Duration:2-3 hours   \n",
       "\n",
       "                                        POI_address2  POI_rating  \\\n",
       "0  1200 Getty Center Dr N Sepulveda Blvd & Getty ...         5.0   \n",
       "1  1200 Getty Center Dr N Sepulveda Blvd & Getty ...         5.0   \n",
       "2  1200 Getty Center Dr N Sepulveda Blvd & Getty ...         5.0   \n",
       "3  1200 Getty Center Dr N Sepulveda Blvd & Getty ...         5.0   \n",
       "4  1200 Getty Center Dr N Sepulveda Blvd & Getty ...         5.0   \n",
       "\n",
       "                                        POI_address3  \\\n",
       "0  1200 Getty Center Dr N Sepulveda Blvd & Getty ...   \n",
       "1  1200 Getty Center Dr N Sepulveda Blvd & Getty ...   \n",
       "2  1200 Getty Center Dr N Sepulveda Blvd & Getty ...   \n",
       "3  1200 Getty Center Dr N Sepulveda Blvd & Getty ...   \n",
       "4  1200 Getty Center Dr N Sepulveda Blvd & Getty ...   \n",
       "\n",
       "                                       POI_sugg_hour category2 Text12  \\\n",
       "0  Open Now\\nHours Today: 10:00 AM - 5:30 PM\\nSee...       NaN    NaN   \n",
       "1  Open Now\\nHours Today: 10:00 AM - 5:30 PM\\nSee...       NaN    NaN   \n",
       "2  Open Now\\nHours Today: 10:00 AM - 5:30 PM\\nSee...       NaN    NaN   \n",
       "3  Open Now\\nHours Today: 10:00 AM - 5:30 PM\\nSee...       NaN    NaN   \n",
       "4  Open Now\\nHours Today: 10:00 AM - 5:30 PM\\nSee...       NaN    NaN   \n",
       "\n",
       "  POI_open-close_hours                                        POI_reviews  \\\n",
       "0                  NaN  We visited the  Getty Center, which is located...   \n",
       "1                  NaN  Getting there is half the experience.  A beaut...   \n",
       "2                  NaN  One of the best museums around socal! Must go!...   \n",
       "3                  NaN  A great place to see! I always visit it with m...   \n",
       "4                  NaN  Surprisingly cool, even on hot days. The garde...   \n",
       "\n",
       "        Root  \n",
       "0  undefined  \n",
       "1  undefined  \n",
       "2  undefined  \n",
       "3  undefined  \n",
       "4  undefined  "
      ]
     },
     "execution_count": 23,
     "metadata": {},
     "output_type": "execute_result"
    }
   ],
   "source": [
    "reviews.head()"
   ]
  },
  {
   "cell_type": "code",
   "execution_count": 24,
   "metadata": {},
   "outputs": [
    {
     "data": {
      "text/plain": [
       "POI_name                        0\n",
       "POI_reviews_count               0\n",
       "POI_category                  476\n",
       "POI_description               476\n",
       "POI_hours_today               976\n",
       "POI_address/sugg_duration     726\n",
       "POI_address2                 1151\n",
       "POI_rating                    526\n",
       "POI_address3                    0\n",
       "POI_sugg_hour                 476\n",
       "category2                    1287\n",
       "Text12                       1687\n",
       "POI_open-close_hours         1102\n",
       "POI_reviews                     0\n",
       "Root                           41\n",
       "dtype: int64"
      ]
     },
     "execution_count": 24,
     "metadata": {},
     "output_type": "execute_result"
    }
   ],
   "source": [
    "reviews.isna().sum()"
   ]
  },
  {
   "cell_type": "code",
   "execution_count": 25,
   "metadata": {},
   "outputs": [],
   "source": [
    "POI_sugg_durations = []\n",
    "col = 'POI_address/sugg_duration'\n",
    "col2 = 'POI_sugg_hour'\n",
    "for i in range(len(reviews[col])):\n",
    "    value = reviews[col][i]\n",
    "    value2 = reviews[col2][i]\n",
    "    \n",
    "    if str(value).startswith('Suggested'):\n",
    "        POI_sugg_durations.append(value)\n",
    "    elif str(value2).startswith('Suggested'):\n",
    "        POI_sugg_durations.append(value2)\n",
    "    else:\n",
    "        POI_sugg_durations.append(\"NA\")\n",
    "        \n",
    "reviews[\"POI_Suggested_Duration\"] = POI_sugg_durations"
   ]
  },
  {
   "cell_type": "code",
   "execution_count": 26,
   "metadata": {},
   "outputs": [],
   "source": [
    "final_reviews = reviews[[\"POI_name\", \"POI_reviews_count\",\"POI_category\", \"POI_description\", \n",
    "                   \"POI_rating\", \"POI_address3\", \"POI_Suggested_Duration\", \"POI_open-close_hours\", \"POI_reviews\"]]"
   ]
  },
  {
   "cell_type": "code",
   "execution_count": 27,
   "metadata": {},
   "outputs": [],
   "source": [
    "final_reviews.columns = [\"POI_name\", \"POI_reviews_count\",\"POI_category\", \"POI_description\", \n",
    "                   \"POI_rating\", \"POI_address\", \"POI_Suggested_Duration\", \"POI_open_close_hours\", \"POI_reviews\"]"
   ]
  },
  {
   "cell_type": "code",
   "execution_count": 28,
   "metadata": {},
   "outputs": [
    {
     "name": "stderr",
     "output_type": "stream",
     "text": [
      "<ipython-input-28-42edeb49ed32>:1: SettingWithCopyWarning: \n",
      "A value is trying to be set on a copy of a slice from a DataFrame.\n",
      "Try using .loc[row_indexer,col_indexer] = value instead\n",
      "\n",
      "See the caveats in the documentation: https://pandas.pydata.org/pandas-docs/stable/user_guide/indexing.html#returning-a-view-versus-a-copy\n",
      "  final_reviews['POI_reviews_count'] = final_reviews['POI_reviews_count'].str.replace('Reviews', \"\")\n",
      "<ipython-input-28-42edeb49ed32>:2: SettingWithCopyWarning: \n",
      "A value is trying to be set on a copy of a slice from a DataFrame.\n",
      "Try using .loc[row_indexer,col_indexer] = value instead\n",
      "\n",
      "See the caveats in the documentation: https://pandas.pydata.org/pandas-docs/stable/user_guide/indexing.html#returning-a-view-versus-a-copy\n",
      "  final_reviews['POI_reviews_count'] = final_reviews['POI_reviews_count'].str.replace(\",\",\"\")\n",
      "<ipython-input-28-42edeb49ed32>:3: SettingWithCopyWarning: \n",
      "A value is trying to be set on a copy of a slice from a DataFrame.\n",
      "Try using .loc[row_indexer,col_indexer] = value instead\n",
      "\n",
      "See the caveats in the documentation: https://pandas.pydata.org/pandas-docs/stable/user_guide/indexing.html#returning-a-view-versus-a-copy\n",
      "  final_reviews['POI_reviews_count'] = final_reviews['POI_reviews_count'].str.strip().astype(int)\n"
     ]
    }
   ],
   "source": [
    "final_reviews['POI_reviews_count'] = final_reviews['POI_reviews_count'].str.replace('Reviews', \"\")\n",
    "final_reviews['POI_reviews_count'] = final_reviews['POI_reviews_count'].str.replace(\",\",\"\")\n",
    "final_reviews['POI_reviews_count'] = final_reviews['POI_reviews_count'].str.strip().astype(int)"
   ]
  },
  {
   "cell_type": "code",
   "execution_count": 29,
   "metadata": {},
   "outputs": [
    {
     "name": "stderr",
     "output_type": "stream",
     "text": [
      "<ipython-input-29-622a4103df62>:1: SettingWithCopyWarning: \n",
      "A value is trying to be set on a copy of a slice from a DataFrame.\n",
      "Try using .loc[row_indexer,col_indexer] = value instead\n",
      "\n",
      "See the caveats in the documentation: https://pandas.pydata.org/pandas-docs/stable/user_guide/indexing.html#returning-a-view-versus-a-copy\n",
      "  final_reviews['POI_rating'] = final_reviews['POI_rating'].fillna(method='ffill')\n"
     ]
    },
    {
     "data": {
      "text/plain": [
       "POI_name                     0\n",
       "POI_reviews_count            0\n",
       "POI_category               476\n",
       "POI_description            476\n",
       "POI_rating                   0\n",
       "POI_address                  0\n",
       "POI_Suggested_Duration       0\n",
       "POI_open_close_hours      1102\n",
       "POI_reviews                  0\n",
       "dtype: int64"
      ]
     },
     "execution_count": 29,
     "metadata": {},
     "output_type": "execute_result"
    }
   ],
   "source": [
    "final_reviews['POI_rating'] = final_reviews['POI_rating'].fillna(method='ffill')\n",
    "final_reviews.isna().sum()"
   ]
  },
  {
   "cell_type": "code",
   "execution_count": 30,
   "metadata": {},
   "outputs": [],
   "source": [
    "final_reviews.to_csv (r'C:\\Users\\Anurag\\Documents\\TA_data\\New data\\All_Data\\Preprocessed_data\\LA_reviews.csv', index = False, header=True)"
   ]
  },
  {
   "cell_type": "code",
   "execution_count": null,
   "metadata": {},
   "outputs": [],
   "source": []
  }
 ],
 "metadata": {
  "kernelspec": {
   "display_name": "Python 3",
   "language": "python",
   "name": "python3"
  },
  "language_info": {
   "codemirror_mode": {
    "name": "ipython",
    "version": 3
   },
   "file_extension": ".py",
   "mimetype": "text/x-python",
   "name": "python",
   "nbconvert_exporter": "python",
   "pygments_lexer": "ipython3",
   "version": "3.8.5"
  }
 },
 "nbformat": 4,
 "nbformat_minor": 4
}
