{
 "cells": [
  {
   "cell_type": "code",
   "execution_count": 9,
   "metadata": {},
   "outputs": [],
   "source": [
    "import pandas as pd\n",
    "import numpy as np"
   ]
  },
  {
   "cell_type": "code",
   "execution_count": 10,
   "metadata": {},
   "outputs": [],
   "source": [
    "reviews = pd.read_csv('Napa_POI_Reviews.csv')\n",
    "nearby = pd.read_csv('Napa_POI_NearBy.csv')"
   ]
  },
  {
   "cell_type": "code",
   "execution_count": 11,
   "metadata": {},
   "outputs": [
    {
     "data": {
      "text/html": [
       "<div>\n",
       "<style scoped>\n",
       "    .dataframe tbody tr th:only-of-type {\n",
       "        vertical-align: middle;\n",
       "    }\n",
       "\n",
       "    .dataframe tbody tr th {\n",
       "        vertical-align: top;\n",
       "    }\n",
       "\n",
       "    .dataframe thead th {\n",
       "        text-align: right;\n",
       "    }\n",
       "</style>\n",
       "<table border=\"1\" class=\"dataframe\">\n",
       "  <thead>\n",
       "    <tr style=\"text-align: right;\">\n",
       "      <th></th>\n",
       "      <th>POI_name</th>\n",
       "      <th>POI_reviews_count</th>\n",
       "      <th>POI_category</th>\n",
       "      <th>POI_description</th>\n",
       "      <th>POI_hours_today</th>\n",
       "      <th>POI_address/sugg_duration</th>\n",
       "      <th>POI_address2</th>\n",
       "      <th>POI_rating</th>\n",
       "      <th>POI_address3</th>\n",
       "      <th>POI_hours_today2</th>\n",
       "      <th>POI_category2</th>\n",
       "      <th>POI_opening_hours</th>\n",
       "      <th>POI_reviews</th>\n",
       "    </tr>\n",
       "  </thead>\n",
       "  <tbody>\n",
       "    <tr>\n",
       "      <th>0</th>\n",
       "      <td>The Hess Collection Winery &amp; Art Museum</td>\n",
       "      <td>998 Reviews</td>\n",
       "      <td>Wineries &amp; Vineyards</td>\n",
       "      <td>Donald Hess established his first Mount Veeder...</td>\n",
       "      <td>Hours Today: 10:00 AM - 4:30 PM</td>\n",
       "      <td>Address:\\n4411 Redwood Rd, Napa, CA 94558-9708Map</td>\n",
       "      <td>NaN</td>\n",
       "      <td>4.5</td>\n",
       "      <td>4411 Redwood Rd, Napa, CA 94558-9708</td>\n",
       "      <td>Closed Now\\nHours Today: 10:00 AM - 4:30 PM\\nS...</td>\n",
       "      <td>Art Museums</td>\n",
       "      <td>NaN</td>\n",
       "      <td>Our trip was very last minute, so we had troub...</td>\n",
       "    </tr>\n",
       "    <tr>\n",
       "      <th>1</th>\n",
       "      <td>The Hess Collection Winery &amp; Art Museum</td>\n",
       "      <td>998 Reviews</td>\n",
       "      <td>Wineries &amp; Vineyards</td>\n",
       "      <td>Donald Hess established his first Mount Veeder...</td>\n",
       "      <td>Hours Today: 10:00 AM - 4:30 PM</td>\n",
       "      <td>Address:\\n4411 Redwood Rd, Napa, CA 94558-9708Map</td>\n",
       "      <td>NaN</td>\n",
       "      <td>4.5</td>\n",
       "      <td>4411 Redwood Rd, Napa, CA 94558-9708</td>\n",
       "      <td>Closed Now\\nHours Today: 10:00 AM - 4:30 PM\\nS...</td>\n",
       "      <td>Art Museums</td>\n",
       "      <td>NaN</td>\n",
       "      <td>Love this winery!! Had a fantastic experience ...</td>\n",
       "    </tr>\n",
       "    <tr>\n",
       "      <th>2</th>\n",
       "      <td>The Hess Collection Winery &amp; Art Museum</td>\n",
       "      <td>998 Reviews</td>\n",
       "      <td>Wineries &amp; Vineyards</td>\n",
       "      <td>Donald Hess established his first Mount Veeder...</td>\n",
       "      <td>Hours Today: 10:00 AM - 4:30 PM</td>\n",
       "      <td>Address:\\n4411 Redwood Rd, Napa, CA 94558-9708Map</td>\n",
       "      <td>NaN</td>\n",
       "      <td>4.5</td>\n",
       "      <td>4411 Redwood Rd, Napa, CA 94558-9708</td>\n",
       "      <td>Closed Now\\nHours Today: 10:00 AM - 4:30 PM\\nS...</td>\n",
       "      <td>Art Museums</td>\n",
       "      <td>NaN</td>\n",
       "      <td>Wow! Absolutely beautiful and surprising!! We ...</td>\n",
       "    </tr>\n",
       "    <tr>\n",
       "      <th>3</th>\n",
       "      <td>The Hess Collection Winery &amp; Art Museum</td>\n",
       "      <td>998 Reviews</td>\n",
       "      <td>Wineries &amp; Vineyards</td>\n",
       "      <td>Donald Hess established his first Mount Veeder...</td>\n",
       "      <td>Hours Today: 10:00 AM - 4:30 PM</td>\n",
       "      <td>Address:\\n4411 Redwood Rd, Napa, CA 94558-9708Map</td>\n",
       "      <td>NaN</td>\n",
       "      <td>4.5</td>\n",
       "      <td>4411 Redwood Rd, Napa, CA 94558-9708</td>\n",
       "      <td>Closed Now\\nHours Today: 10:00 AM - 4:30 PM\\nS...</td>\n",
       "      <td>Art Museums</td>\n",
       "      <td>NaN</td>\n",
       "      <td>Wine was ok. Just pour and drink. Art museum w...</td>\n",
       "    </tr>\n",
       "    <tr>\n",
       "      <th>4</th>\n",
       "      <td>The Hess Collection Winery &amp; Art Museum</td>\n",
       "      <td>998 Reviews</td>\n",
       "      <td>Wineries &amp; Vineyards</td>\n",
       "      <td>Donald Hess established his first Mount Veeder...</td>\n",
       "      <td>Hours Today: 10:00 AM - 4:30 PM</td>\n",
       "      <td>Address:\\n4411 Redwood Rd, Napa, CA 94558-9708Map</td>\n",
       "      <td>NaN</td>\n",
       "      <td>4.5</td>\n",
       "      <td>4411 Redwood Rd, Napa, CA 94558-9708</td>\n",
       "      <td>Closed Now\\nHours Today: 10:00 AM - 4:30 PM\\nS...</td>\n",
       "      <td>Art Museums</td>\n",
       "      <td>NaN</td>\n",
       "      <td>The Hess Collection Winery tasting was a first...</td>\n",
       "    </tr>\n",
       "  </tbody>\n",
       "</table>\n",
       "</div>"
      ],
      "text/plain": [
       "                                  POI_name POI_reviews_count  \\\n",
       "0  The Hess Collection Winery & Art Museum       998 Reviews   \n",
       "1  The Hess Collection Winery & Art Museum       998 Reviews   \n",
       "2  The Hess Collection Winery & Art Museum       998 Reviews   \n",
       "3  The Hess Collection Winery & Art Museum       998 Reviews   \n",
       "4  The Hess Collection Winery & Art Museum       998 Reviews   \n",
       "\n",
       "           POI_category                                    POI_description  \\\n",
       "0  Wineries & Vineyards  Donald Hess established his first Mount Veeder...   \n",
       "1  Wineries & Vineyards  Donald Hess established his first Mount Veeder...   \n",
       "2  Wineries & Vineyards  Donald Hess established his first Mount Veeder...   \n",
       "3  Wineries & Vineyards  Donald Hess established his first Mount Veeder...   \n",
       "4  Wineries & Vineyards  Donald Hess established his first Mount Veeder...   \n",
       "\n",
       "                   POI_hours_today  \\\n",
       "0  Hours Today: 10:00 AM - 4:30 PM   \n",
       "1  Hours Today: 10:00 AM - 4:30 PM   \n",
       "2  Hours Today: 10:00 AM - 4:30 PM   \n",
       "3  Hours Today: 10:00 AM - 4:30 PM   \n",
       "4  Hours Today: 10:00 AM - 4:30 PM   \n",
       "\n",
       "                           POI_address/sugg_duration POI_address2  POI_rating  \\\n",
       "0  Address:\\n4411 Redwood Rd, Napa, CA 94558-9708Map          NaN         4.5   \n",
       "1  Address:\\n4411 Redwood Rd, Napa, CA 94558-9708Map          NaN         4.5   \n",
       "2  Address:\\n4411 Redwood Rd, Napa, CA 94558-9708Map          NaN         4.5   \n",
       "3  Address:\\n4411 Redwood Rd, Napa, CA 94558-9708Map          NaN         4.5   \n",
       "4  Address:\\n4411 Redwood Rd, Napa, CA 94558-9708Map          NaN         4.5   \n",
       "\n",
       "                           POI_address3  \\\n",
       "0  4411 Redwood Rd, Napa, CA 94558-9708   \n",
       "1  4411 Redwood Rd, Napa, CA 94558-9708   \n",
       "2  4411 Redwood Rd, Napa, CA 94558-9708   \n",
       "3  4411 Redwood Rd, Napa, CA 94558-9708   \n",
       "4  4411 Redwood Rd, Napa, CA 94558-9708   \n",
       "\n",
       "                                    POI_hours_today2 POI_category2  \\\n",
       "0  Closed Now\\nHours Today: 10:00 AM - 4:30 PM\\nS...   Art Museums   \n",
       "1  Closed Now\\nHours Today: 10:00 AM - 4:30 PM\\nS...   Art Museums   \n",
       "2  Closed Now\\nHours Today: 10:00 AM - 4:30 PM\\nS...   Art Museums   \n",
       "3  Closed Now\\nHours Today: 10:00 AM - 4:30 PM\\nS...   Art Museums   \n",
       "4  Closed Now\\nHours Today: 10:00 AM - 4:30 PM\\nS...   Art Museums   \n",
       "\n",
       "  POI_opening_hours                                        POI_reviews  \n",
       "0               NaN  Our trip was very last minute, so we had troub...  \n",
       "1               NaN  Love this winery!! Had a fantastic experience ...  \n",
       "2               NaN  Wow! Absolutely beautiful and surprising!! We ...  \n",
       "3               NaN  Wine was ok. Just pour and drink. Art museum w...  \n",
       "4               NaN  The Hess Collection Winery tasting was a first...  "
      ]
     },
     "execution_count": 11,
     "metadata": {},
     "output_type": "execute_result"
    }
   ],
   "source": [
    "reviews.head()"
   ]
  },
  {
   "cell_type": "code",
   "execution_count": 12,
   "metadata": {},
   "outputs": [
    {
     "name": "stdout",
     "output_type": "stream",
     "text": [
      "(1471, 13)\n",
      "Count of null values column-wise:\n"
     ]
    },
    {
     "data": {
      "text/plain": [
       "POI_name                        0\n",
       "POI_reviews_count               0\n",
       "POI_category                    0\n",
       "POI_description               376\n",
       "POI_hours_today               498\n",
       "POI_address/sugg_duration     451\n",
       "POI_address2                  697\n",
       "POI_rating                    451\n",
       "POI_address3                    1\n",
       "POI_hours_today2              376\n",
       "POI_category2                1396\n",
       "POI_opening_hours             648\n",
       "POI_reviews                     1\n",
       "dtype: int64"
      ]
     },
     "execution_count": 12,
     "metadata": {},
     "output_type": "execute_result"
    }
   ],
   "source": [
    "print(reviews.shape)\n",
    "print(\"Count of null values column-wise:\")\n",
    "reviews.isna().sum()"
   ]
  },
  {
   "cell_type": "code",
   "execution_count": 13,
   "metadata": {},
   "outputs": [],
   "source": [
    "POI_sugg_durations = []\n",
    "col = 'POI_address/sugg_duration'\n",
    "for i in range(len(reviews[col])):\n",
    "    value = reviews[col][i]\n",
    "    \n",
    "    if str(value).startswith('Suggested'):\n",
    "        POI_sugg_durations.append(value)\n",
    "    else:\n",
    "        POI_sugg_durations.append(\"NA\")\n",
    "reviews[\"POI_Suggested_Duration\"] = POI_sugg_durations"
   ]
  },
  {
   "cell_type": "code",
   "execution_count": 14,
   "metadata": {},
   "outputs": [
    {
     "data": {
      "text/plain": [
       "POI_name                        0\n",
       "POI_reviews_count               0\n",
       "POI_category                    0\n",
       "POI_description               376\n",
       "POI_hours_today               498\n",
       "POI_address/sugg_duration     451\n",
       "POI_address2                  697\n",
       "POI_rating                    451\n",
       "POI_address3                    1\n",
       "POI_hours_today2              376\n",
       "POI_category2                1396\n",
       "POI_opening_hours             648\n",
       "POI_reviews                     1\n",
       "POI_Suggested_Duration          0\n",
       "dtype: int64"
      ]
     },
     "execution_count": 14,
     "metadata": {},
     "output_type": "execute_result"
    }
   ],
   "source": [
    "reviews.isna().sum()"
   ]
  },
  {
   "cell_type": "code",
   "execution_count": 16,
   "metadata": {},
   "outputs": [],
   "source": [
    "final_reviews = reviews[[\"POI_name\", \"POI_reviews_count\",\"POI_category\", \"POI_description\", \n",
    "                   \"POI_rating\", \"POI_address3\", \"POI_Suggested_Duration\", \"POI_opening_hours\", \"POI_reviews\"]]"
   ]
  },
  {
   "cell_type": "code",
   "execution_count": 17,
   "metadata": {},
   "outputs": [],
   "source": [
    "final_reviews.columns = [\"POI_name\", \"POI_reviews_count\",\"POI_category\", \"POI_description\", \n",
    "                   \"POI_rating\", \"POI_address\", \"POI_Suggested_Duration\", \"POI_open_close_hours\", \"POI_reviews\"]"
   ]
  },
  {
   "cell_type": "code",
   "execution_count": 18,
   "metadata": {},
   "outputs": [
    {
     "name": "stderr",
     "output_type": "stream",
     "text": [
      "<ipython-input-18-42edeb49ed32>:1: SettingWithCopyWarning: \n",
      "A value is trying to be set on a copy of a slice from a DataFrame.\n",
      "Try using .loc[row_indexer,col_indexer] = value instead\n",
      "\n",
      "See the caveats in the documentation: https://pandas.pydata.org/pandas-docs/stable/user_guide/indexing.html#returning-a-view-versus-a-copy\n",
      "  final_reviews['POI_reviews_count'] = final_reviews['POI_reviews_count'].str.replace('Reviews', \"\")\n",
      "<ipython-input-18-42edeb49ed32>:2: SettingWithCopyWarning: \n",
      "A value is trying to be set on a copy of a slice from a DataFrame.\n",
      "Try using .loc[row_indexer,col_indexer] = value instead\n",
      "\n",
      "See the caveats in the documentation: https://pandas.pydata.org/pandas-docs/stable/user_guide/indexing.html#returning-a-view-versus-a-copy\n",
      "  final_reviews['POI_reviews_count'] = final_reviews['POI_reviews_count'].str.replace(\",\",\"\")\n",
      "<ipython-input-18-42edeb49ed32>:3: SettingWithCopyWarning: \n",
      "A value is trying to be set on a copy of a slice from a DataFrame.\n",
      "Try using .loc[row_indexer,col_indexer] = value instead\n",
      "\n",
      "See the caveats in the documentation: https://pandas.pydata.org/pandas-docs/stable/user_guide/indexing.html#returning-a-view-versus-a-copy\n",
      "  final_reviews['POI_reviews_count'] = final_reviews['POI_reviews_count'].str.strip().astype(int)\n"
     ]
    }
   ],
   "source": [
    "final_reviews['POI_reviews_count'] = final_reviews['POI_reviews_count'].str.replace('Reviews', \"\")\n",
    "final_reviews['POI_reviews_count'] = final_reviews['POI_reviews_count'].str.replace(\",\",\"\")\n",
    "final_reviews['POI_reviews_count'] = final_reviews['POI_reviews_count'].str.strip().astype(int)"
   ]
  },
  {
   "cell_type": "code",
   "execution_count": 21,
   "metadata": {},
   "outputs": [
    {
     "name": "stderr",
     "output_type": "stream",
     "text": [
      "<ipython-input-21-88e0ae1d0ae7>:1: SettingWithCopyWarning: \n",
      "A value is trying to be set on a copy of a slice from a DataFrame.\n",
      "Try using .loc[row_indexer,col_indexer] = value instead\n",
      "\n",
      "See the caveats in the documentation: https://pandas.pydata.org/pandas-docs/stable/user_guide/indexing.html#returning-a-view-versus-a-copy\n",
      "  final_reviews['POI_rating'] = final_reviews['POI_rating'].fillna(method='ffill')\n"
     ]
    }
   ],
   "source": [
    "final_reviews['POI_rating'] = final_reviews['POI_rating'].fillna(method='ffill')"
   ]
  },
  {
   "cell_type": "code",
   "execution_count": 22,
   "metadata": {},
   "outputs": [
    {
     "name": "stderr",
     "output_type": "stream",
     "text": [
      "<ipython-input-22-6bfbb13185c9>:1: SettingWithCopyWarning: \n",
      "A value is trying to be set on a copy of a slice from a DataFrame.\n",
      "Try using .loc[row_indexer,col_indexer] = value instead\n",
      "\n",
      "See the caveats in the documentation: https://pandas.pydata.org/pandas-docs/stable/user_guide/indexing.html#returning-a-view-versus-a-copy\n",
      "  final_reviews['POI_reviews'] = final_reviews['POI_reviews'].fillna(method='ffill')\n"
     ]
    },
    {
     "data": {
      "text/plain": [
       "POI_name                    0\n",
       "POI_reviews_count           0\n",
       "POI_category                0\n",
       "POI_description           376\n",
       "POI_rating                  0\n",
       "POI_address                 1\n",
       "POI_Suggested_Duration      0\n",
       "POI_open_close_hours      648\n",
       "POI_reviews                 0\n",
       "dtype: int64"
      ]
     },
     "execution_count": 22,
     "metadata": {},
     "output_type": "execute_result"
    }
   ],
   "source": [
    "final_reviews['POI_reviews'] = final_reviews['POI_reviews'].fillna(method='ffill')\n",
    "final_reviews.isna().sum()"
   ]
  },
  {
   "cell_type": "code",
   "execution_count": 23,
   "metadata": {},
   "outputs": [],
   "source": [
    "final_reviews.to_csv (r'C:\\Users\\Anurag\\Documents\\TA_data\\New data\\All_Data\\Preprocessed_data\\Napa_reviews.csv', index = False, header=True)"
   ]
  },
  {
   "cell_type": "code",
   "execution_count": null,
   "metadata": {},
   "outputs": [],
   "source": []
  }
 ],
 "metadata": {
  "kernelspec": {
   "display_name": "Python 3",
   "language": "python",
   "name": "python3"
  },
  "language_info": {
   "codemirror_mode": {
    "name": "ipython",
    "version": 3
   },
   "file_extension": ".py",
   "mimetype": "text/x-python",
   "name": "python",
   "nbconvert_exporter": "python",
   "pygments_lexer": "ipython3",
   "version": "3.8.5"
  }
 },
 "nbformat": 4,
 "nbformat_minor": 4
}
