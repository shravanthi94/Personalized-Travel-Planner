{
 "cells": [
  {
   "cell_type": "code",
   "execution_count": 1,
   "metadata": {},
   "outputs": [],
   "source": [
    "import pandas as pd\n",
    "import numpy as np"
   ]
  },
  {
   "cell_type": "code",
   "execution_count": 2,
   "metadata": {},
   "outputs": [],
   "source": [
    "final = pd.read_csv(\"alldata.csv\")"
   ]
  },
  {
   "cell_type": "code",
   "execution_count": 5,
   "metadata": {},
   "outputs": [
    {
     "name": "stdout",
     "output_type": "stream",
     "text": [
      "<class 'pandas.core.frame.DataFrame'>\n",
      "RangeIndex: 11189 entries, 0 to 11188\n",
      "Data columns (total 13 columns):\n",
      " #   Column                  Non-Null Count  Dtype  \n",
      "---  ------                  --------------  -----  \n",
      " 0   POI_name                11189 non-null  object \n",
      " 1   Average_Rating          11189 non-null  float64\n",
      " 2   Destination_name        11189 non-null  object \n",
      " 3   POI_reviews_count       11189 non-null  int64  \n",
      " 4   POI_category            11189 non-null  object \n",
      " 5   POI_description         6248 non-null   object \n",
      " 6   POI_rating              11189 non-null  float64\n",
      " 7   POI_address             11189 non-null  object \n",
      " 8   POI_Suggested_Duration  2762 non-null   object \n",
      " 9   POI_open_close_hours    2977 non-null   object \n",
      " 10  POI_reviews             11189 non-null  object \n",
      " 11  Review_Sentiment        11189 non-null  object \n",
      " 12  Trip_type               11189 non-null  object \n",
      "dtypes: float64(2), int64(1), object(10)\n",
      "memory usage: 1.1+ MB\n"
     ]
    }
   ],
   "source": [
    "final.info()"
   ]
  },
  {
   "cell_type": "code",
   "execution_count": 6,
   "metadata": {},
   "outputs": [],
   "source": [
    "final = final.drop( final[final['Review_Sentiment'] == \"Negative\"].index)\n",
    "final = final.drop( final[final['Review_Sentiment'] == \"Neutral\"].index)"
   ]
  },
  {
   "cell_type": "code",
   "execution_count": 10,
   "metadata": {},
   "outputs": [
    {
     "name": "stdout",
     "output_type": "stream",
     "text": [
      "<class 'pandas.core.frame.DataFrame'>\n",
      "Int64Index: 10095 entries, 0 to 11188\n",
      "Data columns (total 13 columns):\n",
      " #   Column                  Non-Null Count  Dtype  \n",
      "---  ------                  --------------  -----  \n",
      " 0   POI_name                10095 non-null  object \n",
      " 1   Average_Rating          10095 non-null  float64\n",
      " 2   Destination_name        10095 non-null  object \n",
      " 3   POI_reviews_count       10095 non-null  int64  \n",
      " 4   POI_category            10095 non-null  object \n",
      " 5   POI_description         5666 non-null   object \n",
      " 6   POI_rating              10095 non-null  float64\n",
      " 7   POI_address             10095 non-null  object \n",
      " 8   POI_Suggested_Duration  2493 non-null   object \n",
      " 9   POI_open_close_hours    2727 non-null   object \n",
      " 10  POI_reviews             10095 non-null  object \n",
      " 11  Review_Sentiment        10095 non-null  object \n",
      " 12  Trip_type               10095 non-null  object \n",
      "dtypes: float64(2), int64(1), object(10)\n",
      "memory usage: 1.1+ MB\n"
     ]
    }
   ],
   "source": [
    "final.info()"
   ]
  },
  {
   "cell_type": "code",
   "execution_count": 42,
   "metadata": {},
   "outputs": [],
   "source": [
    "final_norev = final.drop('POI_reviews', axis=1)"
   ]
  },
  {
   "cell_type": "code",
   "execution_count": 43,
   "metadata": {},
   "outputs": [
    {
     "data": {
      "text/plain": [
       "(10095, 12)"
      ]
     },
     "execution_count": 43,
     "metadata": {},
     "output_type": "execute_result"
    }
   ],
   "source": [
    "final_norev.shape"
   ]
  },
  {
   "cell_type": "code",
   "execution_count": 46,
   "metadata": {},
   "outputs": [
    {
     "name": "stdout",
     "output_type": "stream",
     "text": [
      "(10095, 13)\n",
      "479\n"
     ]
    }
   ],
   "source": [
    "print(final.shape)\n",
    "print(final[\"POI_name\"].nunique())"
   ]
  },
  {
   "cell_type": "code",
   "execution_count": 47,
   "metadata": {},
   "outputs": [
    {
     "data": {
      "text/plain": [
       "9529"
      ]
     },
     "execution_count": 47,
     "metadata": {},
     "output_type": "execute_result"
    }
   ],
   "source": [
    "final_norev.duplicated().sum()"
   ]
  },
  {
   "cell_type": "code",
   "execution_count": 52,
   "metadata": {},
   "outputs": [],
   "source": [
    "dd = final_norev.drop_duplicates()"
   ]
  },
  {
   "cell_type": "code",
   "execution_count": 54,
   "metadata": {},
   "outputs": [
    {
     "data": {
      "text/plain": [
       "479"
      ]
     },
     "execution_count": 54,
     "metadata": {},
     "output_type": "execute_result"
    }
   ],
   "source": [
    "dd[\"POI_name\"].nunique()"
   ]
  },
  {
   "cell_type": "code",
   "execution_count": 60,
   "metadata": {},
   "outputs": [],
   "source": [
    "dd = dd.drop_duplicates(subset='POI_name', keep=\"first\")"
   ]
  },
  {
   "cell_type": "code",
   "execution_count": 61,
   "metadata": {},
   "outputs": [
    {
     "data": {
      "text/plain": [
       "(479, 12)"
      ]
     },
     "execution_count": 61,
     "metadata": {},
     "output_type": "execute_result"
    }
   ],
   "source": [
    "dd.shape"
   ]
  },
  {
   "cell_type": "code",
   "execution_count": 67,
   "metadata": {},
   "outputs": [],
   "source": [
    "dd.to_csv (r'C:\\Users\\Anurag\\Documents\\TA_data\\New data\\All_Data\\Preprocessed_data\\POI_unique.csv', index = False, header=True)"
   ]
  },
  {
   "cell_type": "markdown",
   "metadata": {},
   "source": [
    "#### Function to get recommended cities"
   ]
  },
  {
   "cell_type": "code",
   "execution_count": 13,
   "metadata": {},
   "outputs": [],
   "source": [
    "POI_TripTypes_count = pd.read_csv(\"POI_TripTypes_count.csv\")\n",
    "def recc_city(trip_type_list):\n",
    "    recc_city_df = (POI_TripTypes_count.loc[(POI_TripTypes_count[\"Trip_type\"].isin(trip_type_list))]).groupby([\"Destination_name\"]).sum().nlargest(3,\"Count\")\n",
    "    return list(recc_city_df.index)"
   ]
  },
  {
   "cell_type": "code",
   "execution_count": 27,
   "metadata": {
    "scrolled": true
   },
   "outputs": [
    {
     "data": {
      "text/plain": [
       "['Napa', 'Los Angeles', 'Santa Barbara']"
      ]
     },
     "execution_count": 27,
     "metadata": {},
     "output_type": "execute_result"
    }
   ],
   "source": [
    "nlp = [\"Historic\", \"Relaxed\"]\n",
    "rec_cities = recc_city(nlp)\n",
    "rec_cities"
   ]
  },
  {
   "cell_type": "code",
   "execution_count": 68,
   "metadata": {},
   "outputs": [],
   "source": [
    "POI_unique = pd.read_csv(\"POI_unique.csv\")"
   ]
  },
  {
   "cell_type": "markdown",
   "metadata": {},
   "source": [
    "## Extracting POI for recommended destination"
   ]
  },
  {
   "cell_type": "code",
   "execution_count": 91,
   "metadata": {},
   "outputs": [
    {
     "data": {
      "text/html": [
       "<div>\n",
       "<style scoped>\n",
       "    .dataframe tbody tr th:only-of-type {\n",
       "        vertical-align: middle;\n",
       "    }\n",
       "\n",
       "    .dataframe tbody tr th {\n",
       "        vertical-align: top;\n",
       "    }\n",
       "\n",
       "    .dataframe thead th {\n",
       "        text-align: right;\n",
       "    }\n",
       "</style>\n",
       "<table border=\"1\" class=\"dataframe\">\n",
       "  <thead>\n",
       "    <tr style=\"text-align: right;\">\n",
       "      <th></th>\n",
       "      <th>POI_name</th>\n",
       "      <th>Average_Rating</th>\n",
       "      <th>Destination_name</th>\n",
       "      <th>POI_reviews_count</th>\n",
       "      <th>POI_category</th>\n",
       "      <th>POI_description</th>\n",
       "      <th>POI_rating</th>\n",
       "      <th>POI_address</th>\n",
       "      <th>POI_Suggested_Duration</th>\n",
       "      <th>POI_open_close_hours</th>\n",
       "      <th>Review_Sentiment</th>\n",
       "      <th>Trip_type</th>\n",
       "    </tr>\n",
       "  </thead>\n",
       "  <tbody>\n",
       "    <tr>\n",
       "      <th>140</th>\n",
       "      <td>Griffith Observatory</td>\n",
       "      <td>4.5</td>\n",
       "      <td>Los Angeles</td>\n",
       "      <td>20272</td>\n",
       "      <td>Observatories &amp; Planetariums</td>\n",
       "      <td>A public observatory owned and operated by the...</td>\n",
       "      <td>4.5</td>\n",
       "      <td>2800 E. Observatory Rd., Los Angeles, CA 90027...</td>\n",
       "      <td>Suggested Duration:&lt; 1 hour</td>\n",
       "      <td>Hours\\nTue - Fri\\n12:00 PM - 10:00 PM\\nSat - S...</td>\n",
       "      <td>Positive</td>\n",
       "      <td>Historic</td>\n",
       "    </tr>\n",
       "    <tr>\n",
       "      <th>153</th>\n",
       "      <td>Hollywood Walk of Fame</td>\n",
       "      <td>3.5</td>\n",
       "      <td>Los Angeles</td>\n",
       "      <td>17567</td>\n",
       "      <td>Points of Interest &amp; Landmarks, Historic Walki...</td>\n",
       "      <td>A boulevard where the stars of Hollywood are i...</td>\n",
       "      <td>3.5</td>\n",
       "      <td>Hollywood Blvd at Vine St, Los Angeles, CA 90028</td>\n",
       "      <td>Suggested Duration:&lt; 1 hour</td>\n",
       "      <td>NaN</td>\n",
       "      <td>Positive</td>\n",
       "      <td>Historic</td>\n",
       "    </tr>\n",
       "    <tr>\n",
       "      <th>457</th>\n",
       "      <td>Venice Beach</td>\n",
       "      <td>4.0</td>\n",
       "      <td>Los Angeles</td>\n",
       "      <td>10759</td>\n",
       "      <td>Beaches</td>\n",
       "      <td>Lively, popular and crowded beach close to Los...</td>\n",
       "      <td>4.0</td>\n",
       "      <td>Los Angeles, CA 90291</td>\n",
       "      <td>Suggested Duration:2-3 hours</td>\n",
       "      <td>NaN</td>\n",
       "      <td>Positive</td>\n",
       "      <td>Relaxed</td>\n",
       "    </tr>\n",
       "  </tbody>\n",
       "</table>\n",
       "</div>"
      ],
      "text/plain": [
       "                   POI_name  Average_Rating Destination_name  \\\n",
       "140    Griffith Observatory             4.5      Los Angeles   \n",
       "153  Hollywood Walk of Fame             3.5      Los Angeles   \n",
       "457            Venice Beach             4.0      Los Angeles   \n",
       "\n",
       "     POI_reviews_count                                       POI_category  \\\n",
       "140              20272                       Observatories & Planetariums   \n",
       "153              17567  Points of Interest & Landmarks, Historic Walki...   \n",
       "457              10759                                            Beaches   \n",
       "\n",
       "                                       POI_description  POI_rating  \\\n",
       "140  A public observatory owned and operated by the...         4.5   \n",
       "153  A boulevard where the stars of Hollywood are i...         3.5   \n",
       "457  Lively, popular and crowded beach close to Los...         4.0   \n",
       "\n",
       "                                           POI_address  \\\n",
       "140  2800 E. Observatory Rd., Los Angeles, CA 90027...   \n",
       "153   Hollywood Blvd at Vine St, Los Angeles, CA 90028   \n",
       "457                              Los Angeles, CA 90291   \n",
       "\n",
       "           POI_Suggested_Duration  \\\n",
       "140   Suggested Duration:< 1 hour   \n",
       "153   Suggested Duration:< 1 hour   \n",
       "457  Suggested Duration:2-3 hours   \n",
       "\n",
       "                                  POI_open_close_hours Review_Sentiment  \\\n",
       "140  Hours\\nTue - Fri\\n12:00 PM - 10:00 PM\\nSat - S...         Positive   \n",
       "153                                                NaN         Positive   \n",
       "457                                                NaN         Positive   \n",
       "\n",
       "    Trip_type  \n",
       "140  Historic  \n",
       "153  Historic  \n",
       "457   Relaxed  "
      ]
     },
     "execution_count": 91,
     "metadata": {},
     "output_type": "execute_result"
    }
   ],
   "source": [
    "flag = False\n",
    "days = 3\n",
    "filteredData0 = POI_unique.loc[(POI_unique['Destination_name'] == \"Los Angeles\") & (POI_unique['Trip_type'] == nlp[0])]\n",
    "filteredData0 = filteredData0.sort_values(by=['POI_reviews_count','Average_Rating'], ascending=False)\n",
    "\n",
    "\n",
    "if len(nlp) == 2:\n",
    "    flag = True\n",
    "    filteredData1 = POI_unique.loc[(POI_unique['Destination_name'] == \"Los Angeles\") & (POI_unique['Trip_type'] == nlp[1])]\n",
    "    filteredData1 = filteredData1.sort_values(by=['POI_reviews_count','Average_Rating'], ascending=False)\n",
    "\n",
    "if flag:\n",
    "    if days % 2 == 0:\n",
    "        Trip_type_1 = filteredData0.head(int(days/2))\n",
    "        Trip_type_2 = filteredData1.head(int(days/2))\n",
    "    else:\n",
    "        if len(filteredData0[\"POI_name\"]) > len(filteredData1[\"POI_name\"]):\n",
    "            Trip_type_1 = filteredData0.head(int((days+1)/2))\n",
    "            Trip_type_2 = filteredData1.head(days//2)\n",
    "        else:\n",
    "            Trip_type_1 = filteredData0.head(days//2)\n",
    "            Trip_type_2 = filteredData1.head(int((days+1)/2))\n",
    "    POI_final = pd.concat([Trip_type_1, Trip_type_2])\n",
    "else:\n",
    "    POI_final = filteredData0.head(days)\n",
    "    \n",
    "POI_final       "
   ]
  },
  {
   "cell_type": "markdown",
   "metadata": {},
   "source": [
    "## Extracting nearby POIs"
   ]
  },
  {
   "cell_type": "code",
   "execution_count": 103,
   "metadata": {},
   "outputs": [
    {
     "data": {
      "text/html": [
       "<div>\n",
       "<style scoped>\n",
       "    .dataframe tbody tr th:only-of-type {\n",
       "        vertical-align: middle;\n",
       "    }\n",
       "\n",
       "    .dataframe tbody tr th {\n",
       "        vertical-align: top;\n",
       "    }\n",
       "\n",
       "    .dataframe thead th {\n",
       "        text-align: right;\n",
       "    }\n",
       "</style>\n",
       "<table border=\"1\" class=\"dataframe\">\n",
       "  <thead>\n",
       "    <tr style=\"text-align: right;\">\n",
       "      <th></th>\n",
       "      <th>POI_name</th>\n",
       "      <th>POI_nearby_name</th>\n",
       "      <th>Address</th>\n",
       "      <th>Distance_miles</th>\n",
       "      <th>Distance_minutes</th>\n",
       "    </tr>\n",
       "  </thead>\n",
       "  <tbody>\n",
       "    <tr>\n",
       "      <th>0</th>\n",
       "      <td>Disney California Adventure Park</td>\n",
       "      <td>Magic and Wine Theater With David Minkin</td>\n",
       "      <td>900 S Disneyland Dr Anaheim Majestic Garden Ho...</td>\n",
       "      <td>2.000000</td>\n",
       "      <td>3.0</td>\n",
       "    </tr>\n",
       "    <tr>\n",
       "      <th>1</th>\n",
       "      <td>Disney California Adventure Park</td>\n",
       "      <td>Fireworks at Disneyland Park</td>\n",
       "      <td>1313 Disneyland Drive, Anaheim, CA</td>\n",
       "      <td>3.333333</td>\n",
       "      <td>5.0</td>\n",
       "    </tr>\n",
       "    <tr>\n",
       "      <th>2</th>\n",
       "      <td>Disney California Adventure Park</td>\n",
       "      <td>Disneyland Park</td>\n",
       "      <td>1313 Disneyland Dr, Anaheim, CA 92802</td>\n",
       "      <td>5.333333</td>\n",
       "      <td>8.0</td>\n",
       "    </tr>\n",
       "    <tr>\n",
       "      <th>3</th>\n",
       "      <td>Disney California Adventure Park</td>\n",
       "      <td>Star Wars: Galaxy’s Edge</td>\n",
       "      <td>1313 Disneyland Dr., Anaheim, CA 92802</td>\n",
       "      <td>3.333333</td>\n",
       "      <td>5.0</td>\n",
       "    </tr>\n",
       "    <tr>\n",
       "      <th>4</th>\n",
       "      <td>Disney California Adventure Park</td>\n",
       "      <td>Goofy's Playhouse</td>\n",
       "      <td>1313 Disneyland Drive Mickey's Toontown, Anahe...</td>\n",
       "      <td>3.333333</td>\n",
       "      <td>5.0</td>\n",
       "    </tr>\n",
       "    <tr>\n",
       "      <th>...</th>\n",
       "      <td>...</td>\n",
       "      <td>...</td>\n",
       "      <td>...</td>\n",
       "      <td>...</td>\n",
       "      <td>...</td>\n",
       "    </tr>\n",
       "    <tr>\n",
       "      <th>3857</th>\n",
       "      <td>Venice Beach</td>\n",
       "      <td>Venice Skatepark</td>\n",
       "      <td>1500 Ocean Front Walk, Los Angeles, CA 90291-3606</td>\n",
       "      <td>2.000000</td>\n",
       "      <td>3.0</td>\n",
       "    </tr>\n",
       "    <tr>\n",
       "      <th>3858</th>\n",
       "      <td>Venice Beach</td>\n",
       "      <td>Muscle Beach Venice</td>\n",
       "      <td>1800 Ocean Front Walk, Los Angeles, CA 90401-3124</td>\n",
       "      <td>0.666667</td>\n",
       "      <td>1.0</td>\n",
       "    </tr>\n",
       "    <tr>\n",
       "      <th>3859</th>\n",
       "      <td>Venice Beach</td>\n",
       "      <td>High Rooftop Lounge</td>\n",
       "      <td>1697 Pacific Ave, Los Angeles, CA 90291-3613</td>\n",
       "      <td>1.300000</td>\n",
       "      <td>2.0</td>\n",
       "    </tr>\n",
       "    <tr>\n",
       "      <th>3860</th>\n",
       "      <td>Venice Beach</td>\n",
       "      <td>Touch of Venice mural</td>\n",
       "      <td>21 Winward Avenue, Venice, Los Angeles, CA</td>\n",
       "      <td>1.300000</td>\n",
       "      <td>2.0</td>\n",
       "    </tr>\n",
       "    <tr>\n",
       "      <th>3861</th>\n",
       "      <td>Venice Beach</td>\n",
       "      <td>Venice art walls</td>\n",
       "      <td>1800 Ocean Front Walk, Venice, Los Angeles, CA</td>\n",
       "      <td>0.666667</td>\n",
       "      <td>1.0</td>\n",
       "    </tr>\n",
       "  </tbody>\n",
       "</table>\n",
       "<p>3862 rows × 5 columns</p>\n",
       "</div>"
      ],
      "text/plain": [
       "                              POI_name  \\\n",
       "0     Disney California Adventure Park   \n",
       "1     Disney California Adventure Park   \n",
       "2     Disney California Adventure Park   \n",
       "3     Disney California Adventure Park   \n",
       "4     Disney California Adventure Park   \n",
       "...                                ...   \n",
       "3857                      Venice Beach   \n",
       "3858                      Venice Beach   \n",
       "3859                      Venice Beach   \n",
       "3860                      Venice Beach   \n",
       "3861                      Venice Beach   \n",
       "\n",
       "                               POI_nearby_name  \\\n",
       "0     Magic and Wine Theater With David Minkin   \n",
       "1                 Fireworks at Disneyland Park   \n",
       "2                              Disneyland Park   \n",
       "3                     Star Wars: Galaxy’s Edge   \n",
       "4                            Goofy's Playhouse   \n",
       "...                                        ...   \n",
       "3857                          Venice Skatepark   \n",
       "3858                       Muscle Beach Venice   \n",
       "3859                       High Rooftop Lounge   \n",
       "3860                     Touch of Venice mural   \n",
       "3861                          Venice art walls   \n",
       "\n",
       "                                                Address  Distance_miles  \\\n",
       "0     900 S Disneyland Dr Anaheim Majestic Garden Ho...        2.000000   \n",
       "1                    1313 Disneyland Drive, Anaheim, CA        3.333333   \n",
       "2                 1313 Disneyland Dr, Anaheim, CA 92802        5.333333   \n",
       "3                1313 Disneyland Dr., Anaheim, CA 92802        3.333333   \n",
       "4     1313 Disneyland Drive Mickey's Toontown, Anahe...        3.333333   \n",
       "...                                                 ...             ...   \n",
       "3857  1500 Ocean Front Walk, Los Angeles, CA 90291-3606        2.000000   \n",
       "3858  1800 Ocean Front Walk, Los Angeles, CA 90401-3124        0.666667   \n",
       "3859       1697 Pacific Ave, Los Angeles, CA 90291-3613        1.300000   \n",
       "3860         21 Winward Avenue, Venice, Los Angeles, CA        1.300000   \n",
       "3861     1800 Ocean Front Walk, Venice, Los Angeles, CA        0.666667   \n",
       "\n",
       "      Distance_minutes  \n",
       "0                  3.0  \n",
       "1                  5.0  \n",
       "2                  8.0  \n",
       "3                  5.0  \n",
       "4                  5.0  \n",
       "...                ...  \n",
       "3857               3.0  \n",
       "3858               1.0  \n",
       "3859               2.0  \n",
       "3860               2.0  \n",
       "3861               1.0  \n",
       "\n",
       "[3862 rows x 5 columns]"
      ]
     },
     "execution_count": 103,
     "metadata": {},
     "output_type": "execute_result"
    }
   ],
   "source": [
    "nearby = pd.read_csv(\"final_nearby.csv\")"
   ]
  },
  {
   "cell_type": "code",
   "execution_count": 104,
   "metadata": {},
   "outputs": [],
   "source": [
    "pois = list(POI_final[\"POI_name\"])"
   ]
  },
  {
   "cell_type": "code",
   "execution_count": 105,
   "metadata": {},
   "outputs": [
    {
     "data": {
      "text/plain": [
       "['Griffith Observatory', 'Hollywood Walk of Fame', 'Venice Beach']"
      ]
     },
     "execution_count": 105,
     "metadata": {},
     "output_type": "execute_result"
    }
   ],
   "source": [
    "pois"
   ]
  },
  {
   "cell_type": "code",
   "execution_count": 106,
   "metadata": {},
   "outputs": [],
   "source": [
    "fn0 = nearby.loc[(nearby['POI_name'] == pois[0])]\n",
    "fn0 = fn0.sort_values(by=['Distance_miles'], ascending=True)"
   ]
  },
  {
   "cell_type": "code",
   "execution_count": 107,
   "metadata": {},
   "outputs": [
    {
     "data": {
      "text/html": [
       "<div>\n",
       "<style scoped>\n",
       "    .dataframe tbody tr th:only-of-type {\n",
       "        vertical-align: middle;\n",
       "    }\n",
       "\n",
       "    .dataframe tbody tr th {\n",
       "        vertical-align: top;\n",
       "    }\n",
       "\n",
       "    .dataframe thead th {\n",
       "        text-align: right;\n",
       "    }\n",
       "</style>\n",
       "<table border=\"1\" class=\"dataframe\">\n",
       "  <thead>\n",
       "    <tr style=\"text-align: right;\">\n",
       "      <th></th>\n",
       "      <th>POI_name</th>\n",
       "      <th>POI_nearby_name</th>\n",
       "      <th>Address</th>\n",
       "      <th>Distance_miles</th>\n",
       "      <th>Distance_minutes</th>\n",
       "    </tr>\n",
       "  </thead>\n",
       "  <tbody>\n",
       "    <tr>\n",
       "      <th>654</th>\n",
       "      <td>Griffith Observatory</td>\n",
       "      <td>Charlie Turner's Trail</td>\n",
       "      <td>2800 E Observatory Ave, Los Angeles, CA 90027-...</td>\n",
       "      <td>0.666667</td>\n",
       "      <td>1.00</td>\n",
       "    </tr>\n",
       "    <tr>\n",
       "      <th>655</th>\n",
       "      <td>Griffith Observatory</td>\n",
       "      <td>Solar System Lawn Model</td>\n",
       "      <td>2800 E Observatory Ave Griffith Observatory, L...</td>\n",
       "      <td>0.666667</td>\n",
       "      <td>1.00</td>\n",
       "    </tr>\n",
       "    <tr>\n",
       "      <th>669</th>\n",
       "      <td>Griffith Observatory</td>\n",
       "      <td>Hollyhock House</td>\n",
       "      <td>4800 Hollywood Blvd Barnsdall Art Park, Los An...</td>\n",
       "      <td>1.300000</td>\n",
       "      <td>1.95</td>\n",
       "    </tr>\n",
       "  </tbody>\n",
       "</table>\n",
       "</div>"
      ],
      "text/plain": [
       "                 POI_name          POI_nearby_name  \\\n",
       "654  Griffith Observatory   Charlie Turner's Trail   \n",
       "655  Griffith Observatory  Solar System Lawn Model   \n",
       "669  Griffith Observatory          Hollyhock House   \n",
       "\n",
       "                                               Address  Distance_miles  \\\n",
       "654  2800 E Observatory Ave, Los Angeles, CA 90027-...        0.666667   \n",
       "655  2800 E Observatory Ave Griffith Observatory, L...        0.666667   \n",
       "669  4800 Hollywood Blvd Barnsdall Art Park, Los An...        1.300000   \n",
       "\n",
       "     Distance_minutes  \n",
       "654              1.00  \n",
       "655              1.00  \n",
       "669              1.95  "
      ]
     },
     "execution_count": 107,
     "metadata": {},
     "output_type": "execute_result"
    }
   ],
   "source": [
    "fn0.head(3)"
   ]
  },
  {
   "cell_type": "code",
   "execution_count": 108,
   "metadata": {},
   "outputs": [
    {
     "data": {
      "text/html": [
       "<div>\n",
       "<style scoped>\n",
       "    .dataframe tbody tr th:only-of-type {\n",
       "        vertical-align: middle;\n",
       "    }\n",
       "\n",
       "    .dataframe tbody tr th {\n",
       "        vertical-align: top;\n",
       "    }\n",
       "\n",
       "    .dataframe thead th {\n",
       "        text-align: right;\n",
       "    }\n",
       "</style>\n",
       "<table border=\"1\" class=\"dataframe\">\n",
       "  <thead>\n",
       "    <tr style=\"text-align: right;\">\n",
       "      <th></th>\n",
       "      <th>POI_name</th>\n",
       "      <th>POI_nearby_name</th>\n",
       "      <th>Address</th>\n",
       "      <th>Distance_miles</th>\n",
       "      <th>Distance_minutes</th>\n",
       "    </tr>\n",
       "  </thead>\n",
       "  <tbody>\n",
       "    <tr>\n",
       "      <th>3853</th>\n",
       "      <td>Hollywood Walk of Fame</td>\n",
       "      <td>Pantages Theater</td>\n",
       "      <td>6233 Hollywood Blvd, Los Angeles, CA 90028-5310</td>\n",
       "      <td>0.666667</td>\n",
       "      <td>1.0</td>\n",
       "    </tr>\n",
       "    <tr>\n",
       "      <th>3855</th>\n",
       "      <td>Hollywood Walk of Fame</td>\n",
       "      <td>Iguana Vintage Clothing</td>\n",
       "      <td>6320 Hollywood Blvd Hollywood, Los Angeles, CA...</td>\n",
       "      <td>0.666667</td>\n",
       "      <td>1.0</td>\n",
       "    </tr>\n",
       "    <tr>\n",
       "      <th>3856</th>\n",
       "      <td>Hollywood Walk of Fame</td>\n",
       "      <td>Frolic Room</td>\n",
       "      <td>6245 Hollywood Blvd, Los Angeles, CA 90028-5310</td>\n",
       "      <td>0.666667</td>\n",
       "      <td>1.0</td>\n",
       "    </tr>\n",
       "  </tbody>\n",
       "</table>\n",
       "</div>"
      ],
      "text/plain": [
       "                    POI_name          POI_nearby_name  \\\n",
       "3853  Hollywood Walk of Fame         Pantages Theater   \n",
       "3855  Hollywood Walk of Fame  Iguana Vintage Clothing   \n",
       "3856  Hollywood Walk of Fame              Frolic Room   \n",
       "\n",
       "                                                Address  Distance_miles  \\\n",
       "3853    6233 Hollywood Blvd, Los Angeles, CA 90028-5310        0.666667   \n",
       "3855  6320 Hollywood Blvd Hollywood, Los Angeles, CA...        0.666667   \n",
       "3856    6245 Hollywood Blvd, Los Angeles, CA 90028-5310        0.666667   \n",
       "\n",
       "      Distance_minutes  \n",
       "3853               1.0  \n",
       "3855               1.0  \n",
       "3856               1.0  "
      ]
     },
     "execution_count": 108,
     "metadata": {},
     "output_type": "execute_result"
    }
   ],
   "source": [
    "fn1 = nearby.loc[(nearby['POI_name'] == pois[1])]\n",
    "fn1 = fn1.sort_values(by=['Distance_miles'], ascending=True)\n",
    "fn1.head(3)"
   ]
  },
  {
   "cell_type": "code",
   "execution_count": 109,
   "metadata": {},
   "outputs": [
    {
     "data": {
      "text/html": [
       "<div>\n",
       "<style scoped>\n",
       "    .dataframe tbody tr th:only-of-type {\n",
       "        vertical-align: middle;\n",
       "    }\n",
       "\n",
       "    .dataframe tbody tr th {\n",
       "        vertical-align: top;\n",
       "    }\n",
       "\n",
       "    .dataframe thead th {\n",
       "        text-align: right;\n",
       "    }\n",
       "</style>\n",
       "<table border=\"1\" class=\"dataframe\">\n",
       "  <thead>\n",
       "    <tr style=\"text-align: right;\">\n",
       "      <th></th>\n",
       "      <th>POI_name</th>\n",
       "      <th>POI_nearby_name</th>\n",
       "      <th>Address</th>\n",
       "      <th>Distance_miles</th>\n",
       "      <th>Distance_minutes</th>\n",
       "    </tr>\n",
       "  </thead>\n",
       "  <tbody>\n",
       "    <tr>\n",
       "      <th>3858</th>\n",
       "      <td>Venice Beach</td>\n",
       "      <td>Muscle Beach Venice</td>\n",
       "      <td>1800 Ocean Front Walk, Los Angeles, CA 90401-3124</td>\n",
       "      <td>0.666667</td>\n",
       "      <td>1.0</td>\n",
       "    </tr>\n",
       "    <tr>\n",
       "      <th>3861</th>\n",
       "      <td>Venice Beach</td>\n",
       "      <td>Venice art walls</td>\n",
       "      <td>1800 Ocean Front Walk, Venice, Los Angeles, CA</td>\n",
       "      <td>0.666667</td>\n",
       "      <td>1.0</td>\n",
       "    </tr>\n",
       "    <tr>\n",
       "      <th>3859</th>\n",
       "      <td>Venice Beach</td>\n",
       "      <td>High Rooftop Lounge</td>\n",
       "      <td>1697 Pacific Ave, Los Angeles, CA 90291-3613</td>\n",
       "      <td>1.300000</td>\n",
       "      <td>2.0</td>\n",
       "    </tr>\n",
       "  </tbody>\n",
       "</table>\n",
       "</div>"
      ],
      "text/plain": [
       "          POI_name      POI_nearby_name  \\\n",
       "3858  Venice Beach  Muscle Beach Venice   \n",
       "3861  Venice Beach     Venice art walls   \n",
       "3859  Venice Beach  High Rooftop Lounge   \n",
       "\n",
       "                                                Address  Distance_miles  \\\n",
       "3858  1800 Ocean Front Walk, Los Angeles, CA 90401-3124        0.666667   \n",
       "3861     1800 Ocean Front Walk, Venice, Los Angeles, CA        0.666667   \n",
       "3859       1697 Pacific Ave, Los Angeles, CA 90291-3613        1.300000   \n",
       "\n",
       "      Distance_minutes  \n",
       "3858               1.0  \n",
       "3861               1.0  \n",
       "3859               2.0  "
      ]
     },
     "execution_count": 109,
     "metadata": {},
     "output_type": "execute_result"
    }
   ],
   "source": [
    "fn2 = nearby.loc[(nearby['POI_name'] == pois[2])]\n",
    "fn2 = fn2.sort_values(by=['Distance_miles'], ascending=True)\n",
    "fn2.head(3)"
   ]
  },
  {
   "cell_type": "code",
   "execution_count": 110,
   "metadata": {},
   "outputs": [
    {
     "data": {
      "text/plain": [
       "140      Griffith Observatory\n",
       "153    Hollywood Walk of Fame\n",
       "457              Venice Beach\n",
       "Name: POI_name, dtype: object"
      ]
     },
     "execution_count": 110,
     "metadata": {},
     "output_type": "execute_result"
    }
   ],
   "source": [
    "POI_final[\"POI_name\"]"
   ]
  },
  {
   "cell_type": "code",
   "execution_count": null,
   "metadata": {},
   "outputs": [],
   "source": []
  }
 ],
 "metadata": {
  "kernelspec": {
   "display_name": "Python 3",
   "language": "python",
   "name": "python3"
  },
  "language_info": {
   "codemirror_mode": {
    "name": "ipython",
    "version": 3
   },
   "file_extension": ".py",
   "mimetype": "text/x-python",
   "name": "python",
   "nbconvert_exporter": "python",
   "pygments_lexer": "ipython3",
   "version": "3.8.5"
  }
 },
 "nbformat": 4,
 "nbformat_minor": 4
}
