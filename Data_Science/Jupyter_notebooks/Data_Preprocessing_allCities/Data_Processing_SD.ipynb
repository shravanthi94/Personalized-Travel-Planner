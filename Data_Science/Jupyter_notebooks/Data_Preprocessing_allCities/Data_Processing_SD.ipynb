{
 "cells": [
  {
   "cell_type": "code",
   "execution_count": 4,
   "metadata": {},
   "outputs": [],
   "source": [
    "import pandas as pd\n",
    "import numpy as np"
   ]
  },
  {
   "cell_type": "code",
   "execution_count": 5,
   "metadata": {},
   "outputs": [],
   "source": [
    "reviews = pd.read_excel('SD_POI_Reviews.xlsx')\n",
    "nearby = pd.read_excel('SD_POI_NearBy.xlsx')"
   ]
  },
  {
   "cell_type": "code",
   "execution_count": 6,
   "metadata": {},
   "outputs": [
    {
     "data": {
      "text/html": [
       "<div>\n",
       "<style scoped>\n",
       "    .dataframe tbody tr th:only-of-type {\n",
       "        vertical-align: middle;\n",
       "    }\n",
       "\n",
       "    .dataframe tbody tr th {\n",
       "        vertical-align: top;\n",
       "    }\n",
       "\n",
       "    .dataframe thead th {\n",
       "        text-align: right;\n",
       "    }\n",
       "</style>\n",
       "<table border=\"1\" class=\"dataframe\">\n",
       "  <thead>\n",
       "    <tr style=\"text-align: right;\">\n",
       "      <th></th>\n",
       "      <th>POI_name</th>\n",
       "      <th>POI_reviews_count</th>\n",
       "      <th>POI_description</th>\n",
       "      <th>POI_hours_today</th>\n",
       "      <th>POI_address/sugg_duration</th>\n",
       "      <th>POI_address2</th>\n",
       "      <th>POI_rating</th>\n",
       "      <th>POI_category</th>\n",
       "      <th>POI_address3</th>\n",
       "      <th>POI_open-close_hours</th>\n",
       "      <th>POI_reviews</th>\n",
       "      <th>Root</th>\n",
       "    </tr>\n",
       "  </thead>\n",
       "  <tbody>\n",
       "    <tr>\n",
       "      <th>0</th>\n",
       "      <td>USS Midway Museum</td>\n",
       "      <td>24,859 Reviews</td>\n",
       "      <td>Located in downtown San Diego, the USS Midway ...</td>\n",
       "      <td>Hours Today: 10:00 AM - 5:00 PM</td>\n",
       "      <td>Suggested Duration:More than 3 hours</td>\n",
       "      <td>910 N Harbor Drive, San Diego, CA 92101-5811</td>\n",
       "      <td>5.0</td>\n",
       "      <td>Specialty Museums</td>\n",
       "      <td>910 N Harbor Drive, San Diego, CA 92101-5811</td>\n",
       "      <td>NaN</td>\n",
       "      <td>The USS Midway is an iconic part of US Naval a...</td>\n",
       "      <td>NaN</td>\n",
       "    </tr>\n",
       "    <tr>\n",
       "      <th>1</th>\n",
       "      <td>USS Midway Museum</td>\n",
       "      <td>24,859 Reviews</td>\n",
       "      <td>Located in downtown San Diego, the USS Midway ...</td>\n",
       "      <td>Hours Today: 10:00 AM - 5:00 PM</td>\n",
       "      <td>Suggested Duration:More than 3 hours</td>\n",
       "      <td>910 N Harbor Drive, San Diego, CA 92101-5811</td>\n",
       "      <td>5.0</td>\n",
       "      <td>Specialty Museums</td>\n",
       "      <td>910 N Harbor Drive, San Diego, CA 92101-5811</td>\n",
       "      <td>NaN</td>\n",
       "      <td>Really enjoyed this tour. Even the teenage boy...</td>\n",
       "      <td>NaN</td>\n",
       "    </tr>\n",
       "    <tr>\n",
       "      <th>2</th>\n",
       "      <td>USS Midway Museum</td>\n",
       "      <td>24,859 Reviews</td>\n",
       "      <td>Located in downtown San Diego, the USS Midway ...</td>\n",
       "      <td>Hours Today: 10:00 AM - 5:00 PM</td>\n",
       "      <td>Suggested Duration:More than 3 hours</td>\n",
       "      <td>910 N Harbor Drive, San Diego, CA 92101-5811</td>\n",
       "      <td>5.0</td>\n",
       "      <td>Specialty Museums</td>\n",
       "      <td>910 N Harbor Drive, San Diego, CA 92101-5811</td>\n",
       "      <td>NaN</td>\n",
       "      <td>Having served in the Navy this was a must see ...</td>\n",
       "      <td>NaN</td>\n",
       "    </tr>\n",
       "    <tr>\n",
       "      <th>3</th>\n",
       "      <td>USS Midway Museum</td>\n",
       "      <td>24,859 Reviews</td>\n",
       "      <td>Located in downtown San Diego, the USS Midway ...</td>\n",
       "      <td>Hours Today: 10:00 AM - 5:00 PM</td>\n",
       "      <td>Suggested Duration:More than 3 hours</td>\n",
       "      <td>910 N Harbor Drive, San Diego, CA 92101-5811</td>\n",
       "      <td>5.0</td>\n",
       "      <td>Specialty Museums</td>\n",
       "      <td>910 N Harbor Drive, San Diego, CA 92101-5811</td>\n",
       "      <td>NaN</td>\n",
       "      <td>Wonderful way to spend a day. Shows what life ...</td>\n",
       "      <td>NaN</td>\n",
       "    </tr>\n",
       "    <tr>\n",
       "      <th>4</th>\n",
       "      <td>USS Midway Museum</td>\n",
       "      <td>24,859 Reviews</td>\n",
       "      <td>Located in downtown San Diego, the USS Midway ...</td>\n",
       "      <td>Hours Today: 10:00 AM - 5:00 PM</td>\n",
       "      <td>Suggested Duration:More than 3 hours</td>\n",
       "      <td>910 N Harbor Drive, San Diego, CA 92101-5811</td>\n",
       "      <td>5.0</td>\n",
       "      <td>Specialty Museums</td>\n",
       "      <td>910 N Harbor Drive, San Diego, CA 92101-5811</td>\n",
       "      <td>NaN</td>\n",
       "      <td>Love all the volunteers who are ex military. A...</td>\n",
       "      <td>NaN</td>\n",
       "    </tr>\n",
       "  </tbody>\n",
       "</table>\n",
       "</div>"
      ],
      "text/plain": [
       "            POI_name POI_reviews_count  \\\n",
       "0  USS Midway Museum    24,859 Reviews   \n",
       "1  USS Midway Museum    24,859 Reviews   \n",
       "2  USS Midway Museum    24,859 Reviews   \n",
       "3  USS Midway Museum    24,859 Reviews   \n",
       "4  USS Midway Museum    24,859 Reviews   \n",
       "\n",
       "                                     POI_description  \\\n",
       "0  Located in downtown San Diego, the USS Midway ...   \n",
       "1  Located in downtown San Diego, the USS Midway ...   \n",
       "2  Located in downtown San Diego, the USS Midway ...   \n",
       "3  Located in downtown San Diego, the USS Midway ...   \n",
       "4  Located in downtown San Diego, the USS Midway ...   \n",
       "\n",
       "                   POI_hours_today             POI_address/sugg_duration  \\\n",
       "0  Hours Today: 10:00 AM - 5:00 PM  Suggested Duration:More than 3 hours   \n",
       "1  Hours Today: 10:00 AM - 5:00 PM  Suggested Duration:More than 3 hours   \n",
       "2  Hours Today: 10:00 AM - 5:00 PM  Suggested Duration:More than 3 hours   \n",
       "3  Hours Today: 10:00 AM - 5:00 PM  Suggested Duration:More than 3 hours   \n",
       "4  Hours Today: 10:00 AM - 5:00 PM  Suggested Duration:More than 3 hours   \n",
       "\n",
       "                                   POI_address2  POI_rating  \\\n",
       "0  910 N Harbor Drive, San Diego, CA 92101-5811         5.0   \n",
       "1  910 N Harbor Drive, San Diego, CA 92101-5811         5.0   \n",
       "2  910 N Harbor Drive, San Diego, CA 92101-5811         5.0   \n",
       "3  910 N Harbor Drive, San Diego, CA 92101-5811         5.0   \n",
       "4  910 N Harbor Drive, San Diego, CA 92101-5811         5.0   \n",
       "\n",
       "        POI_category                                  POI_address3  \\\n",
       "0  Specialty Museums  910 N Harbor Drive, San Diego, CA 92101-5811   \n",
       "1  Specialty Museums  910 N Harbor Drive, San Diego, CA 92101-5811   \n",
       "2  Specialty Museums  910 N Harbor Drive, San Diego, CA 92101-5811   \n",
       "3  Specialty Museums  910 N Harbor Drive, San Diego, CA 92101-5811   \n",
       "4  Specialty Museums  910 N Harbor Drive, San Diego, CA 92101-5811   \n",
       "\n",
       "  POI_open-close_hours                                        POI_reviews  \\\n",
       "0                  NaN  The USS Midway is an iconic part of US Naval a...   \n",
       "1                  NaN  Really enjoyed this tour. Even the teenage boy...   \n",
       "2                  NaN  Having served in the Navy this was a must see ...   \n",
       "3                  NaN  Wonderful way to spend a day. Shows what life ...   \n",
       "4                  NaN  Love all the volunteers who are ex military. A...   \n",
       "\n",
       "   Root  \n",
       "0   NaN  \n",
       "1   NaN  \n",
       "2   NaN  \n",
       "3   NaN  \n",
       "4   NaN  "
      ]
     },
     "execution_count": 6,
     "metadata": {},
     "output_type": "execute_result"
    }
   ],
   "source": [
    "reviews.head()"
   ]
  },
  {
   "cell_type": "code",
   "execution_count": 7,
   "metadata": {},
   "outputs": [
    {
     "data": {
      "text/plain": [
       "POI_name                        0\n",
       "POI_reviews_count               0\n",
       "POI_description               401\n",
       "POI_hours_today               751\n",
       "POI_address/sugg_duration     576\n",
       "POI_address2                  876\n",
       "POI_rating                    426\n",
       "POI_category                    0\n",
       "POI_address3                    0\n",
       "POI_open-close_hours          801\n",
       "POI_reviews                     1\n",
       "Root                         1021\n",
       "dtype: int64"
      ]
     },
     "execution_count": 7,
     "metadata": {},
     "output_type": "execute_result"
    }
   ],
   "source": [
    "reviews.isna().sum()"
   ]
  },
  {
   "cell_type": "code",
   "execution_count": 8,
   "metadata": {},
   "outputs": [],
   "source": [
    "POI_sugg_durations = []\n",
    "col = 'POI_address/sugg_duration'\n",
    "for i in range(len(reviews[col])):\n",
    "    value = reviews[col][i]\n",
    "    \n",
    "    if str(value).startswith('Suggested'):\n",
    "        POI_sugg_durations.append(value)\n",
    "    else:\n",
    "        POI_sugg_durations.append(\"NA\")\n",
    "reviews[\"POI_Suggested_Duration\"] = POI_sugg_durations"
   ]
  },
  {
   "cell_type": "code",
   "execution_count": 9,
   "metadata": {},
   "outputs": [],
   "source": [
    "final_reviews = reviews[[\"POI_name\", \"POI_reviews_count\",\"POI_category\", \"POI_description\", \n",
    "                   \"POI_rating\", \"POI_address3\", \"POI_Suggested_Duration\", \"POI_open-close_hours\", \"POI_reviews\"]]"
   ]
  },
  {
   "cell_type": "code",
   "execution_count": 10,
   "metadata": {},
   "outputs": [],
   "source": [
    "final_reviews.columns = [\"POI_name\", \"POI_reviews_count\",\"POI_category\", \"POI_description\", \n",
    "                   \"POI_rating\", \"POI_address\", \"POI_Suggested_Duration\", \"POI_open_close_hours\", \"POI_reviews\"]"
   ]
  },
  {
   "cell_type": "code",
   "execution_count": 11,
   "metadata": {},
   "outputs": [
    {
     "name": "stderr",
     "output_type": "stream",
     "text": [
      "<ipython-input-11-42edeb49ed32>:1: SettingWithCopyWarning: \n",
      "A value is trying to be set on a copy of a slice from a DataFrame.\n",
      "Try using .loc[row_indexer,col_indexer] = value instead\n",
      "\n",
      "See the caveats in the documentation: https://pandas.pydata.org/pandas-docs/stable/user_guide/indexing.html#returning-a-view-versus-a-copy\n",
      "  final_reviews['POI_reviews_count'] = final_reviews['POI_reviews_count'].str.replace('Reviews', \"\")\n",
      "<ipython-input-11-42edeb49ed32>:2: SettingWithCopyWarning: \n",
      "A value is trying to be set on a copy of a slice from a DataFrame.\n",
      "Try using .loc[row_indexer,col_indexer] = value instead\n",
      "\n",
      "See the caveats in the documentation: https://pandas.pydata.org/pandas-docs/stable/user_guide/indexing.html#returning-a-view-versus-a-copy\n",
      "  final_reviews['POI_reviews_count'] = final_reviews['POI_reviews_count'].str.replace(\",\",\"\")\n",
      "<ipython-input-11-42edeb49ed32>:3: SettingWithCopyWarning: \n",
      "A value is trying to be set on a copy of a slice from a DataFrame.\n",
      "Try using .loc[row_indexer,col_indexer] = value instead\n",
      "\n",
      "See the caveats in the documentation: https://pandas.pydata.org/pandas-docs/stable/user_guide/indexing.html#returning-a-view-versus-a-copy\n",
      "  final_reviews['POI_reviews_count'] = final_reviews['POI_reviews_count'].str.strip().astype(int)\n"
     ]
    }
   ],
   "source": [
    "final_reviews['POI_reviews_count'] = final_reviews['POI_reviews_count'].str.replace('Reviews', \"\")\n",
    "final_reviews['POI_reviews_count'] = final_reviews['POI_reviews_count'].str.replace(\",\",\"\")\n",
    "final_reviews['POI_reviews_count'] = final_reviews['POI_reviews_count'].str.strip().astype(int)"
   ]
  },
  {
   "cell_type": "code",
   "execution_count": 12,
   "metadata": {},
   "outputs": [
    {
     "name": "stderr",
     "output_type": "stream",
     "text": [
      "<ipython-input-12-622a4103df62>:1: SettingWithCopyWarning: \n",
      "A value is trying to be set on a copy of a slice from a DataFrame.\n",
      "Try using .loc[row_indexer,col_indexer] = value instead\n",
      "\n",
      "See the caveats in the documentation: https://pandas.pydata.org/pandas-docs/stable/user_guide/indexing.html#returning-a-view-versus-a-copy\n",
      "  final_reviews['POI_rating'] = final_reviews['POI_rating'].fillna(method='ffill')\n"
     ]
    },
    {
     "data": {
      "text/plain": [
       "POI_name                    0\n",
       "POI_reviews_count           0\n",
       "POI_category                0\n",
       "POI_description           401\n",
       "POI_rating                  0\n",
       "POI_address                 0\n",
       "POI_Suggested_Duration      0\n",
       "POI_open_close_hours      801\n",
       "POI_reviews                 1\n",
       "dtype: int64"
      ]
     },
     "execution_count": 12,
     "metadata": {},
     "output_type": "execute_result"
    }
   ],
   "source": [
    "final_reviews['POI_rating'] = final_reviews['POI_rating'].fillna(method='ffill')\n",
    "final_reviews.isna().sum()"
   ]
  },
  {
   "cell_type": "code",
   "execution_count": 13,
   "metadata": {},
   "outputs": [],
   "source": [
    "final_reviews.to_csv (r'C:\\Users\\Anurag\\Documents\\TA_data\\New data\\All_Data\\Preprocessed_data\\SanDiego_reviews.csv', index = False, header=True)"
   ]
  },
  {
   "cell_type": "code",
   "execution_count": null,
   "metadata": {},
   "outputs": [],
   "source": []
  }
 ],
 "metadata": {
  "kernelspec": {
   "display_name": "Python 3",
   "language": "python",
   "name": "python3"
  },
  "language_info": {
   "codemirror_mode": {
    "name": "ipython",
    "version": 3
   },
   "file_extension": ".py",
   "mimetype": "text/x-python",
   "name": "python",
   "nbconvert_exporter": "python",
   "pygments_lexer": "ipython3",
   "version": "3.8.5"
  }
 },
 "nbformat": 4,
 "nbformat_minor": 4
}
