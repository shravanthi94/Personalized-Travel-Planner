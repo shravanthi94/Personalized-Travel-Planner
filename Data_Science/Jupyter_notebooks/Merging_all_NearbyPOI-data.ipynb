{
 "cells": [
  {
   "cell_type": "code",
   "execution_count": 36,
   "metadata": {},
   "outputs": [],
   "source": [
    "import pandas as pd\n",
    "import numpy as np"
   ]
  },
  {
   "cell_type": "code",
   "execution_count": 37,
   "metadata": {},
   "outputs": [],
   "source": [
    "Anaheim = pd.read_excel('Anaheim_POI_NearBy.xlsx')\n",
    "LakeTahoe = pd.read_csv('LakeTahoe_POI_NearBy.csv')\n",
    "LA = pd.read_excel('LA_POI_NearBy.xlsx')\n",
    "Monterey = pd.read_excel('Monterey_POI_NearBy.xlsx')\n",
    "#Napa = pd.read_csv('Napa_reviews.csv')\n",
    "PalmSprings = pd.read_csv('PalmSprings_POI_NearBy.csv')\n",
    "SanDiego = pd.read_excel('SD_POI_NearBy.xlsx')\n",
    "SantaBarbara = pd.read_csv(r'C:\\Users\\Anurag\\Documents\\TA_data\\New data\\All_Data\\New_nearbys\\SB_POI_NearBy.csv')\n",
    "SantaMonica = pd.read_csv(r'C:\\Users\\Anurag\\Documents\\TA_data\\New data\\All_Data\\New_nearbys\\SantaMonica_POI_NearBy.csv')\n",
    "SF = pd.read_excel('SF_POI_NearBy.xlsx')"
   ]
  },
  {
   "cell_type": "code",
   "execution_count": 38,
   "metadata": {},
   "outputs": [
    {
     "name": "stdout",
     "output_type": "stream",
     "text": [
      "(534, 5)\n",
      "(90, 5)\n",
      "(750, 6)\n",
      "(210, 5)\n",
      "(120, 5)\n",
      "(688, 5)\n",
      "(496, 5)\n",
      "(545, 5)\n",
      "(420, 5)\n"
     ]
    }
   ],
   "source": [
    "print(Anaheim.shape)\n",
    "print(LakeTahoe.shape)\n",
    "print(LA.shape)\n",
    "print(Monterey.shape)\n",
    "print(PalmSprings.shape)\n",
    "print(SanDiego.shape)\n",
    "print(SantaBarbara.shape)\n",
    "print(SantaMonica.shape)\n",
    "print(SF.shape)"
   ]
  },
  {
   "cell_type": "code",
   "execution_count": 39,
   "metadata": {},
   "outputs": [
    {
     "data": {
      "text/plain": [
       "Index(['POI_name', 'Budget', 'POI_nearby_name', 'Address', 'Distance_miles',\n",
       "       'Distance_minutes'],\n",
       "      dtype='object')"
      ]
     },
     "execution_count": 39,
     "metadata": {},
     "output_type": "execute_result"
    }
   ],
   "source": [
    "LA.columns"
   ]
  },
  {
   "cell_type": "code",
   "execution_count": 40,
   "metadata": {},
   "outputs": [],
   "source": [
    "LA = LA[['POI_name', 'POI_nearby_name', 'Address', 'Distance_miles','Distance_minutes']]"
   ]
  },
  {
   "cell_type": "code",
   "execution_count": 41,
   "metadata": {},
   "outputs": [],
   "source": [
    "merged_nearby = merged = pd.concat([Anaheim, LakeTahoe, LA, Monterey, PalmSprings, SanDiego, SantaBarbara, SantaMonica, SF])"
   ]
  },
  {
   "cell_type": "code",
   "execution_count": 42,
   "metadata": {},
   "outputs": [
    {
     "data": {
      "text/plain": [
       "POI_name               0\n",
       "POI_nearby_name        0\n",
       "Address             1041\n",
       "Distance_miles         0\n",
       "Distance_minutes    3853\n",
       "dtype: int64"
      ]
     },
     "execution_count": 42,
     "metadata": {},
     "output_type": "execute_result"
    }
   ],
   "source": [
    "merged_nearby.isna().sum()"
   ]
  },
  {
   "cell_type": "code",
   "execution_count": 43,
   "metadata": {},
   "outputs": [
    {
     "data": {
      "text/plain": [
       "(3853, 5)"
      ]
     },
     "execution_count": 43,
     "metadata": {},
     "output_type": "execute_result"
    }
   ],
   "source": [
    "merged_nearby.shape"
   ]
  },
  {
   "cell_type": "code",
   "execution_count": 44,
   "metadata": {},
   "outputs": [],
   "source": [
    "merged_nearby.to_csv (r'C:\\Users\\Anurag\\Documents\\TA_data\\New data\\All_Data\\Preprocessed_data\\merged_nearby.csv', index = False, header=True)"
   ]
  },
  {
   "cell_type": "code",
   "execution_count": 74,
   "metadata": {},
   "outputs": [],
   "source": [
    "nearby = pd.read_csv(r'C:\\Users\\Anurag\\Documents\\TA_data\\New data\\All_Data\\Preprocessed_data\\merged_nearby.csv')"
   ]
  },
  {
   "cell_type": "code",
   "execution_count": 75,
   "metadata": {},
   "outputs": [],
   "source": [
    "def convert_dist():\n",
    "    # Assume a speed of 40 miles/hour\n",
    "    for i in range(len(nearby['Distance_miles'])):\n",
    "        if 'minutes' in nearby['Distance_miles'][i]:\n",
    "            nearby['Distance_miles'][i] = float(nearby['Distance_miles'][i].replace(' minutes',''))\n",
    "            nearby['Distance_minutes'][i] = nearby['Distance_miles'][i]\n",
    "            nearby['Distance_miles'][i] = 40 * nearby['Distance_miles'][i]/60\n",
    "            \n",
    "        elif 'minute' in nearby['Distance_miles'][i]:\n",
    "            nearby['Distance_miles'][i] = float(nearby['Distance_miles'][i].replace(' minute',''))\n",
    "            nearby['Distance_minutes'][i] = nearby['Distance_miles'][i]\n",
    "            nearby['Distance_miles'][i] = 40 * nearby['Distance_miles'][i]/60 \n",
    "\n",
    "        elif 'ft' in nearby['Distance_miles'][i]:\n",
    "            nearby['Distance_miles'][i] = (float(nearby['Distance_miles'][i].replace(' ft','')))/5280\n",
    "            nearby['Distance_minutes'][i]  = (nearby['Distance_miles'][i]/40)*60\n",
    "            \n",
    "        elif 'miles' in nearby['Distance_miles'][i]:\n",
    "            nearby['Distance_miles'][i] = float(nearby['Distance_miles'][i].replace(' miles',''))\n",
    "            nearby['Distance_minutes'][i]  = (nearby['Distance_miles'][i]/40)*60\n",
    "        \n",
    "        else:\n",
    "            nearby['Distance_miles'][i] = float(nearby['Distance_miles'][i].replace(' mi',''))\n",
    "            nearby['Distance_minutes'][i]  = (nearby['Distance_miles'][i]/40)*60\n"
   ]
  },
  {
   "cell_type": "code",
   "execution_count": 76,
   "metadata": {},
   "outputs": [
    {
     "name": "stderr",
     "output_type": "stream",
     "text": [
      "<ipython-input-75-577e2fc1fe46>:5: SettingWithCopyWarning: \n",
      "A value is trying to be set on a copy of a slice from a DataFrame\n",
      "\n",
      "See the caveats in the documentation: https://pandas.pydata.org/pandas-docs/stable/user_guide/indexing.html#returning-a-view-versus-a-copy\n",
      "  nearby['Distance_miles'][i] = float(nearby['Distance_miles'][i].replace(' minutes',''))\n",
      "<ipython-input-75-577e2fc1fe46>:6: SettingWithCopyWarning: \n",
      "A value is trying to be set on a copy of a slice from a DataFrame\n",
      "\n",
      "See the caveats in the documentation: https://pandas.pydata.org/pandas-docs/stable/user_guide/indexing.html#returning-a-view-versus-a-copy\n",
      "  nearby['Distance_minutes'][i] = nearby['Distance_miles'][i]\n",
      "<ipython-input-75-577e2fc1fe46>:7: SettingWithCopyWarning: \n",
      "A value is trying to be set on a copy of a slice from a DataFrame\n",
      "\n",
      "See the caveats in the documentation: https://pandas.pydata.org/pandas-docs/stable/user_guide/indexing.html#returning-a-view-versus-a-copy\n",
      "  nearby['Distance_miles'][i] = 40 * nearby['Distance_miles'][i]/60\n",
      "<ipython-input-75-577e2fc1fe46>:19: SettingWithCopyWarning: \n",
      "A value is trying to be set on a copy of a slice from a DataFrame\n",
      "\n",
      "See the caveats in the documentation: https://pandas.pydata.org/pandas-docs/stable/user_guide/indexing.html#returning-a-view-versus-a-copy\n",
      "  nearby['Distance_miles'][i] = float(nearby['Distance_miles'][i].replace(' miles',''))\n",
      "<ipython-input-75-577e2fc1fe46>:20: SettingWithCopyWarning: \n",
      "A value is trying to be set on a copy of a slice from a DataFrame\n",
      "\n",
      "See the caveats in the documentation: https://pandas.pydata.org/pandas-docs/stable/user_guide/indexing.html#returning-a-view-versus-a-copy\n",
      "  nearby['Distance_minutes'][i]  = (nearby['Distance_miles'][i]/40)*60\n",
      "<ipython-input-75-577e2fc1fe46>:10: SettingWithCopyWarning: \n",
      "A value is trying to be set on a copy of a slice from a DataFrame\n",
      "\n",
      "See the caveats in the documentation: https://pandas.pydata.org/pandas-docs/stable/user_guide/indexing.html#returning-a-view-versus-a-copy\n",
      "  nearby['Distance_miles'][i] = float(nearby['Distance_miles'][i].replace(' minute',''))\n",
      "<ipython-input-75-577e2fc1fe46>:11: SettingWithCopyWarning: \n",
      "A value is trying to be set on a copy of a slice from a DataFrame\n",
      "\n",
      "See the caveats in the documentation: https://pandas.pydata.org/pandas-docs/stable/user_guide/indexing.html#returning-a-view-versus-a-copy\n",
      "  nearby['Distance_minutes'][i] = nearby['Distance_miles'][i]\n",
      "<ipython-input-75-577e2fc1fe46>:12: SettingWithCopyWarning: \n",
      "A value is trying to be set on a copy of a slice from a DataFrame\n",
      "\n",
      "See the caveats in the documentation: https://pandas.pydata.org/pandas-docs/stable/user_guide/indexing.html#returning-a-view-versus-a-copy\n",
      "  nearby['Distance_miles'][i] = 40 * nearby['Distance_miles'][i]/60\n",
      "<ipython-input-75-577e2fc1fe46>:15: SettingWithCopyWarning: \n",
      "A value is trying to be set on a copy of a slice from a DataFrame\n",
      "\n",
      "See the caveats in the documentation: https://pandas.pydata.org/pandas-docs/stable/user_guide/indexing.html#returning-a-view-versus-a-copy\n",
      "  nearby['Distance_miles'][i] = (float(nearby['Distance_miles'][i].replace(' ft','')))/5280\n",
      "<ipython-input-75-577e2fc1fe46>:16: SettingWithCopyWarning: \n",
      "A value is trying to be set on a copy of a slice from a DataFrame\n",
      "\n",
      "See the caveats in the documentation: https://pandas.pydata.org/pandas-docs/stable/user_guide/indexing.html#returning-a-view-versus-a-copy\n",
      "  nearby['Distance_minutes'][i]  = (nearby['Distance_miles'][i]/40)*60\n",
      "<ipython-input-75-577e2fc1fe46>:23: SettingWithCopyWarning: \n",
      "A value is trying to be set on a copy of a slice from a DataFrame\n",
      "\n",
      "See the caveats in the documentation: https://pandas.pydata.org/pandas-docs/stable/user_guide/indexing.html#returning-a-view-versus-a-copy\n",
      "  nearby['Distance_miles'][i] = float(nearby['Distance_miles'][i].replace(' mi',''))\n",
      "<ipython-input-75-577e2fc1fe46>:24: SettingWithCopyWarning: \n",
      "A value is trying to be set on a copy of a slice from a DataFrame\n",
      "\n",
      "See the caveats in the documentation: https://pandas.pydata.org/pandas-docs/stable/user_guide/indexing.html#returning-a-view-versus-a-copy\n",
      "  nearby['Distance_minutes'][i]  = (nearby['Distance_miles'][i]/40)*60\n"
     ]
    }
   ],
   "source": [
    "convert_dist()"
   ]
  },
  {
   "cell_type": "code",
   "execution_count": 77,
   "metadata": {},
   "outputs": [
    {
     "data": {
      "text/plain": [
       "POI_name               0\n",
       "POI_nearby_name        0\n",
       "Address             1041\n",
       "Distance_miles         0\n",
       "Distance_minutes       0\n",
       "dtype: int64"
      ]
     },
     "execution_count": 77,
     "metadata": {},
     "output_type": "execute_result"
    }
   ],
   "source": [
    "nearby.isna().sum()"
   ]
  },
  {
   "cell_type": "code",
   "execution_count": 78,
   "metadata": {},
   "outputs": [],
   "source": [
    "nearby.to_csv(r'C:\\Users\\Anurag\\Documents\\TA_data\\New data\\All_Data\\Preprocessed_data\\final_nearby.csv', index = False, header=True)"
   ]
  },
  {
   "cell_type": "code",
   "execution_count": null,
   "metadata": {},
   "outputs": [],
   "source": []
  }
 ],
 "metadata": {
  "kernelspec": {
   "display_name": "Python 3",
   "language": "python",
   "name": "python3"
  },
  "language_info": {
   "codemirror_mode": {
    "name": "ipython",
    "version": 3
   },
   "file_extension": ".py",
   "mimetype": "text/x-python",
   "name": "python",
   "nbconvert_exporter": "python",
   "pygments_lexer": "ipython3",
   "version": "3.8.5"
  }
 },
 "nbformat": 4,
 "nbformat_minor": 4
}
