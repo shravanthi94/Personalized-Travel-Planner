{
 "cells": [
  {
   "cell_type": "code",
   "execution_count": 6,
   "metadata": {},
   "outputs": [],
   "source": [
    "import pandas as pd\n",
    "import numpy as np"
   ]
  },
  {
   "cell_type": "code",
   "execution_count": 7,
   "metadata": {},
   "outputs": [],
   "source": [
    "reviews = pd.read_excel('Anaheim_POI_Reviews.xlsx')\n",
    "nearby = pd.read_excel('Anaheim_POI_NearBy.xlsx')"
   ]
  },
  {
   "cell_type": "code",
   "execution_count": 8,
   "metadata": {
    "scrolled": true
   },
   "outputs": [
    {
     "data": {
      "text/html": [
       "<div>\n",
       "<style scoped>\n",
       "    .dataframe tbody tr th:only-of-type {\n",
       "        vertical-align: middle;\n",
       "    }\n",
       "\n",
       "    .dataframe tbody tr th {\n",
       "        vertical-align: top;\n",
       "    }\n",
       "\n",
       "    .dataframe thead th {\n",
       "        text-align: right;\n",
       "    }\n",
       "</style>\n",
       "<table border=\"1\" class=\"dataframe\">\n",
       "  <thead>\n",
       "    <tr style=\"text-align: right;\">\n",
       "      <th></th>\n",
       "      <th>POI_name</th>\n",
       "      <th>POI_reviews_count</th>\n",
       "      <th>POI_description</th>\n",
       "      <th>POI_hours_today</th>\n",
       "      <th>POI_address/sugg_duration</th>\n",
       "      <th>POI_address2</th>\n",
       "      <th>POI_rating</th>\n",
       "      <th>POI_category</th>\n",
       "      <th>POI_address3</th>\n",
       "      <th>POI_open-close_hours</th>\n",
       "      <th>POI_reviews</th>\n",
       "      <th>Root</th>\n",
       "    </tr>\n",
       "  </thead>\n",
       "  <tbody>\n",
       "    <tr>\n",
       "      <th>0</th>\n",
       "      <td>Disney California Adventure Park</td>\n",
       "      <td>15495 Reviews</td>\n",
       "      <td>Experience the thrill of the an old wooden rol...</td>\n",
       "      <td>NaN</td>\n",
       "      <td>Address:\\n1313 Disneyland Drive, Anaheim, CA 9...</td>\n",
       "      <td>NaN</td>\n",
       "      <td>4.5</td>\n",
       "      <td>Amusement &amp; Theme Parks, Disney Parks &amp; Activi...</td>\n",
       "      <td>1313 Disneyland Drive, Anaheim, CA 92803-3232</td>\n",
       "      <td>NaN</td>\n",
       "      <td>Disney California Adventure is an excellent ad...</td>\n",
       "      <td>NaN</td>\n",
       "    </tr>\n",
       "    <tr>\n",
       "      <th>1</th>\n",
       "      <td>Disney California Adventure Park</td>\n",
       "      <td>15496 Reviews</td>\n",
       "      <td>Experience the thrill of the an old wooden rol...</td>\n",
       "      <td>NaN</td>\n",
       "      <td>Address:\\n1313 Disneyland Drive, Anaheim, CA 9...</td>\n",
       "      <td>NaN</td>\n",
       "      <td>4.5</td>\n",
       "      <td>Amusement &amp; Theme Parks, Disney Parks &amp; Activi...</td>\n",
       "      <td>1313 Disneyland Drive, Anaheim, CA 92803-3232</td>\n",
       "      <td>NaN</td>\n",
       "      <td>There were so many things wrong with this even...</td>\n",
       "      <td>NaN</td>\n",
       "    </tr>\n",
       "    <tr>\n",
       "      <th>2</th>\n",
       "      <td>Disney California Adventure Park</td>\n",
       "      <td>15497 Reviews</td>\n",
       "      <td>Experience the thrill of the an old wooden rol...</td>\n",
       "      <td>NaN</td>\n",
       "      <td>Address:\\n1313 Disneyland Drive, Anaheim, CA 9...</td>\n",
       "      <td>NaN</td>\n",
       "      <td>4.5</td>\n",
       "      <td>Amusement &amp; Theme Parks, Disney Parks &amp; Activi...</td>\n",
       "      <td>1313 Disneyland Drive, Anaheim, CA 92803-3232</td>\n",
       "      <td>NaN</td>\n",
       "      <td>Having to maneuver Disneyland California Adven...</td>\n",
       "      <td>NaN</td>\n",
       "    </tr>\n",
       "    <tr>\n",
       "      <th>3</th>\n",
       "      <td>Disney California Adventure Park</td>\n",
       "      <td>15498 Reviews</td>\n",
       "      <td>Experience the thrill of the an old wooden rol...</td>\n",
       "      <td>NaN</td>\n",
       "      <td>Address:\\n1313 Disneyland Drive, Anaheim, CA 9...</td>\n",
       "      <td>NaN</td>\n",
       "      <td>4.5</td>\n",
       "      <td>Amusement &amp; Theme Parks, Disney Parks &amp; Activi...</td>\n",
       "      <td>1313 Disneyland Drive, Anaheim, CA 92803-3232</td>\n",
       "      <td>NaN</td>\n",
       "      <td>Buena Vista Street open only to stores and som...</td>\n",
       "      <td>NaN</td>\n",
       "    </tr>\n",
       "    <tr>\n",
       "      <th>4</th>\n",
       "      <td>Disney California Adventure Park</td>\n",
       "      <td>15499 Reviews</td>\n",
       "      <td>Experience the thrill of the an old wooden rol...</td>\n",
       "      <td>NaN</td>\n",
       "      <td>Address:\\n1313 Disneyland Drive, Anaheim, CA 9...</td>\n",
       "      <td>NaN</td>\n",
       "      <td>4.5</td>\n",
       "      <td>Amusement &amp; Theme Parks, Disney Parks &amp; Activi...</td>\n",
       "      <td>1313 Disneyland Drive, Anaheim, CA 92803-3232</td>\n",
       "      <td>NaN</td>\n",
       "      <td>I went to Disneyland in January of 2020. Right...</td>\n",
       "      <td>NaN</td>\n",
       "    </tr>\n",
       "  </tbody>\n",
       "</table>\n",
       "</div>"
      ],
      "text/plain": [
       "                           POI_name POI_reviews_count  \\\n",
       "0  Disney California Adventure Park     15495 Reviews   \n",
       "1  Disney California Adventure Park     15496 Reviews   \n",
       "2  Disney California Adventure Park     15497 Reviews   \n",
       "3  Disney California Adventure Park     15498 Reviews   \n",
       "4  Disney California Adventure Park     15499 Reviews   \n",
       "\n",
       "                                     POI_description POI_hours_today  \\\n",
       "0  Experience the thrill of the an old wooden rol...             NaN   \n",
       "1  Experience the thrill of the an old wooden rol...             NaN   \n",
       "2  Experience the thrill of the an old wooden rol...             NaN   \n",
       "3  Experience the thrill of the an old wooden rol...             NaN   \n",
       "4  Experience the thrill of the an old wooden rol...             NaN   \n",
       "\n",
       "                           POI_address/sugg_duration POI_address2  POI_rating  \\\n",
       "0  Address:\\n1313 Disneyland Drive, Anaheim, CA 9...          NaN         4.5   \n",
       "1  Address:\\n1313 Disneyland Drive, Anaheim, CA 9...          NaN         4.5   \n",
       "2  Address:\\n1313 Disneyland Drive, Anaheim, CA 9...          NaN         4.5   \n",
       "3  Address:\\n1313 Disneyland Drive, Anaheim, CA 9...          NaN         4.5   \n",
       "4  Address:\\n1313 Disneyland Drive, Anaheim, CA 9...          NaN         4.5   \n",
       "\n",
       "                                        POI_category  \\\n",
       "0  Amusement & Theme Parks, Disney Parks & Activi...   \n",
       "1  Amusement & Theme Parks, Disney Parks & Activi...   \n",
       "2  Amusement & Theme Parks, Disney Parks & Activi...   \n",
       "3  Amusement & Theme Parks, Disney Parks & Activi...   \n",
       "4  Amusement & Theme Parks, Disney Parks & Activi...   \n",
       "\n",
       "                                    POI_address3 POI_open-close_hours  \\\n",
       "0  1313 Disneyland Drive, Anaheim, CA 92803-3232                  NaN   \n",
       "1  1313 Disneyland Drive, Anaheim, CA 92803-3232                  NaN   \n",
       "2  1313 Disneyland Drive, Anaheim, CA 92803-3232                  NaN   \n",
       "3  1313 Disneyland Drive, Anaheim, CA 92803-3232                  NaN   \n",
       "4  1313 Disneyland Drive, Anaheim, CA 92803-3232                  NaN   \n",
       "\n",
       "                                         POI_reviews  Root  \n",
       "0  Disney California Adventure is an excellent ad...   NaN  \n",
       "1  There were so many things wrong with this even...   NaN  \n",
       "2  Having to maneuver Disneyland California Adven...   NaN  \n",
       "3  Buena Vista Street open only to stores and som...   NaN  \n",
       "4  I went to Disneyland in January of 2020. Right...   NaN  "
      ]
     },
     "execution_count": 8,
     "metadata": {},
     "output_type": "execute_result"
    }
   ],
   "source": [
    "reviews.head(5)"
   ]
  },
  {
   "cell_type": "code",
   "execution_count": 9,
   "metadata": {},
   "outputs": [
    {
     "data": {
      "text/plain": [
       "POI_name                        0\n",
       "POI_reviews_count               0\n",
       "POI_description               897\n",
       "POI_hours_today               972\n",
       "POI_address/sugg_duration     922\n",
       "POI_address2                  997\n",
       "POI_rating                    847\n",
       "POI_category                    0\n",
       "POI_address3                    0\n",
       "POI_open-close_hours          997\n",
       "POI_reviews                     0\n",
       "Root                         1022\n",
       "dtype: int64"
      ]
     },
     "execution_count": 9,
     "metadata": {},
     "output_type": "execute_result"
    }
   ],
   "source": [
    "reviews.isna().sum()"
   ]
  },
  {
   "cell_type": "code",
   "execution_count": 11,
   "metadata": {},
   "outputs": [],
   "source": [
    "POI_sugg_durations = []\n",
    "col = 'POI_address/sugg_duration'\n",
    "for i in range(len(reviews[col])):\n",
    "    value = reviews[col][i]\n",
    "    \n",
    "    if str(value).startswith('Suggested'):\n",
    "        POI_sugg_durations.append(value)\n",
    "    else:\n",
    "        POI_sugg_durations.append(\"NA\")\n",
    "reviews[\"POI_Suggested_Duration\"] = POI_sugg_durations"
   ]
  },
  {
   "cell_type": "code",
   "execution_count": 12,
   "metadata": {},
   "outputs": [],
   "source": [
    "final_reviews = reviews[[\"POI_name\", \"POI_reviews_count\",\"POI_category\", \"POI_description\", \n",
    "                   \"POI_rating\", \"POI_address3\", \"POI_Suggested_Duration\", \"POI_open-close_hours\", \"POI_reviews\"]]"
   ]
  },
  {
   "cell_type": "code",
   "execution_count": 13,
   "metadata": {},
   "outputs": [],
   "source": [
    "final_reviews.columns = [\"POI_name\", \"POI_reviews_count\",\"POI_category\", \"POI_description\", \n",
    "                   \"POI_rating\", \"POI_address\", \"POI_Suggested_Duration\", \"POI_open_close_hours\", \"POI_reviews\"]"
   ]
  },
  {
   "cell_type": "code",
   "execution_count": 14,
   "metadata": {},
   "outputs": [
    {
     "name": "stderr",
     "output_type": "stream",
     "text": [
      "<ipython-input-14-42edeb49ed32>:1: SettingWithCopyWarning: \n",
      "A value is trying to be set on a copy of a slice from a DataFrame.\n",
      "Try using .loc[row_indexer,col_indexer] = value instead\n",
      "\n",
      "See the caveats in the documentation: https://pandas.pydata.org/pandas-docs/stable/user_guide/indexing.html#returning-a-view-versus-a-copy\n",
      "  final_reviews['POI_reviews_count'] = final_reviews['POI_reviews_count'].str.replace('Reviews', \"\")\n",
      "<ipython-input-14-42edeb49ed32>:2: SettingWithCopyWarning: \n",
      "A value is trying to be set on a copy of a slice from a DataFrame.\n",
      "Try using .loc[row_indexer,col_indexer] = value instead\n",
      "\n",
      "See the caveats in the documentation: https://pandas.pydata.org/pandas-docs/stable/user_guide/indexing.html#returning-a-view-versus-a-copy\n",
      "  final_reviews['POI_reviews_count'] = final_reviews['POI_reviews_count'].str.replace(\",\",\"\")\n",
      "<ipython-input-14-42edeb49ed32>:3: SettingWithCopyWarning: \n",
      "A value is trying to be set on a copy of a slice from a DataFrame.\n",
      "Try using .loc[row_indexer,col_indexer] = value instead\n",
      "\n",
      "See the caveats in the documentation: https://pandas.pydata.org/pandas-docs/stable/user_guide/indexing.html#returning-a-view-versus-a-copy\n",
      "  final_reviews['POI_reviews_count'] = final_reviews['POI_reviews_count'].str.strip().astype(int)\n"
     ]
    }
   ],
   "source": [
    "final_reviews['POI_reviews_count'] = final_reviews['POI_reviews_count'].str.replace('Reviews', \"\")\n",
    "final_reviews['POI_reviews_count'] = final_reviews['POI_reviews_count'].str.replace(\",\",\"\")\n",
    "final_reviews['POI_reviews_count'] = final_reviews['POI_reviews_count'].str.strip().astype(int)"
   ]
  },
  {
   "cell_type": "code",
   "execution_count": 15,
   "metadata": {},
   "outputs": [
    {
     "name": "stderr",
     "output_type": "stream",
     "text": [
      "<ipython-input-15-622a4103df62>:1: SettingWithCopyWarning: \n",
      "A value is trying to be set on a copy of a slice from a DataFrame.\n",
      "Try using .loc[row_indexer,col_indexer] = value instead\n",
      "\n",
      "See the caveats in the documentation: https://pandas.pydata.org/pandas-docs/stable/user_guide/indexing.html#returning-a-view-versus-a-copy\n",
      "  final_reviews['POI_rating'] = final_reviews['POI_rating'].fillna(method='ffill')\n"
     ]
    },
    {
     "data": {
      "text/plain": [
       "POI_name                    0\n",
       "POI_reviews_count           0\n",
       "POI_category                0\n",
       "POI_description           897\n",
       "POI_rating                  0\n",
       "POI_address                 0\n",
       "POI_Suggested_Duration      0\n",
       "POI_open_close_hours      997\n",
       "POI_reviews                 0\n",
       "dtype: int64"
      ]
     },
     "execution_count": 15,
     "metadata": {},
     "output_type": "execute_result"
    }
   ],
   "source": [
    "final_reviews['POI_rating'] = final_reviews['POI_rating'].fillna(method='ffill')\n",
    "final_reviews.isna().sum()"
   ]
  },
  {
   "cell_type": "code",
   "execution_count": 16,
   "metadata": {},
   "outputs": [],
   "source": [
    "final_reviews.to_csv (r'C:\\Users\\Anurag\\Documents\\TA_data\\New data\\All_Data\\Preprocessed_data\\Anaheim_reviews.csv', index = False, header=True)"
   ]
  },
  {
   "cell_type": "code",
   "execution_count": null,
   "metadata": {},
   "outputs": [],
   "source": []
  }
 ],
 "metadata": {
  "kernelspec": {
   "display_name": "Python 3",
   "language": "python",
   "name": "python3"
  },
  "language_info": {
   "codemirror_mode": {
    "name": "ipython",
    "version": 3
   },
   "file_extension": ".py",
   "mimetype": "text/x-python",
   "name": "python",
   "nbconvert_exporter": "python",
   "pygments_lexer": "ipython3",
   "version": "3.8.5"
  }
 },
 "nbformat": 4,
 "nbformat_minor": 4
}
