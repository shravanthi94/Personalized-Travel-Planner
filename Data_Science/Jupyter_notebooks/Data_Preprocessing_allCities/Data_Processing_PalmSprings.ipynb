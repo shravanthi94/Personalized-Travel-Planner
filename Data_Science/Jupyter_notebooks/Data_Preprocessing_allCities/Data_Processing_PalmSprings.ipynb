{
 "cells": [
  {
   "cell_type": "code",
   "execution_count": 32,
   "metadata": {},
   "outputs": [],
   "source": [
    "import pandas as pd\n",
    "import numpy as np"
   ]
  },
  {
   "cell_type": "code",
   "execution_count": 33,
   "metadata": {},
   "outputs": [],
   "source": [
    "reviews = pd.read_csv('PalmSprings_POI_Reviews.csv')\n",
    "nearby = pd.read_csv('PalmSprings_POI_NearBy.csv')"
   ]
  },
  {
   "cell_type": "code",
   "execution_count": 34,
   "metadata": {},
   "outputs": [
    {
     "data": {
      "text/html": [
       "<div>\n",
       "<style scoped>\n",
       "    .dataframe tbody tr th:only-of-type {\n",
       "        vertical-align: middle;\n",
       "    }\n",
       "\n",
       "    .dataframe tbody tr th {\n",
       "        vertical-align: top;\n",
       "    }\n",
       "\n",
       "    .dataframe thead th {\n",
       "        text-align: right;\n",
       "    }\n",
       "</style>\n",
       "<table border=\"1\" class=\"dataframe\">\n",
       "  <thead>\n",
       "    <tr style=\"text-align: right;\">\n",
       "      <th></th>\n",
       "      <th>POI_name</th>\n",
       "      <th>POI_reviews_count</th>\n",
       "      <th>POI_category</th>\n",
       "      <th>POI_description</th>\n",
       "      <th>POI_hours_today</th>\n",
       "      <th>POI_address/sugg_duration</th>\n",
       "      <th>POI_address2</th>\n",
       "      <th>POI_rating</th>\n",
       "      <th>POI_address3</th>\n",
       "      <th>category2</th>\n",
       "      <th>category3</th>\n",
       "      <th>POI_open-close_hours</th>\n",
       "      <th>POI_reviews</th>\n",
       "      <th>Root</th>\n",
       "    </tr>\n",
       "  </thead>\n",
       "  <tbody>\n",
       "    <tr>\n",
       "      <th>0</th>\n",
       "      <td>Palm Springs Aerial Tramway</td>\n",
       "      <td>9,198 Reviews</td>\n",
       "      <td>Tramways</td>\n",
       "      <td>World's largest rotating Tram car. Opened in 1...</td>\n",
       "      <td>NaN</td>\n",
       "      <td>NaN</td>\n",
       "      <td>NaN</td>\n",
       "      <td>4.5</td>\n",
       "      <td>1 Tramway Rd, Palm Springs, Greater Palm Sprin...</td>\n",
       "      <td>NaN</td>\n",
       "      <td>NaN</td>\n",
       "      <td>NaN</td>\n",
       "      <td>This was a fun thing to do to escape the heat ...</td>\n",
       "      <td>NaN</td>\n",
       "    </tr>\n",
       "    <tr>\n",
       "      <th>1</th>\n",
       "      <td>Palm Springs Aerial Tramway</td>\n",
       "      <td>9,198 Reviews</td>\n",
       "      <td>Tramways</td>\n",
       "      <td>World's largest rotating Tram car. Opened in 1...</td>\n",
       "      <td>NaN</td>\n",
       "      <td>NaN</td>\n",
       "      <td>NaN</td>\n",
       "      <td>4.5</td>\n",
       "      <td>1 Tramway Rd, Palm Springs, Greater Palm Sprin...</td>\n",
       "      <td>NaN</td>\n",
       "      <td>NaN</td>\n",
       "      <td>NaN</td>\n",
       "      <td>The web site says that you can purchase &amp; prin...</td>\n",
       "      <td>undefined</td>\n",
       "    </tr>\n",
       "    <tr>\n",
       "      <th>2</th>\n",
       "      <td>Palm Springs Aerial Tramway</td>\n",
       "      <td>9,198 Reviews</td>\n",
       "      <td>Tramways</td>\n",
       "      <td>World's largest rotating Tram car. Opened in 1...</td>\n",
       "      <td>NaN</td>\n",
       "      <td>NaN</td>\n",
       "      <td>NaN</td>\n",
       "      <td>4.5</td>\n",
       "      <td>1 Tramway Rd, Palm Springs, Greater Palm Sprin...</td>\n",
       "      <td>NaN</td>\n",
       "      <td>NaN</td>\n",
       "      <td>NaN</td>\n",
       "      <td>So glad we did this as a family. Breathtaking ...</td>\n",
       "      <td>undefined</td>\n",
       "    </tr>\n",
       "    <tr>\n",
       "      <th>3</th>\n",
       "      <td>Palm Springs Aerial Tramway</td>\n",
       "      <td>9,198 Reviews</td>\n",
       "      <td>Tramways</td>\n",
       "      <td>World's largest rotating Tram car. Opened in 1...</td>\n",
       "      <td>NaN</td>\n",
       "      <td>NaN</td>\n",
       "      <td>NaN</td>\n",
       "      <td>4.5</td>\n",
       "      <td>1 Tramway Rd, Palm Springs, Greater Palm Sprin...</td>\n",
       "      <td>NaN</td>\n",
       "      <td>NaN</td>\n",
       "      <td>NaN</td>\n",
       "      <td>Great afternoon activity.  The staff was very ...</td>\n",
       "      <td>undefined</td>\n",
       "    </tr>\n",
       "    <tr>\n",
       "      <th>4</th>\n",
       "      <td>Palm Springs Aerial Tramway</td>\n",
       "      <td>9,198 Reviews</td>\n",
       "      <td>Tramways</td>\n",
       "      <td>World's largest rotating Tram car. Opened in 1...</td>\n",
       "      <td>NaN</td>\n",
       "      <td>NaN</td>\n",
       "      <td>NaN</td>\n",
       "      <td>4.5</td>\n",
       "      <td>1 Tramway Rd, Palm Springs, Greater Palm Sprin...</td>\n",
       "      <td>NaN</td>\n",
       "      <td>NaN</td>\n",
       "      <td>NaN</td>\n",
       "      <td>Didn’t realize we needed reservations, not men...</td>\n",
       "      <td>undefined</td>\n",
       "    </tr>\n",
       "  </tbody>\n",
       "</table>\n",
       "</div>"
      ],
      "text/plain": [
       "                      POI_name POI_reviews_count POI_category  \\\n",
       "0  Palm Springs Aerial Tramway     9,198 Reviews     Tramways   \n",
       "1  Palm Springs Aerial Tramway     9,198 Reviews     Tramways   \n",
       "2  Palm Springs Aerial Tramway     9,198 Reviews     Tramways   \n",
       "3  Palm Springs Aerial Tramway     9,198 Reviews     Tramways   \n",
       "4  Palm Springs Aerial Tramway     9,198 Reviews     Tramways   \n",
       "\n",
       "                                     POI_description POI_hours_today  \\\n",
       "0  World's largest rotating Tram car. Opened in 1...             NaN   \n",
       "1  World's largest rotating Tram car. Opened in 1...             NaN   \n",
       "2  World's largest rotating Tram car. Opened in 1...             NaN   \n",
       "3  World's largest rotating Tram car. Opened in 1...             NaN   \n",
       "4  World's largest rotating Tram car. Opened in 1...             NaN   \n",
       "\n",
       "  POI_address/sugg_duration POI_address2  POI_rating  \\\n",
       "0                       NaN          NaN         4.5   \n",
       "1                       NaN          NaN         4.5   \n",
       "2                       NaN          NaN         4.5   \n",
       "3                       NaN          NaN         4.5   \n",
       "4                       NaN          NaN         4.5   \n",
       "\n",
       "                                        POI_address3 category2 category3  \\\n",
       "0  1 Tramway Rd, Palm Springs, Greater Palm Sprin...       NaN       NaN   \n",
       "1  1 Tramway Rd, Palm Springs, Greater Palm Sprin...       NaN       NaN   \n",
       "2  1 Tramway Rd, Palm Springs, Greater Palm Sprin...       NaN       NaN   \n",
       "3  1 Tramway Rd, Palm Springs, Greater Palm Sprin...       NaN       NaN   \n",
       "4  1 Tramway Rd, Palm Springs, Greater Palm Sprin...       NaN       NaN   \n",
       "\n",
       "  POI_open-close_hours                                        POI_reviews  \\\n",
       "0                  NaN  This was a fun thing to do to escape the heat ...   \n",
       "1                  NaN  The web site says that you can purchase & prin...   \n",
       "2                  NaN  So glad we did this as a family. Breathtaking ...   \n",
       "3                  NaN  Great afternoon activity.  The staff was very ...   \n",
       "4                  NaN  Didn’t realize we needed reservations, not men...   \n",
       "\n",
       "        Root  \n",
       "0        NaN  \n",
       "1  undefined  \n",
       "2  undefined  \n",
       "3  undefined  \n",
       "4  undefined  "
      ]
     },
     "execution_count": 34,
     "metadata": {},
     "output_type": "execute_result"
    }
   ],
   "source": [
    "reviews.head()"
   ]
  },
  {
   "cell_type": "code",
   "execution_count": 35,
   "metadata": {},
   "outputs": [],
   "source": [
    "POI_sugg_durations = []\n",
    "col = 'POI_address/sugg_duration'\n",
    "for i in range(len(reviews[col])):\n",
    "    value = reviews[col][i]\n",
    "    \n",
    "    if str(value).startswith('Suggested'):\n",
    "        POI_sugg_durations.append(value)\n",
    "    else:\n",
    "        POI_sugg_durations.append(\"NA\")\n",
    "reviews[\"POI_Suggested_Duration\"] = POI_sugg_durations"
   ]
  },
  {
   "cell_type": "code",
   "execution_count": 36,
   "metadata": {},
   "outputs": [
    {
     "data": {
      "text/plain": [
       "POI_name                       0\n",
       "POI_reviews_count              0\n",
       "POI_category                   0\n",
       "POI_description              453\n",
       "POI_hours_today              794\n",
       "POI_address/sugg_duration    778\n",
       "POI_address2                 929\n",
       "POI_rating                   544\n",
       "POI_address3                  34\n",
       "category2                    819\n",
       "category3                    954\n",
       "POI_open-close_hours         794\n",
       "POI_reviews                    0\n",
       "Root                          35\n",
       "POI_Suggested_Duration         0\n",
       "dtype: int64"
      ]
     },
     "execution_count": 36,
     "metadata": {},
     "output_type": "execute_result"
    }
   ],
   "source": [
    "reviews.isna().sum()"
   ]
  },
  {
   "cell_type": "code",
   "execution_count": 37,
   "metadata": {},
   "outputs": [],
   "source": [
    "final_reviews = reviews[[\"POI_name\", \"POI_reviews_count\",\"POI_category\", \"POI_description\", \n",
    "                   \"POI_rating\", \"POI_address3\", \"POI_Suggested_Duration\", \"POI_open-close_hours\", \"POI_reviews\"]]"
   ]
  },
  {
   "cell_type": "code",
   "execution_count": 38,
   "metadata": {},
   "outputs": [],
   "source": [
    "final_reviews.columns = [\"POI_name\", \"POI_reviews_count\",\"POI_category\", \"POI_description\", \n",
    "                   \"POI_rating\", \"POI_address\", \"POI_Suggested_Duration\", \"POI_open_close_hours\", \"POI_reviews\"]"
   ]
  },
  {
   "cell_type": "code",
   "execution_count": 39,
   "metadata": {},
   "outputs": [
    {
     "name": "stderr",
     "output_type": "stream",
     "text": [
      "<ipython-input-39-42edeb49ed32>:1: SettingWithCopyWarning: \n",
      "A value is trying to be set on a copy of a slice from a DataFrame.\n",
      "Try using .loc[row_indexer,col_indexer] = value instead\n",
      "\n",
      "See the caveats in the documentation: https://pandas.pydata.org/pandas-docs/stable/user_guide/indexing.html#returning-a-view-versus-a-copy\n",
      "  final_reviews['POI_reviews_count'] = final_reviews['POI_reviews_count'].str.replace('Reviews', \"\")\n",
      "<ipython-input-39-42edeb49ed32>:2: SettingWithCopyWarning: \n",
      "A value is trying to be set on a copy of a slice from a DataFrame.\n",
      "Try using .loc[row_indexer,col_indexer] = value instead\n",
      "\n",
      "See the caveats in the documentation: https://pandas.pydata.org/pandas-docs/stable/user_guide/indexing.html#returning-a-view-versus-a-copy\n",
      "  final_reviews['POI_reviews_count'] = final_reviews['POI_reviews_count'].str.replace(\",\",\"\")\n",
      "<ipython-input-39-42edeb49ed32>:3: SettingWithCopyWarning: \n",
      "A value is trying to be set on a copy of a slice from a DataFrame.\n",
      "Try using .loc[row_indexer,col_indexer] = value instead\n",
      "\n",
      "See the caveats in the documentation: https://pandas.pydata.org/pandas-docs/stable/user_guide/indexing.html#returning-a-view-versus-a-copy\n",
      "  final_reviews['POI_reviews_count'] = final_reviews['POI_reviews_count'].str.strip().astype(int)\n"
     ]
    }
   ],
   "source": [
    "final_reviews['POI_reviews_count'] = final_reviews['POI_reviews_count'].str.replace('Reviews', \"\")\n",
    "final_reviews['POI_reviews_count'] = final_reviews['POI_reviews_count'].str.replace(\",\",\"\")\n",
    "final_reviews['POI_reviews_count'] = final_reviews['POI_reviews_count'].str.strip().astype(int)"
   ]
  },
  {
   "cell_type": "code",
   "execution_count": 40,
   "metadata": {},
   "outputs": [
    {
     "name": "stderr",
     "output_type": "stream",
     "text": [
      "<ipython-input-40-c5a93c8ed764>:1: SettingWithCopyWarning: \n",
      "A value is trying to be set on a copy of a slice from a DataFrame.\n",
      "Try using .loc[row_indexer,col_indexer] = value instead\n",
      "\n",
      "See the caveats in the documentation: https://pandas.pydata.org/pandas-docs/stable/user_guide/indexing.html#returning-a-view-versus-a-copy\n",
      "  final_reviews['POI_rating'] = final_reviews['POI_rating'].fillna(method='ffill')\n"
     ]
    },
    {
     "data": {
      "text/plain": [
       "POI_name                    0\n",
       "POI_reviews_count           0\n",
       "POI_category                0\n",
       "POI_description           453\n",
       "POI_rating                  0\n",
       "POI_address                34\n",
       "POI_Suggested_Duration      0\n",
       "POI_open_close_hours      794\n",
       "POI_reviews                 0\n",
       "dtype: int64"
      ]
     },
     "execution_count": 40,
     "metadata": {},
     "output_type": "execute_result"
    }
   ],
   "source": [
    "final_reviews['POI_rating'] = final_reviews['POI_rating'].fillna(method='ffill')\n",
    "\n",
    "final_reviews.isna().sum()"
   ]
  },
  {
   "cell_type": "code",
   "execution_count": 41,
   "metadata": {},
   "outputs": [],
   "source": [
    "final_reviews.to_csv (r'C:\\Users\\Anurag\\Documents\\TA_data\\New data\\All_Data\\Preprocessed_data\\PalmSprings_reviews.csv', index = False, header=True)"
   ]
  },
  {
   "cell_type": "code",
   "execution_count": null,
   "metadata": {},
   "outputs": [],
   "source": []
  }
 ],
 "metadata": {
  "kernelspec": {
   "display_name": "Python 3",
   "language": "python",
   "name": "python3"
  },
  "language_info": {
   "codemirror_mode": {
    "name": "ipython",
    "version": 3
   },
   "file_extension": ".py",
   "mimetype": "text/x-python",
   "name": "python",
   "nbconvert_exporter": "python",
   "pygments_lexer": "ipython3",
   "version": "3.8.5"
  }
 },
 "nbformat": 4,
 "nbformat_minor": 4
}
