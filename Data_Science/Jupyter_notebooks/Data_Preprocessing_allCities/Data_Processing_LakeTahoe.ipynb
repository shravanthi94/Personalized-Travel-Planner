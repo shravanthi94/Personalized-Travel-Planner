{
 "cells": [
  {
   "cell_type": "code",
   "execution_count": 52,
   "metadata": {},
   "outputs": [],
   "source": [
    "import pandas as pd\n",
    "import numpy as np"
   ]
  },
  {
   "cell_type": "code",
   "execution_count": 53,
   "metadata": {},
   "outputs": [],
   "source": [
    "reviews = pd.read_excel('LakeTahoe_POI_Reviews.xlsx')\n",
    "nearby = pd.read_csv('LakeTahoe_POI_NearBy.csv')"
   ]
  },
  {
   "cell_type": "code",
   "execution_count": 56,
   "metadata": {},
   "outputs": [
    {
     "data": {
      "text/html": [
       "<div>\n",
       "<style scoped>\n",
       "    .dataframe tbody tr th:only-of-type {\n",
       "        vertical-align: middle;\n",
       "    }\n",
       "\n",
       "    .dataframe tbody tr th {\n",
       "        vertical-align: top;\n",
       "    }\n",
       "\n",
       "    .dataframe thead th {\n",
       "        text-align: right;\n",
       "    }\n",
       "</style>\n",
       "<table border=\"1\" class=\"dataframe\">\n",
       "  <thead>\n",
       "    <tr style=\"text-align: right;\">\n",
       "      <th></th>\n",
       "      <th>Text</th>\n",
       "      <th>Text1</th>\n",
       "      <th>Text2</th>\n",
       "      <th>Text3</th>\n",
       "      <th>Text4</th>\n",
       "      <th>Text5</th>\n",
       "      <th>Text6</th>\n",
       "      <th>Text7</th>\n",
       "      <th>Text9</th>\n",
       "      <th>Text10</th>\n",
       "      <th>Text11</th>\n",
       "      <th>Text13</th>\n",
       "      <th>Text8</th>\n",
       "      <th>Field1</th>\n",
       "      <th>Root</th>\n",
       "    </tr>\n",
       "  </thead>\n",
       "  <tbody>\n",
       "    <tr>\n",
       "      <th>0</th>\n",
       "      <td>The Gondola at Heavenly</td>\n",
       "      <td>2,394 Reviews</td>\n",
       "      <td>Tramways, Ski &amp; Snowboard Areas</td>\n",
       "      <td>Hop aboard an 8-passenger glass cabin and be w...</td>\n",
       "      <td>Hours Today: 8:30 AM - 4:00 PM</td>\n",
       "      <td>Address:\\n4080 Lake Tahoe Blvd., South Lake Ta...</td>\n",
       "      <td>NaN</td>\n",
       "      <td>4.5</td>\n",
       "      <td>4080 Lake Tahoe Blvd., South Lake Tahoe, CA 96...</td>\n",
       "      <td>Closed Now\\nHours Today: 8:30 AM - 4:00 PM\\nSe...</td>\n",
       "      <td>Ski &amp; Snowboard Areas</td>\n",
       "      <td>NaN</td>\n",
       "      <td>NaN</td>\n",
       "      <td>Perfect views of the lake and the operation wa...</td>\n",
       "      <td>NaN</td>\n",
       "    </tr>\n",
       "    <tr>\n",
       "      <th>1</th>\n",
       "      <td>The Gondola at Heavenly</td>\n",
       "      <td>2,394 Reviews</td>\n",
       "      <td>Tramways, Ski &amp; Snowboard Areas</td>\n",
       "      <td>Hop aboard an 8-passenger glass cabin and be w...</td>\n",
       "      <td>Hours Today: 8:30 AM - 4:00 PM</td>\n",
       "      <td>Address:\\n4080 Lake Tahoe Blvd., South Lake Ta...</td>\n",
       "      <td>NaN</td>\n",
       "      <td>4.5</td>\n",
       "      <td>4080 Lake Tahoe Blvd., South Lake Tahoe, CA 96...</td>\n",
       "      <td>Closed Now\\nHours Today: 8:30 AM - 4:00 PM\\nSe...</td>\n",
       "      <td>Ski &amp; Snowboard Areas</td>\n",
       "      <td>NaN</td>\n",
       "      <td>NaN</td>\n",
       "      <td>Although the tickets are pricey, the view is p...</td>\n",
       "      <td>NaN</td>\n",
       "    </tr>\n",
       "  </tbody>\n",
       "</table>\n",
       "</div>"
      ],
      "text/plain": [
       "                      Text          Text1                            Text2  \\\n",
       "0  The Gondola at Heavenly  2,394 Reviews  Tramways, Ski & Snowboard Areas   \n",
       "1  The Gondola at Heavenly  2,394 Reviews  Tramways, Ski & Snowboard Areas   \n",
       "\n",
       "                                               Text3  \\\n",
       "0  Hop aboard an 8-passenger glass cabin and be w...   \n",
       "1  Hop aboard an 8-passenger glass cabin and be w...   \n",
       "\n",
       "                            Text4  \\\n",
       "0  Hours Today: 8:30 AM - 4:00 PM   \n",
       "1  Hours Today: 8:30 AM - 4:00 PM   \n",
       "\n",
       "                                               Text5 Text6  Text7  \\\n",
       "0  Address:\\n4080 Lake Tahoe Blvd., South Lake Ta...   NaN    4.5   \n",
       "1  Address:\\n4080 Lake Tahoe Blvd., South Lake Ta...   NaN    4.5   \n",
       "\n",
       "                                               Text9  \\\n",
       "0  4080 Lake Tahoe Blvd., South Lake Tahoe, CA 96...   \n",
       "1  4080 Lake Tahoe Blvd., South Lake Tahoe, CA 96...   \n",
       "\n",
       "                                              Text10                 Text11  \\\n",
       "0  Closed Now\\nHours Today: 8:30 AM - 4:00 PM\\nSe...  Ski & Snowboard Areas   \n",
       "1  Closed Now\\nHours Today: 8:30 AM - 4:00 PM\\nSe...  Ski & Snowboard Areas   \n",
       "\n",
       "   Text13 Text8                                             Field1  Root  \n",
       "0     NaN   NaN  Perfect views of the lake and the operation wa...   NaN  \n",
       "1     NaN   NaN  Although the tickets are pricey, the view is p...   NaN  "
      ]
     },
     "execution_count": 56,
     "metadata": {},
     "output_type": "execute_result"
    }
   ],
   "source": [
    "reviews.head(2)"
   ]
  },
  {
   "cell_type": "code",
   "execution_count": 57,
   "metadata": {},
   "outputs": [],
   "source": [
    "reviews.columns = [\"POI_name\", \"POI_reviews_count\",\"POI_category\", \"POI_description\", \"POI_hours_today\", \n",
    "                   \"POI_address/sugg_duration\", \n",
    "                   \"POI_address2\", \"POI_rating\", \"POI_address3\", \"POI_opening_hours/address4\",\"POI_category2\",\"Nothing\",\n",
    "                   \"POI_open-close_hours\",\n",
    "                   \"POI_reviews\", \"Root\" ]"
   ]
  },
  {
   "cell_type": "code",
   "execution_count": 58,
   "metadata": {},
   "outputs": [
    {
     "name": "stdout",
     "output_type": "stream",
     "text": [
      "Count of null values column-wise:\n"
     ]
    },
    {
     "data": {
      "text/plain": [
       "POI_name                        0\n",
       "POI_reviews_count               0\n",
       "POI_category                    0\n",
       "POI_description               612\n",
       "POI_hours_today               676\n",
       "POI_address/sugg_duration     676\n",
       "POI_address2                  726\n",
       "POI_rating                    613\n",
       "POI_address3                    6\n",
       "POI_opening_hours/address4    612\n",
       "POI_category2                 310\n",
       "Nothing                       776\n",
       "POI_open-close_hours          726\n",
       "POI_reviews                     0\n",
       "Root                          776\n",
       "dtype: int64"
      ]
     },
     "execution_count": 58,
     "metadata": {},
     "output_type": "execute_result"
    }
   ],
   "source": [
    "print(\"Count of null values column-wise:\")\n",
    "reviews.isna().sum()"
   ]
  },
  {
   "cell_type": "code",
   "execution_count": 59,
   "metadata": {},
   "outputs": [],
   "source": [
    "POI_sugg_durations = []\n",
    "col = 'POI_address/sugg_duration'\n",
    "for i in range(len(reviews[col])):\n",
    "    value = reviews[col][i]\n",
    "    \n",
    "    if str(value).startswith('Suggested'):\n",
    "        POI_sugg_durations.append(value)\n",
    "    else:\n",
    "        POI_sugg_durations.append(\"NA\")"
   ]
  },
  {
   "cell_type": "code",
   "execution_count": 60,
   "metadata": {},
   "outputs": [],
   "source": [
    "reviews[\"POI_Suggested_Duration\"] = POI_sugg_durations"
   ]
  },
  {
   "cell_type": "code",
   "execution_count": 61,
   "metadata": {},
   "outputs": [],
   "source": [
    "final_reviews = reviews[[\"POI_name\", \"POI_reviews_count\",\"POI_category\", \"POI_description\", \n",
    "                   \"POI_rating\", \"POI_address3\", \"POI_Suggested_Duration\", \"POI_open-close_hours\", \"POI_reviews\"]]"
   ]
  },
  {
   "cell_type": "code",
   "execution_count": 64,
   "metadata": {},
   "outputs": [],
   "source": [
    "final_reviews.columns = [\"POI_name\", \"POI_reviews_count\",\"POI_category\", \"POI_description\", \n",
    "                   \"POI_rating\", \"POI_address\", \"POI_Suggested_Duration\", \"POI_open_close_hours\", \"POI_reviews\"]"
   ]
  },
  {
   "cell_type": "code",
   "execution_count": 65,
   "metadata": {},
   "outputs": [
    {
     "data": {
      "text/plain": [
       "POI_name                    0\n",
       "POI_reviews_count           0\n",
       "POI_category                0\n",
       "POI_description           612\n",
       "POI_rating                613\n",
       "POI_address                 6\n",
       "POI_Suggested_Duration      0\n",
       "POI_open_close_hours      726\n",
       "POI_reviews                 0\n",
       "dtype: int64"
      ]
     },
     "execution_count": 65,
     "metadata": {},
     "output_type": "execute_result"
    }
   ],
   "source": [
    "final_reviews.isna().sum()"
   ]
  },
  {
   "cell_type": "code",
   "execution_count": 68,
   "metadata": {},
   "outputs": [
    {
     "name": "stderr",
     "output_type": "stream",
     "text": [
      "<ipython-input-68-7f765562c0ec>:1: SettingWithCopyWarning: \n",
      "A value is trying to be set on a copy of a slice from a DataFrame.\n",
      "Try using .loc[row_indexer,col_indexer] = value instead\n",
      "\n",
      "See the caveats in the documentation: https://pandas.pydata.org/pandas-docs/stable/user_guide/indexing.html#returning-a-view-versus-a-copy\n",
      "  final_reviews['POI_reviews_count'] = final_reviews['POI_reviews_count'].str.replace('Review', \"\")\n",
      "<ipython-input-68-7f765562c0ec>:2: SettingWithCopyWarning: \n",
      "A value is trying to be set on a copy of a slice from a DataFrame.\n",
      "Try using .loc[row_indexer,col_indexer] = value instead\n",
      "\n",
      "See the caveats in the documentation: https://pandas.pydata.org/pandas-docs/stable/user_guide/indexing.html#returning-a-view-versus-a-copy\n",
      "  final_reviews['POI_reviews_count'] = final_reviews['POI_reviews_count'].str.replace('Reviews', \"\")\n",
      "<ipython-input-68-7f765562c0ec>:3: SettingWithCopyWarning: \n",
      "A value is trying to be set on a copy of a slice from a DataFrame.\n",
      "Try using .loc[row_indexer,col_indexer] = value instead\n",
      "\n",
      "See the caveats in the documentation: https://pandas.pydata.org/pandas-docs/stable/user_guide/indexing.html#returning-a-view-versus-a-copy\n",
      "  final_reviews['POI_reviews_count'] = final_reviews['POI_reviews_count'].str.replace(\",\",\"\")\n",
      "<ipython-input-68-7f765562c0ec>:4: SettingWithCopyWarning: \n",
      "A value is trying to be set on a copy of a slice from a DataFrame.\n",
      "Try using .loc[row_indexer,col_indexer] = value instead\n",
      "\n",
      "See the caveats in the documentation: https://pandas.pydata.org/pandas-docs/stable/user_guide/indexing.html#returning-a-view-versus-a-copy\n",
      "  final_reviews['POI_reviews_count'] = final_reviews['POI_reviews_count'].str.strip().astype(int)\n"
     ]
    },
    {
     "data": {
      "text/plain": [
       "0      2394\n",
       "1      2394\n",
       "2      2394\n",
       "3      2394\n",
       "4      2394\n",
       "       ... \n",
       "771     168\n",
       "772     168\n",
       "773     168\n",
       "774     168\n",
       "775     168\n",
       "Name: POI_reviews_count, Length: 776, dtype: int32"
      ]
     },
     "execution_count": 68,
     "metadata": {},
     "output_type": "execute_result"
    }
   ],
   "source": [
    "final_reviews['POI_reviews_count'] = final_reviews['POI_reviews_count'].str.replace('Review', \"\")\n",
    "final_reviews['POI_reviews_count'] = final_reviews['POI_reviews_count'].str.replace('Reviews', \"\")\n",
    "final_reviews['POI_reviews_count'] = final_reviews['POI_reviews_count'].str.replace(\",\",\"\")\n",
    "final_reviews['POI_reviews_count'] = final_reviews['POI_reviews_count'].str.strip().astype(int)\n",
    "final_reviews['POI_reviews_count']"
   ]
  },
  {
   "cell_type": "code",
   "execution_count": 69,
   "metadata": {},
   "outputs": [
    {
     "name": "stderr",
     "output_type": "stream",
     "text": [
      "<ipython-input-69-622a4103df62>:1: SettingWithCopyWarning: \n",
      "A value is trying to be set on a copy of a slice from a DataFrame.\n",
      "Try using .loc[row_indexer,col_indexer] = value instead\n",
      "\n",
      "See the caveats in the documentation: https://pandas.pydata.org/pandas-docs/stable/user_guide/indexing.html#returning-a-view-versus-a-copy\n",
      "  final_reviews['POI_rating'] = final_reviews['POI_rating'].fillna(method='ffill')\n"
     ]
    },
    {
     "data": {
      "text/plain": [
       "POI_name                    0\n",
       "POI_reviews_count           0\n",
       "POI_category                0\n",
       "POI_description           612\n",
       "POI_rating                  0\n",
       "POI_address                 6\n",
       "POI_Suggested_Duration      0\n",
       "POI_open_close_hours      726\n",
       "POI_reviews                 0\n",
       "dtype: int64"
      ]
     },
     "execution_count": 69,
     "metadata": {},
     "output_type": "execute_result"
    }
   ],
   "source": [
    "final_reviews['POI_rating'] = final_reviews['POI_rating'].fillna(method='ffill')\n",
    "final_reviews.isna().sum()"
   ]
  },
  {
   "cell_type": "code",
   "execution_count": 70,
   "metadata": {},
   "outputs": [],
   "source": [
    "final_reviews.to_csv (r'C:\\Users\\Anurag\\Documents\\TA_data\\New data\\All_Data\\Preprocessed_data\\LakeTahoe_reviews.csv', index = False, header=True)"
   ]
  },
  {
   "cell_type": "code",
   "execution_count": null,
   "metadata": {},
   "outputs": [],
   "source": []
  }
 ],
 "metadata": {
  "kernelspec": {
   "display_name": "Python 3",
   "language": "python",
   "name": "python3"
  },
  "language_info": {
   "codemirror_mode": {
    "name": "ipython",
    "version": 3
   },
   "file_extension": ".py",
   "mimetype": "text/x-python",
   "name": "python",
   "nbconvert_exporter": "python",
   "pygments_lexer": "ipython3",
   "version": "3.8.5"
  }
 },
 "nbformat": 4,
 "nbformat_minor": 4
}
