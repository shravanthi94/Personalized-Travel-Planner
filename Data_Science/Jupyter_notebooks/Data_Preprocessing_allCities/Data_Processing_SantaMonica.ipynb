{
 "cells": [
  {
   "cell_type": "code",
   "execution_count": 33,
   "metadata": {},
   "outputs": [],
   "source": [
    "import pandas as pd\n",
    "import numpy as np"
   ]
  },
  {
   "cell_type": "code",
   "execution_count": 34,
   "metadata": {},
   "outputs": [],
   "source": [
    "reviews = pd.read_excel('SantaMonica_POI_Reviews.xlsx')\n",
    "nearby = pd.read_csv('SantaMonica_POI_NearBy.csv')"
   ]
  },
  {
   "cell_type": "code",
   "execution_count": 35,
   "metadata": {},
   "outputs": [
    {
     "data": {
      "text/html": [
       "<div>\n",
       "<style scoped>\n",
       "    .dataframe tbody tr th:only-of-type {\n",
       "        vertical-align: middle;\n",
       "    }\n",
       "\n",
       "    .dataframe tbody tr th {\n",
       "        vertical-align: top;\n",
       "    }\n",
       "\n",
       "    .dataframe thead th {\n",
       "        text-align: right;\n",
       "    }\n",
       "</style>\n",
       "<table border=\"1\" class=\"dataframe\">\n",
       "  <thead>\n",
       "    <tr style=\"text-align: right;\">\n",
       "      <th></th>\n",
       "      <th>POI_name</th>\n",
       "      <th>POI_reviews_count</th>\n",
       "      <th>POI_category</th>\n",
       "      <th>POI_description</th>\n",
       "      <th>POI_hours_today</th>\n",
       "      <th>POI_address/sugg_duration</th>\n",
       "      <th>POI_address2</th>\n",
       "      <th>POI_rating</th>\n",
       "      <th>POI_address3</th>\n",
       "      <th>POI_address/sugg_duration2</th>\n",
       "      <th>CATEGORY2</th>\n",
       "      <th>Text12</th>\n",
       "      <th>POI_open-close_hours</th>\n",
       "      <th>POI_reviews</th>\n",
       "      <th>Root</th>\n",
       "    </tr>\n",
       "  </thead>\n",
       "  <tbody>\n",
       "    <tr>\n",
       "      <th>0</th>\n",
       "      <td>Santa Monica State Beach</td>\n",
       "      <td>6,705 Reviews</td>\n",
       "      <td>State Parks</td>\n",
       "      <td>NaN</td>\n",
       "      <td>NaN</td>\n",
       "      <td>NaN</td>\n",
       "      <td>NaN</td>\n",
       "      <td>4.5</td>\n",
       "      <td>Ocean Ave at Colorado Ave, Santa Monica, CA 90401</td>\n",
       "      <td>NaN</td>\n",
       "      <td>Beaches</td>\n",
       "      <td>NaN</td>\n",
       "      <td>NaN</td>\n",
       "      <td>Garbage everywhere.  The broad walk, nor the b...</td>\n",
       "      <td>NaN</td>\n",
       "    </tr>\n",
       "    <tr>\n",
       "      <th>1</th>\n",
       "      <td>Santa Monica State Beach</td>\n",
       "      <td>6,705 Reviews</td>\n",
       "      <td>State Parks</td>\n",
       "      <td>NaN</td>\n",
       "      <td>NaN</td>\n",
       "      <td>NaN</td>\n",
       "      <td>NaN</td>\n",
       "      <td>4.5</td>\n",
       "      <td>Ocean Ave at Colorado Ave, Santa Monica, CA 90401</td>\n",
       "      <td>NaN</td>\n",
       "      <td>Beaches</td>\n",
       "      <td>NaN</td>\n",
       "      <td>NaN</td>\n",
       "      <td>Had places to skate, ride bikes and then the b...</td>\n",
       "      <td>NaN</td>\n",
       "    </tr>\n",
       "    <tr>\n",
       "      <th>2</th>\n",
       "      <td>Santa Monica State Beach</td>\n",
       "      <td>6,705 Reviews</td>\n",
       "      <td>State Parks</td>\n",
       "      <td>NaN</td>\n",
       "      <td>NaN</td>\n",
       "      <td>NaN</td>\n",
       "      <td>NaN</td>\n",
       "      <td>4.5</td>\n",
       "      <td>Ocean Ave at Colorado Ave, Santa Monica, CA 90401</td>\n",
       "      <td>NaN</td>\n",
       "      <td>Beaches</td>\n",
       "      <td>NaN</td>\n",
       "      <td>NaN</td>\n",
       "      <td>I helped lifeguard,  TRYING to impress on kids...</td>\n",
       "      <td>NaN</td>\n",
       "    </tr>\n",
       "    <tr>\n",
       "      <th>3</th>\n",
       "      <td>Santa Monica State Beach</td>\n",
       "      <td>6,705 Reviews</td>\n",
       "      <td>State Parks</td>\n",
       "      <td>NaN</td>\n",
       "      <td>NaN</td>\n",
       "      <td>NaN</td>\n",
       "      <td>NaN</td>\n",
       "      <td>4.5</td>\n",
       "      <td>Ocean Ave at Colorado Ave, Santa Monica, CA 90401</td>\n",
       "      <td>NaN</td>\n",
       "      <td>Beaches</td>\n",
       "      <td>NaN</td>\n",
       "      <td>NaN</td>\n",
       "      <td>the best place ever ! i love enjoy this place,...</td>\n",
       "      <td>NaN</td>\n",
       "    </tr>\n",
       "    <tr>\n",
       "      <th>4</th>\n",
       "      <td>Santa Monica State Beach</td>\n",
       "      <td>6,705 Reviews</td>\n",
       "      <td>State Parks</td>\n",
       "      <td>NaN</td>\n",
       "      <td>NaN</td>\n",
       "      <td>NaN</td>\n",
       "      <td>NaN</td>\n",
       "      <td>4.5</td>\n",
       "      <td>Ocean Ave at Colorado Ave, Santa Monica, CA 90401</td>\n",
       "      <td>NaN</td>\n",
       "      <td>Beaches</td>\n",
       "      <td>NaN</td>\n",
       "      <td>NaN</td>\n",
       "      <td>If you have a surfing board ,I think this loca...</td>\n",
       "      <td>NaN</td>\n",
       "    </tr>\n",
       "  </tbody>\n",
       "</table>\n",
       "</div>"
      ],
      "text/plain": [
       "                   POI_name POI_reviews_count POI_category POI_description  \\\n",
       "0  Santa Monica State Beach     6,705 Reviews  State Parks             NaN   \n",
       "1  Santa Monica State Beach     6,705 Reviews  State Parks             NaN   \n",
       "2  Santa Monica State Beach     6,705 Reviews  State Parks             NaN   \n",
       "3  Santa Monica State Beach     6,705 Reviews  State Parks             NaN   \n",
       "4  Santa Monica State Beach     6,705 Reviews  State Parks             NaN   \n",
       "\n",
       "  POI_hours_today POI_address/sugg_duration POI_address2  POI_rating  \\\n",
       "0             NaN                       NaN          NaN         4.5   \n",
       "1             NaN                       NaN          NaN         4.5   \n",
       "2             NaN                       NaN          NaN         4.5   \n",
       "3             NaN                       NaN          NaN         4.5   \n",
       "4             NaN                       NaN          NaN         4.5   \n",
       "\n",
       "                                        POI_address3  \\\n",
       "0  Ocean Ave at Colorado Ave, Santa Monica, CA 90401   \n",
       "1  Ocean Ave at Colorado Ave, Santa Monica, CA 90401   \n",
       "2  Ocean Ave at Colorado Ave, Santa Monica, CA 90401   \n",
       "3  Ocean Ave at Colorado Ave, Santa Monica, CA 90401   \n",
       "4  Ocean Ave at Colorado Ave, Santa Monica, CA 90401   \n",
       "\n",
       "  POI_address/sugg_duration2 CATEGORY2  Text12 POI_open-close_hours  \\\n",
       "0                        NaN   Beaches     NaN                  NaN   \n",
       "1                        NaN   Beaches     NaN                  NaN   \n",
       "2                        NaN   Beaches     NaN                  NaN   \n",
       "3                        NaN   Beaches     NaN                  NaN   \n",
       "4                        NaN   Beaches     NaN                  NaN   \n",
       "\n",
       "                                         POI_reviews  Root  \n",
       "0  Garbage everywhere.  The broad walk, nor the b...   NaN  \n",
       "1  Had places to skate, ride bikes and then the b...   NaN  \n",
       "2  I helped lifeguard,  TRYING to impress on kids...   NaN  \n",
       "3  the best place ever ! i love enjoy this place,...   NaN  \n",
       "4  If you have a surfing board ,I think this loca...   NaN  "
      ]
     },
     "execution_count": 35,
     "metadata": {},
     "output_type": "execute_result"
    }
   ],
   "source": [
    "reviews.head()"
   ]
  },
  {
   "cell_type": "code",
   "execution_count": 36,
   "metadata": {},
   "outputs": [
    {
     "data": {
      "text/plain": [
       "POI_name                         0\n",
       "POI_reviews_count                0\n",
       "POI_category                   150\n",
       "POI_description                533\n",
       "POI_hours_today                897\n",
       "POI_address/sugg_duration      788\n",
       "POI_address2                  1039\n",
       "POI_rating                     796\n",
       "POI_address3                    50\n",
       "POI_address/sugg_duration2     533\n",
       "CATEGORY2                      974\n",
       "Text12                        1172\n",
       "POI_open-close_hours           957\n",
       "POI_reviews                      1\n",
       "Root                          1172\n",
       "dtype: int64"
      ]
     },
     "execution_count": 36,
     "metadata": {},
     "output_type": "execute_result"
    }
   ],
   "source": [
    "reviews.isna().sum()"
   ]
  },
  {
   "cell_type": "code",
   "execution_count": 37,
   "metadata": {},
   "outputs": [],
   "source": [
    "POI_sugg_durations = []\n",
    "col = 'POI_address/sugg_duration'\n",
    "col2 = 'POI_address/sugg_duration2'\n",
    "for i in range(len(reviews[col])):\n",
    "    value = reviews[col][i]\n",
    "    value2 = reviews[col2][i]\n",
    "    \n",
    "    if str(value).startswith('Suggested'):\n",
    "        POI_sugg_durations.append(value)\n",
    "    elif str(value2).startswith('Suggested'):\n",
    "        POI_sugg_durations.append(value2)\n",
    "    else:\n",
    "        POI_sugg_durations.append(\"NA\")\n",
    "        \n",
    "reviews[\"POI_Suggested_Duration\"] = POI_sugg_durations"
   ]
  },
  {
   "cell_type": "code",
   "execution_count": 38,
   "metadata": {},
   "outputs": [],
   "source": [
    "final_reviews = reviews[[\"POI_name\", \"POI_reviews_count\",\"POI_category\", \"POI_description\", \n",
    "                   \"POI_rating\", \"POI_address3\", \"POI_Suggested_Duration\", \"POI_open-close_hours\", \"POI_reviews\"]]"
   ]
  },
  {
   "cell_type": "code",
   "execution_count": 39,
   "metadata": {},
   "outputs": [],
   "source": [
    "final_reviews.columns = [\"POI_name\", \"POI_reviews_count\",\"POI_category\", \"POI_description\", \n",
    "                   \"POI_rating\", \"POI_address\", \"POI_Suggested_Duration\", \"POI_open_close_hours\", \"POI_reviews\"]"
   ]
  },
  {
   "cell_type": "code",
   "execution_count": 41,
   "metadata": {},
   "outputs": [
    {
     "name": "stderr",
     "output_type": "stream",
     "text": [
      "<ipython-input-41-2466e1610e24>:1: SettingWithCopyWarning: \n",
      "A value is trying to be set on a copy of a slice from a DataFrame.\n",
      "Try using .loc[row_indexer,col_indexer] = value instead\n",
      "\n",
      "See the caveats in the documentation: https://pandas.pydata.org/pandas-docs/stable/user_guide/indexing.html#returning-a-view-versus-a-copy\n",
      "  final_reviews['POI_reviews_count'] = final_reviews['POI_reviews_count'].str.replace('Reviews', \"\")\n",
      "<ipython-input-41-2466e1610e24>:2: SettingWithCopyWarning: \n",
      "A value is trying to be set on a copy of a slice from a DataFrame.\n",
      "Try using .loc[row_indexer,col_indexer] = value instead\n",
      "\n",
      "See the caveats in the documentation: https://pandas.pydata.org/pandas-docs/stable/user_guide/indexing.html#returning-a-view-versus-a-copy\n",
      "  final_reviews['POI_reviews_count'] = final_reviews['POI_reviews_count'].str.replace('Review', \"\")\n",
      "<ipython-input-41-2466e1610e24>:3: SettingWithCopyWarning: \n",
      "A value is trying to be set on a copy of a slice from a DataFrame.\n",
      "Try using .loc[row_indexer,col_indexer] = value instead\n",
      "\n",
      "See the caveats in the documentation: https://pandas.pydata.org/pandas-docs/stable/user_guide/indexing.html#returning-a-view-versus-a-copy\n",
      "  final_reviews['POI_reviews_count'] = final_reviews['POI_reviews_count'].str.replace(\",\",\"\")\n",
      "<ipython-input-41-2466e1610e24>:4: SettingWithCopyWarning: \n",
      "A value is trying to be set on a copy of a slice from a DataFrame.\n",
      "Try using .loc[row_indexer,col_indexer] = value instead\n",
      "\n",
      "See the caveats in the documentation: https://pandas.pydata.org/pandas-docs/stable/user_guide/indexing.html#returning-a-view-versus-a-copy\n",
      "  final_reviews['POI_reviews_count'] = final_reviews['POI_reviews_count'].str.strip().astype(int)\n"
     ]
    }
   ],
   "source": [
    "final_reviews['POI_reviews_count'] = final_reviews['POI_reviews_count'].str.replace('Reviews', \"\")\n",
    "final_reviews['POI_reviews_count'] = final_reviews['POI_reviews_count'].str.replace('Review', \"\")\n",
    "final_reviews['POI_reviews_count'] = final_reviews['POI_reviews_count'].str.replace(\",\",\"\")\n",
    "final_reviews['POI_reviews_count'] = final_reviews['POI_reviews_count'].str.strip().astype(int)"
   ]
  },
  {
   "cell_type": "code",
   "execution_count": 42,
   "metadata": {},
   "outputs": [
    {
     "name": "stderr",
     "output_type": "stream",
     "text": [
      "<ipython-input-42-622a4103df62>:1: SettingWithCopyWarning: \n",
      "A value is trying to be set on a copy of a slice from a DataFrame.\n",
      "Try using .loc[row_indexer,col_indexer] = value instead\n",
      "\n",
      "See the caveats in the documentation: https://pandas.pydata.org/pandas-docs/stable/user_guide/indexing.html#returning-a-view-versus-a-copy\n",
      "  final_reviews['POI_rating'] = final_reviews['POI_rating'].fillna(method='ffill')\n"
     ]
    },
    {
     "data": {
      "text/plain": [
       "POI_name                    0\n",
       "POI_reviews_count           0\n",
       "POI_category              150\n",
       "POI_description           533\n",
       "POI_rating                  0\n",
       "POI_address                50\n",
       "POI_Suggested_Duration      0\n",
       "POI_open_close_hours      957\n",
       "POI_reviews                 1\n",
       "dtype: int64"
      ]
     },
     "execution_count": 42,
     "metadata": {},
     "output_type": "execute_result"
    }
   ],
   "source": [
    "final_reviews['POI_rating'] = final_reviews['POI_rating'].fillna(method='ffill')\n",
    "final_reviews.isna().sum()"
   ]
  },
  {
   "cell_type": "code",
   "execution_count": 43,
   "metadata": {},
   "outputs": [],
   "source": [
    "final_reviews.to_csv (r'C:\\Users\\Anurag\\Documents\\TA_data\\New data\\All_Data\\Preprocessed_data\\SantaMonica_reviews.csv', index = False, header=True)"
   ]
  },
  {
   "cell_type": "code",
   "execution_count": null,
   "metadata": {},
   "outputs": [],
   "source": []
  }
 ],
 "metadata": {
  "kernelspec": {
   "display_name": "Python 3",
   "language": "python",
   "name": "python3"
  },
  "language_info": {
   "codemirror_mode": {
    "name": "ipython",
    "version": 3
   },
   "file_extension": ".py",
   "mimetype": "text/x-python",
   "name": "python",
   "nbconvert_exporter": "python",
   "pygments_lexer": "ipython3",
   "version": "3.8.5"
  }
 },
 "nbformat": 4,
 "nbformat_minor": 4
}
