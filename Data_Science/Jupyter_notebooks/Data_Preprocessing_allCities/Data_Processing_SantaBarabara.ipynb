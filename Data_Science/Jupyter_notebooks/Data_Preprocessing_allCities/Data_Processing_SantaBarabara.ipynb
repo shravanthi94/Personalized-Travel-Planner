{
 "cells": [
  {
   "cell_type": "code",
   "execution_count": 11,
   "metadata": {},
   "outputs": [],
   "source": [
    "import pandas as pd\n",
    "import numpy as np"
   ]
  },
  {
   "cell_type": "code",
   "execution_count": 12,
   "metadata": {},
   "outputs": [],
   "source": [
    "reviews = pd.read_csv('SantaBarbara_POI_Reviews.csv')\n",
    "nearby = pd.read_csv('SantaBarbara_POI_NearBy.csv')"
   ]
  },
  {
   "cell_type": "code",
   "execution_count": 13,
   "metadata": {},
   "outputs": [
    {
     "data": {
      "text/html": [
       "<div>\n",
       "<style scoped>\n",
       "    .dataframe tbody tr th:only-of-type {\n",
       "        vertical-align: middle;\n",
       "    }\n",
       "\n",
       "    .dataframe tbody tr th {\n",
       "        vertical-align: top;\n",
       "    }\n",
       "\n",
       "    .dataframe thead th {\n",
       "        text-align: right;\n",
       "    }\n",
       "</style>\n",
       "<table border=\"1\" class=\"dataframe\">\n",
       "  <thead>\n",
       "    <tr style=\"text-align: right;\">\n",
       "      <th></th>\n",
       "      <th>POI_name</th>\n",
       "      <th>POI_reviews_count</th>\n",
       "      <th>POI_category</th>\n",
       "      <th>POI_description</th>\n",
       "      <th>POI_hours_today</th>\n",
       "      <th>POI_address/sugg_duration</th>\n",
       "      <th>POI_address2</th>\n",
       "      <th>POI_rating</th>\n",
       "      <th>POI_address3</th>\n",
       "      <th>POI_address/sugg_duration2</th>\n",
       "      <th>category2</th>\n",
       "      <th>Text13</th>\n",
       "      <th>POI_open-close_hours</th>\n",
       "      <th>POI_reviews</th>\n",
       "      <th>Text12</th>\n",
       "      <th>Root</th>\n",
       "    </tr>\n",
       "  </thead>\n",
       "  <tbody>\n",
       "    <tr>\n",
       "      <th>0</th>\n",
       "      <td>Santa Barbara County Courthouse</td>\n",
       "      <td>2969 Reviews</td>\n",
       "      <td>Historic Sites, Points of Interest &amp; Landmarks...</td>\n",
       "      <td>Visit the Santa Barbara Courthouse to enjoy a ...</td>\n",
       "      <td>NaN</td>\n",
       "      <td>Address:\\n1100 Anacapa St, Santa Barbara, CA 9...</td>\n",
       "      <td>NaN</td>\n",
       "      <td>4.5</td>\n",
       "      <td>1100 Anacapa St, Santa Barbara, CA 93101-2099</td>\n",
       "      <td>Suggested Duration:&lt; 1 hour</td>\n",
       "      <td>NaN</td>\n",
       "      <td>NaN</td>\n",
       "      <td>NaN</td>\n",
       "      <td>We visited the Courthouse on a Friday and the ...</td>\n",
       "      <td>NaN</td>\n",
       "      <td>NaN</td>\n",
       "    </tr>\n",
       "    <tr>\n",
       "      <th>1</th>\n",
       "      <td>Santa Barbara County Courthouse</td>\n",
       "      <td>2969 Reviews</td>\n",
       "      <td>Historic Sites, Points of Interest &amp; Landmarks...</td>\n",
       "      <td>Visit the Santa Barbara Courthouse to enjoy a ...</td>\n",
       "      <td>NaN</td>\n",
       "      <td>Address:\\n1100 Anacapa St, Santa Barbara, CA 9...</td>\n",
       "      <td>NaN</td>\n",
       "      <td>4.5</td>\n",
       "      <td>1100 Anacapa St, Santa Barbara, CA 93101-2099</td>\n",
       "      <td>Suggested Duration:&lt; 1 hour</td>\n",
       "      <td>NaN</td>\n",
       "      <td>NaN</td>\n",
       "      <td>NaN</td>\n",
       "      <td>Don’t leave town without checking out the cour...</td>\n",
       "      <td>NaN</td>\n",
       "      <td>undefined</td>\n",
       "    </tr>\n",
       "    <tr>\n",
       "      <th>2</th>\n",
       "      <td>Santa Barbara County Courthouse</td>\n",
       "      <td>2969 Reviews</td>\n",
       "      <td>Historic Sites, Points of Interest &amp; Landmarks...</td>\n",
       "      <td>Visit the Santa Barbara Courthouse to enjoy a ...</td>\n",
       "      <td>NaN</td>\n",
       "      <td>Address:\\n1100 Anacapa St, Santa Barbara, CA 9...</td>\n",
       "      <td>NaN</td>\n",
       "      <td>4.5</td>\n",
       "      <td>1100 Anacapa St, Santa Barbara, CA 93101-2099</td>\n",
       "      <td>Suggested Duration:&lt; 1 hour</td>\n",
       "      <td>NaN</td>\n",
       "      <td>NaN</td>\n",
       "      <td>NaN</td>\n",
       "      <td>This government building is beautiful, with ar...</td>\n",
       "      <td>NaN</td>\n",
       "      <td>undefined</td>\n",
       "    </tr>\n",
       "    <tr>\n",
       "      <th>3</th>\n",
       "      <td>Santa Barbara County Courthouse</td>\n",
       "      <td>2969 Reviews</td>\n",
       "      <td>Historic Sites, Points of Interest &amp; Landmarks...</td>\n",
       "      <td>Visit the Santa Barbara Courthouse to enjoy a ...</td>\n",
       "      <td>NaN</td>\n",
       "      <td>Address:\\n1100 Anacapa St, Santa Barbara, CA 9...</td>\n",
       "      <td>NaN</td>\n",
       "      <td>4.5</td>\n",
       "      <td>1100 Anacapa St, Santa Barbara, CA 93101-2099</td>\n",
       "      <td>Suggested Duration:&lt; 1 hour</td>\n",
       "      <td>NaN</td>\n",
       "      <td>NaN</td>\n",
       "      <td>NaN</td>\n",
       "      <td>I just attended a civil ceremony on the steps ...</td>\n",
       "      <td>NaN</td>\n",
       "      <td>undefined</td>\n",
       "    </tr>\n",
       "    <tr>\n",
       "      <th>4</th>\n",
       "      <td>Santa Barbara County Courthouse</td>\n",
       "      <td>2969 Reviews</td>\n",
       "      <td>Historic Sites, Points of Interest &amp; Landmarks...</td>\n",
       "      <td>Visit the Santa Barbara Courthouse to enjoy a ...</td>\n",
       "      <td>NaN</td>\n",
       "      <td>Address:\\n1100 Anacapa St, Santa Barbara, CA 9...</td>\n",
       "      <td>NaN</td>\n",
       "      <td>4.5</td>\n",
       "      <td>1100 Anacapa St, Santa Barbara, CA 93101-2099</td>\n",
       "      <td>Suggested Duration:&lt; 1 hour</td>\n",
       "      <td>NaN</td>\n",
       "      <td>NaN</td>\n",
       "      <td>NaN</td>\n",
       "      <td>Our tour guide Nancy was awesome very friendly...</td>\n",
       "      <td>NaN</td>\n",
       "      <td>undefined</td>\n",
       "    </tr>\n",
       "  </tbody>\n",
       "</table>\n",
       "</div>"
      ],
      "text/plain": [
       "                          POI_name POI_reviews_count  \\\n",
       "0  Santa Barbara County Courthouse      2969 Reviews   \n",
       "1  Santa Barbara County Courthouse      2969 Reviews   \n",
       "2  Santa Barbara County Courthouse      2969 Reviews   \n",
       "3  Santa Barbara County Courthouse      2969 Reviews   \n",
       "4  Santa Barbara County Courthouse      2969 Reviews   \n",
       "\n",
       "                                        POI_category  \\\n",
       "0  Historic Sites, Points of Interest & Landmarks...   \n",
       "1  Historic Sites, Points of Interest & Landmarks...   \n",
       "2  Historic Sites, Points of Interest & Landmarks...   \n",
       "3  Historic Sites, Points of Interest & Landmarks...   \n",
       "4  Historic Sites, Points of Interest & Landmarks...   \n",
       "\n",
       "                                     POI_description POI_hours_today  \\\n",
       "0  Visit the Santa Barbara Courthouse to enjoy a ...             NaN   \n",
       "1  Visit the Santa Barbara Courthouse to enjoy a ...             NaN   \n",
       "2  Visit the Santa Barbara Courthouse to enjoy a ...             NaN   \n",
       "3  Visit the Santa Barbara Courthouse to enjoy a ...             NaN   \n",
       "4  Visit the Santa Barbara Courthouse to enjoy a ...             NaN   \n",
       "\n",
       "                           POI_address/sugg_duration POI_address2  POI_rating  \\\n",
       "0  Address:\\n1100 Anacapa St, Santa Barbara, CA 9...          NaN         4.5   \n",
       "1  Address:\\n1100 Anacapa St, Santa Barbara, CA 9...          NaN         4.5   \n",
       "2  Address:\\n1100 Anacapa St, Santa Barbara, CA 9...          NaN         4.5   \n",
       "3  Address:\\n1100 Anacapa St, Santa Barbara, CA 9...          NaN         4.5   \n",
       "4  Address:\\n1100 Anacapa St, Santa Barbara, CA 9...          NaN         4.5   \n",
       "\n",
       "                                    POI_address3   POI_address/sugg_duration2  \\\n",
       "0  1100 Anacapa St, Santa Barbara, CA 93101-2099  Suggested Duration:< 1 hour   \n",
       "1  1100 Anacapa St, Santa Barbara, CA 93101-2099  Suggested Duration:< 1 hour   \n",
       "2  1100 Anacapa St, Santa Barbara, CA 93101-2099  Suggested Duration:< 1 hour   \n",
       "3  1100 Anacapa St, Santa Barbara, CA 93101-2099  Suggested Duration:< 1 hour   \n",
       "4  1100 Anacapa St, Santa Barbara, CA 93101-2099  Suggested Duration:< 1 hour   \n",
       "\n",
       "  category2  Text13 POI_open-close_hours  \\\n",
       "0       NaN     NaN                  NaN   \n",
       "1       NaN     NaN                  NaN   \n",
       "2       NaN     NaN                  NaN   \n",
       "3       NaN     NaN                  NaN   \n",
       "4       NaN     NaN                  NaN   \n",
       "\n",
       "                                         POI_reviews  Text12       Root  \n",
       "0  We visited the Courthouse on a Friday and the ...     NaN        NaN  \n",
       "1  Don’t leave town without checking out the cour...     NaN  undefined  \n",
       "2  This government building is beautiful, with ar...     NaN  undefined  \n",
       "3  I just attended a civil ceremony on the steps ...     NaN  undefined  \n",
       "4  Our tour guide Nancy was awesome very friendly...     NaN  undefined  "
      ]
     },
     "execution_count": 13,
     "metadata": {},
     "output_type": "execute_result"
    }
   ],
   "source": [
    "reviews.head()"
   ]
  },
  {
   "cell_type": "code",
   "execution_count": 14,
   "metadata": {},
   "outputs": [
    {
     "name": "stdout",
     "output_type": "stream",
     "text": [
      "<class 'pandas.core.frame.DataFrame'>\n",
      "RangeIndex: 1408 entries, 0 to 1407\n",
      "Data columns (total 16 columns):\n",
      " #   Column                      Non-Null Count  Dtype  \n",
      "---  ------                      --------------  -----  \n",
      " 0   POI_name                    1408 non-null   object \n",
      " 1   POI_reviews_count           1408 non-null   object \n",
      " 2   POI_category                1408 non-null   object \n",
      " 3   POI_description             790 non-null    object \n",
      " 4   POI_hours_today             519 non-null    object \n",
      " 5   POI_address/sugg_duration   613 non-null    object \n",
      " 6   POI_address2                219 non-null    object \n",
      " 7   POI_rating                  656 non-null    float64\n",
      " 8   POI_address3                1393 non-null   object \n",
      " 9   POI_address/sugg_duration2  790 non-null    object \n",
      " 10  category2                   150 non-null    object \n",
      " 11  Text13                      0 non-null      float64\n",
      " 12  POI_open-close_hours        453 non-null    object \n",
      " 13  POI_reviews                 1408 non-null   object \n",
      " 14  Text12                      0 non-null      float64\n",
      " 15  Root                        1332 non-null   object \n",
      "dtypes: float64(3), object(13)\n",
      "memory usage: 176.1+ KB\n",
      "\n",
      "\n",
      "Count of null values column-wise:\n"
     ]
    },
    {
     "data": {
      "text/plain": [
       "POI_name                         0\n",
       "POI_reviews_count                0\n",
       "POI_category                     0\n",
       "POI_description                618\n",
       "POI_hours_today                889\n",
       "POI_address/sugg_duration      795\n",
       "POI_address2                  1189\n",
       "POI_rating                     752\n",
       "POI_address3                    15\n",
       "POI_address/sugg_duration2     618\n",
       "category2                     1258\n",
       "Text13                        1408\n",
       "POI_open-close_hours           955\n",
       "POI_reviews                      0\n",
       "Text12                        1408\n",
       "Root                            76\n",
       "dtype: int64"
      ]
     },
     "execution_count": 14,
     "metadata": {},
     "output_type": "execute_result"
    }
   ],
   "source": [
    "reviews.info()\n",
    "print('\\n')\n",
    "print(\"Count of null values column-wise:\")\n",
    "reviews.isna().sum()"
   ]
  },
  {
   "cell_type": "code",
   "execution_count": 15,
   "metadata": {},
   "outputs": [],
   "source": [
    "POI_sugg_durations = []\n",
    "col = 'POI_address/sugg_duration'\n",
    "col2 = 'POI_address/sugg_duration2'\n",
    "for i in range(len(reviews[col])):\n",
    "    value = reviews[col][i]\n",
    "    value2 = reviews[col2][i]\n",
    "    \n",
    "    if str(value).startswith('Suggested'):\n",
    "        POI_sugg_durations.append(value)\n",
    "    elif str(value2).startswith('Suggested'):\n",
    "        POI_sugg_durations.append(value2)\n",
    "    else:\n",
    "        POI_sugg_durations.append(\"NA\")\n",
    "        \n",
    "reviews[\"POI_Suggested_Duration\"] = POI_sugg_durations"
   ]
  },
  {
   "cell_type": "code",
   "execution_count": 16,
   "metadata": {},
   "outputs": [],
   "source": [
    "final_reviews = reviews[[\"POI_name\", \"POI_reviews_count\",\"POI_category\", \"POI_description\", \n",
    "                   \"POI_rating\", \"POI_address3\", \"POI_Suggested_Duration\", \"POI_open-close_hours\", \"POI_reviews\"]]"
   ]
  },
  {
   "cell_type": "code",
   "execution_count": 17,
   "metadata": {},
   "outputs": [],
   "source": [
    "final_reviews.columns = [\"POI_name\", \"POI_reviews_count\",\"POI_category\", \"POI_description\", \n",
    "                   \"POI_rating\", \"POI_address\", \"POI_Suggested_Duration\", \"POI_open_close_hours\", \"POI_reviews\"]"
   ]
  },
  {
   "cell_type": "code",
   "execution_count": 18,
   "metadata": {},
   "outputs": [
    {
     "name": "stderr",
     "output_type": "stream",
     "text": [
      "<ipython-input-18-42edeb49ed32>:1: SettingWithCopyWarning: \n",
      "A value is trying to be set on a copy of a slice from a DataFrame.\n",
      "Try using .loc[row_indexer,col_indexer] = value instead\n",
      "\n",
      "See the caveats in the documentation: https://pandas.pydata.org/pandas-docs/stable/user_guide/indexing.html#returning-a-view-versus-a-copy\n",
      "  final_reviews['POI_reviews_count'] = final_reviews['POI_reviews_count'].str.replace('Reviews', \"\")\n",
      "<ipython-input-18-42edeb49ed32>:2: SettingWithCopyWarning: \n",
      "A value is trying to be set on a copy of a slice from a DataFrame.\n",
      "Try using .loc[row_indexer,col_indexer] = value instead\n",
      "\n",
      "See the caveats in the documentation: https://pandas.pydata.org/pandas-docs/stable/user_guide/indexing.html#returning-a-view-versus-a-copy\n",
      "  final_reviews['POI_reviews_count'] = final_reviews['POI_reviews_count'].str.replace(\",\",\"\")\n",
      "<ipython-input-18-42edeb49ed32>:3: SettingWithCopyWarning: \n",
      "A value is trying to be set on a copy of a slice from a DataFrame.\n",
      "Try using .loc[row_indexer,col_indexer] = value instead\n",
      "\n",
      "See the caveats in the documentation: https://pandas.pydata.org/pandas-docs/stable/user_guide/indexing.html#returning-a-view-versus-a-copy\n",
      "  final_reviews['POI_reviews_count'] = final_reviews['POI_reviews_count'].str.strip().astype(int)\n"
     ]
    }
   ],
   "source": [
    "final_reviews['POI_reviews_count'] = final_reviews['POI_reviews_count'].str.replace('Reviews', \"\")\n",
    "final_reviews['POI_reviews_count'] = final_reviews['POI_reviews_count'].str.replace(\",\",\"\")\n",
    "final_reviews['POI_reviews_count'] = final_reviews['POI_reviews_count'].str.strip().astype(int)"
   ]
  },
  {
   "cell_type": "code",
   "execution_count": 19,
   "metadata": {},
   "outputs": [
    {
     "name": "stderr",
     "output_type": "stream",
     "text": [
      "<ipython-input-19-c5a93c8ed764>:1: SettingWithCopyWarning: \n",
      "A value is trying to be set on a copy of a slice from a DataFrame.\n",
      "Try using .loc[row_indexer,col_indexer] = value instead\n",
      "\n",
      "See the caveats in the documentation: https://pandas.pydata.org/pandas-docs/stable/user_guide/indexing.html#returning-a-view-versus-a-copy\n",
      "  final_reviews['POI_rating'] = final_reviews['POI_rating'].fillna(method='ffill')\n"
     ]
    },
    {
     "data": {
      "text/plain": [
       "POI_name                    0\n",
       "POI_reviews_count           0\n",
       "POI_category                0\n",
       "POI_description           618\n",
       "POI_rating                  0\n",
       "POI_address                15\n",
       "POI_Suggested_Duration      0\n",
       "POI_open_close_hours      955\n",
       "POI_reviews                 0\n",
       "dtype: int64"
      ]
     },
     "execution_count": 19,
     "metadata": {},
     "output_type": "execute_result"
    }
   ],
   "source": [
    "final_reviews['POI_rating'] = final_reviews['POI_rating'].fillna(method='ffill')\n",
    "\n",
    "final_reviews.isna().sum()"
   ]
  },
  {
   "cell_type": "code",
   "execution_count": 20,
   "metadata": {},
   "outputs": [],
   "source": [
    "final_reviews.to_csv (r'C:\\Users\\Anurag\\Documents\\TA_data\\New data\\All_Data\\Preprocessed_data\\SantaBarbara_reviews.csv', index = False, header=True)"
   ]
  },
  {
   "cell_type": "code",
   "execution_count": null,
   "metadata": {},
   "outputs": [],
   "source": []
  },
  {
   "cell_type": "code",
   "execution_count": null,
   "metadata": {},
   "outputs": [],
   "source": []
  }
 ],
 "metadata": {
  "kernelspec": {
   "display_name": "Python 3",
   "language": "python",
   "name": "python3"
  },
  "language_info": {
   "codemirror_mode": {
    "name": "ipython",
    "version": 3
   },
   "file_extension": ".py",
   "mimetype": "text/x-python",
   "name": "python",
   "nbconvert_exporter": "python",
   "pygments_lexer": "ipython3",
   "version": "3.8.5"
  }
 },
 "nbformat": 4,
 "nbformat_minor": 4
}
